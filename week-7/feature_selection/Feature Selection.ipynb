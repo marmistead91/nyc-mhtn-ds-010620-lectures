{
 "cells": [
  {
   "cell_type": "markdown",
   "metadata": {
    "slideshow": {
     "slide_type": "slide"
    }
   },
   "source": [
    "# Feature Selection\n",
    "\n",
    "Feature selection is the process of selecting a subset of relevant features for use in model construction\n"
   ]
  },
  {
   "cell_type": "markdown",
   "metadata": {
    "slideshow": {
     "slide_type": "subslide"
    }
   },
   "source": [
    "## Top reasons to use feature selection are:\n",
    "* It enables the machine learning algorithm to train faster.\n",
    "* It reduces the complexity of a model and makes it easier to interpret.\n",
    "* It improves the accuracy of a model if the right subset is chosen.\n",
    "* It reduces overfitting."
   ]
  },
  {
   "cell_type": "markdown",
   "metadata": {},
   "source": [
    "***Import the packages we will use for this notebook***"
   ]
  },
  {
   "cell_type": "code",
   "execution_count": 1,
   "metadata": {},
   "outputs": [],
   "source": [
    "import pandas as pd\n",
    "pd.set_option('display.max_columns', 300)\n",
    "import numpy as np\n",
    "from matplotlib import pyplot as plt\n",
    "from sklearn import linear_model\n",
    "from sklearn.model_selection import train_test_split\n",
    "from sklearn import metrics\n",
    "from sklearn.preprocessing import PolynomialFeatures\n",
    "from sklearn.preprocessing import StandardScaler\n",
    "import seaborn as sns\n",
    "sns.set(style=\"whitegrid\")\n",
    "\n"
   ]
  },
  {
   "cell_type": "markdown",
   "metadata": {},
   "source": [
    "***Set up or initial dataframe by removing variable and transforming others.***"
   ]
  },
  {
   "cell_type": "code",
   "execution_count": null,
   "metadata": {},
   "outputs": [],
   "source": []
  },
  {
   "cell_type": "code",
   "execution_count": 2,
   "metadata": {},
   "outputs": [],
   "source": [
    "df = pd.read_csv('resources/cleaned_movie_data.csv', index_col=0)"
   ]
  },
  {
   "cell_type": "code",
   "execution_count": 3,
   "metadata": {},
   "outputs": [
    {
     "data": {
      "text/plain": [
       "color                        0.000481\n",
       "director_name                0.000241\n",
       "num_critic_for_reviews       0.000722\n",
       "duration                     0.000481\n",
       "director_facebook_likes      0.000241\n",
       "actor_3_facebook_likes       0.003127\n",
       "actor_2_name                 0.001443\n",
       "actor_1_facebook_likes       0.000962\n",
       "gross                        0.000000\n",
       "genres                       0.000000\n",
       "actor_1_name                 0.000962\n",
       "movie_title                  0.000000\n",
       "num_voted_users              0.000000\n",
       "cast_total_facebook_likes    0.000000\n",
       "actor_3_name                 0.003127\n",
       "facenumber_in_poster         0.001684\n",
       "movie_imdb_link              0.000000\n",
       "num_user_for_reviews         0.000241\n",
       "language                     0.000722\n",
       "country                      0.000000\n",
       "content_rating               0.015396\n",
       "budget                       0.000000\n",
       "title_year                   0.000241\n",
       "actor_2_facebook_likes       0.001443\n",
       "imdb_score                   0.000000\n",
       "movie_facebook_likes         0.000000\n",
       "rating                       0.000000\n",
       "G                            0.000000\n",
       "Other                        0.000000\n",
       "PG                           0.000000\n",
       "PG-13                        0.000000\n",
       "R                            0.000000\n",
       "dtype: float64"
      ]
     },
     "execution_count": 3,
     "metadata": {},
     "output_type": "execute_result"
    }
   ],
   "source": [
    "df.isnull().mean()"
   ]
  },
  {
   "cell_type": "code",
   "execution_count": 4,
   "metadata": {},
   "outputs": [],
   "source": [
    "df.drop(columns=['color', 'director_name','actor_2_name','language', 'country',\n",
    "                 'movie_imdb_link', 'movie_title', 'num_voted_users', \n",
    "                 'movie_facebook_likes','actor_1_name', 'actor_3_name',\n",
    "                 'content_rating', 'rating', 'genres'], \n",
    "                 axis =1, inplace=True)"
   ]
  },
  {
   "cell_type": "code",
   "execution_count": 5,
   "metadata": {},
   "outputs": [
    {
     "data": {
      "text/plain": [
       "Index(['num_critic_for_reviews', 'duration', 'director_facebook_likes',\n",
       "       'actor_3_facebook_likes', 'actor_1_facebook_likes', 'gross',\n",
       "       'cast_total_facebook_likes', 'facenumber_in_poster',\n",
       "       'num_user_for_reviews', 'budget', 'title_year',\n",
       "       'actor_2_facebook_likes', 'imdb_score', 'G', 'Other', 'PG', 'PG-13',\n",
       "       'R'],\n",
       "      dtype='object')"
      ]
     },
     "execution_count": 5,
     "metadata": {},
     "output_type": "execute_result"
    }
   ],
   "source": [
    "df.columns\n"
   ]
  },
  {
   "cell_type": "code",
   "execution_count": 6,
   "metadata": {},
   "outputs": [],
   "source": [
    "\n",
    "df['gross_log'] = np.log(df['gross'])\n",
    "df['gross_sqrt'] = np.sqrt(df['gross'])"
   ]
  },
  {
   "cell_type": "code",
   "execution_count": 7,
   "metadata": {},
   "outputs": [],
   "source": [
    "cols  = ['duration','director_facebook_likes', 'actor_3_facebook_likes', \n",
    "       'actor_1_facebook_likes', 'gross', 'cast_total_facebook_likes',\n",
    "       'facenumber_in_poster', 'budget'\n",
    "       ]"
   ]
  },
  {
   "cell_type": "code",
   "execution_count": 8,
   "metadata": {},
   "outputs": [],
   "source": [
    "#break the colums in to groups to plot 4 on a row at a time\n",
    "n = 4\n",
    "row_groups= [cols[i:i+n] for i in range(0, len(cols), n) ]"
   ]
  },
  {
   "cell_type": "code",
   "execution_count": 9,
   "metadata": {},
   "outputs": [
    {
     "data": {
      "image/png": "[encoded data removed]",
      "text/plain": [
       "<Figure size 864x216 with 4 Axes>"
      ]
     },
     "metadata": {
      "needs_background": "light"
     },
     "output_type": "display_data"
    },
    {
     "data": {
      "image/png": "[encoded data removed]",
      "text/plain": [
       "<Figure size 864x216 with 4 Axes>"
      ]
     },
     "metadata": {
      "needs_background": "light"
     },
     "output_type": "display_data"
    }
   ],
   "source": [
    "for i in row_groups:\n",
    "    pp = sns.pairplot(data=df, y_vars=['gross_sqrt'],x_vars=i, kind=\"reg\", height=3)"
   ]
  },
  {
   "cell_type": "code",
   "execution_count": 10,
   "metadata": {},
   "outputs": [],
   "source": [
    "feature_columns = ['num_critic_for_reviews', 'duration', 'director_facebook_likes',\n",
    "       'actor_3_facebook_likes', 'actor_1_facebook_likes',\n",
    "       'cast_total_facebook_likes', 'facenumber_in_poster',\n",
    "       'num_user_for_reviews', 'budget', 'title_year',\n",
    "       'actor_2_facebook_likes', 'imdb_score', 'G', 'PG', 'PG-13',\n",
    "       'R']"
   ]
  },
  {
   "cell_type": "code",
   "execution_count": 11,
   "metadata": {},
   "outputs": [],
   "source": [
    "target = df['gross_sqrt']\n",
    "features = df[feature_columns]\n"
   ]
  },
  {
   "cell_type": "code",
   "execution_count": 12,
   "metadata": {},
   "outputs": [
    {
     "data": {
      "text/plain": [
       "num_critic_for_reviews       0.000722\n",
       "duration                     0.000481\n",
       "director_facebook_likes      0.000241\n",
       "actor_3_facebook_likes       0.003127\n",
       "actor_1_facebook_likes       0.000962\n",
       "cast_total_facebook_likes    0.000000\n",
       "facenumber_in_poster         0.001684\n",
       "num_user_for_reviews         0.000241\n",
       "budget                       0.000000\n",
       "title_year                   0.000241\n",
       "actor_2_facebook_likes       0.001443\n",
       "imdb_score                   0.000000\n",
       "G                            0.000000\n",
       "PG                           0.000000\n",
       "PG-13                        0.000000\n",
       "R                            0.000000\n",
       "dtype: float64"
      ]
     },
     "execution_count": 12,
     "metadata": {},
     "output_type": "execute_result"
    }
   ],
   "source": [
    "features.isnull().mean()"
   ]
  },
  {
   "cell_type": "code",
   "execution_count": 15,
   "metadata": {},
   "outputs": [
    {
     "name": "stderr",
     "output_type": "stream",
     "text": [
      "/Users/michaelarmistead/opt/anaconda3/lib/python3.7/site-packages/pandas/core/generic.py:6287: SettingWithCopyWarning: \n",
      "A value is trying to be set on a copy of a slice from a DataFrame\n",
      "\n",
      "See the caveats in the documentation: http://pandas.pydata.org/pandas-docs/stable/user_guide/indexing.html#returning-a-view-versus-a-copy\n",
      "  self._update_inplace(new_data)\n"
     ]
    }
   ],
   "source": [
    "features.fillna(features.mean(), inplace=True)"
   ]
  },
  {
   "cell_type": "code",
   "execution_count": 16,
   "metadata": {},
   "outputs": [],
   "source": [
    "X_train, X_test, y_train, y_test = train_test_split(features, target, random_state=34,test_size=0.2)\n"
   ]
  },
  {
   "cell_type": "code",
   "execution_count": 17,
   "metadata": {},
   "outputs": [],
   "source": [
    "scaler = StandardScaler()\n",
    "scaler.fit(X_train)\n",
    "X_train =pd.DataFrame(data=scaler.transform(X_train), columns=feature_columns)\n",
    "X_test =pd.DataFrame(data=scaler.transform(X_test), columns=feature_columns)"
   ]
  },
  {
   "cell_type": "markdown",
   "metadata": {
    "slideshow": {
     "slide_type": "subslide"
    }
   },
   "source": [
    "## Types of Feature Selection\n",
    "\n",
    "* Filter Methods\n",
    "* Wrapper Methods\n",
    "* Embedded Methods"
   ]
  },
  {
   "cell_type": "markdown",
   "metadata": {
    "slideshow": {
     "slide_type": "slide"
    }
   },
   "source": [
    "# Filter Methods\n",
    "Filter feature selection methods apply a statistical measure to assign a scoring to each feature. The features are ranked by the score and either selected to be kept or removed from the dataset. The methods are often univariate and consider the feature independently, or with regard to the dependent variable."
   ]
  },
  {
   "cell_type": "markdown",
   "metadata": {},
   "source": [
    "![alt text](./resources/Filter_1.png)"
   ]
  },
  {
   "cell_type": "markdown",
   "metadata": {
    "slideshow": {
     "slide_type": "fragment"
    }
   },
   "source": [
    "**Examples:** \n",
    "* F-Test\n",
    "* Chi squared test \n",
    "* Information gain \n",
    "* Correlation coefficient scores"
   ]
  },
  {
   "cell_type": "markdown",
   "metadata": {},
   "source": [
    "![alt text](./resources/FS1.webp)"
   ]
  },
  {
   "cell_type": "markdown",
   "metadata": {},
   "source": [
    "### Removing Variables based on correlation coefficient"
   ]
  },
  {
   "cell_type": "code",
   "execution_count": 18,
   "metadata": {
    "scrolled": true
   },
   "outputs": [
    {
     "data": {
      "text/html": [
       "<div>\n",
       "<style scoped>\n",
       "    .dataframe tbody tr th:only-of-type {\n",
       "        vertical-align: middle;\n",
       "    }\n",
       "\n",
       "    .dataframe tbody tr th {\n",
       "        vertical-align: top;\n",
       "    }\n",
       "\n",
       "    .dataframe thead th {\n",
       "        text-align: right;\n",
       "    }\n",
       "</style>\n",
       "<table border=\"1\" class=\"dataframe\">\n",
       "  <thead>\n",
       "    <tr style=\"text-align: right;\">\n",
       "      <th></th>\n",
       "      <th>num_critic_for_reviews</th>\n",
       "      <th>duration</th>\n",
       "      <th>director_facebook_likes</th>\n",
       "      <th>actor_3_facebook_likes</th>\n",
       "      <th>actor_1_facebook_likes</th>\n",
       "      <th>cast_total_facebook_likes</th>\n",
       "      <th>facenumber_in_poster</th>\n",
       "      <th>num_user_for_reviews</th>\n",
       "      <th>budget</th>\n",
       "      <th>title_year</th>\n",
       "      <th>actor_2_facebook_likes</th>\n",
       "      <th>imdb_score</th>\n",
       "      <th>G</th>\n",
       "      <th>PG</th>\n",
       "      <th>PG-13</th>\n",
       "      <th>R</th>\n",
       "    </tr>\n",
       "  </thead>\n",
       "  <tbody>\n",
       "    <tr>\n",
       "      <td>num_critic_for_reviews</td>\n",
       "      <td>NaN</td>\n",
       "      <td>0.233651</td>\n",
       "      <td>0.172501</td>\n",
       "      <td>0.286006</td>\n",
       "      <td>0.234381</td>\n",
       "      <td>0.303281</td>\n",
       "      <td>0.055412</td>\n",
       "      <td>0.588263</td>\n",
       "      <td>0.103484</td>\n",
       "      <td>0.374128</td>\n",
       "      <td>0.265470</td>\n",
       "      <td>0.335835</td>\n",
       "      <td>0.043042</td>\n",
       "      <td>0.097969</td>\n",
       "      <td>0.118778</td>\n",
       "      <td>0.028232</td>\n",
       "    </tr>\n",
       "    <tr>\n",
       "      <td>duration</td>\n",
       "      <td>NaN</td>\n",
       "      <td>NaN</td>\n",
       "      <td>0.170137</td>\n",
       "      <td>0.133264</td>\n",
       "      <td>0.112518</td>\n",
       "      <td>0.146539</td>\n",
       "      <td>0.025047</td>\n",
       "      <td>0.341762</td>\n",
       "      <td>0.056126</td>\n",
       "      <td>0.130880</td>\n",
       "      <td>0.129495</td>\n",
       "      <td>0.355279</td>\n",
       "      <td>0.085139</td>\n",
       "      <td>0.089881</td>\n",
       "      <td>0.065814</td>\n",
       "      <td>0.026375</td>\n",
       "    </tr>\n",
       "    <tr>\n",
       "      <td>director_facebook_likes</td>\n",
       "      <td>NaN</td>\n",
       "      <td>NaN</td>\n",
       "      <td>NaN</td>\n",
       "      <td>0.131357</td>\n",
       "      <td>0.121783</td>\n",
       "      <td>0.146311</td>\n",
       "      <td>0.049127</td>\n",
       "      <td>0.199631</td>\n",
       "      <td>0.018217</td>\n",
       "      <td>0.053664</td>\n",
       "      <td>0.115993</td>\n",
       "      <td>0.178064</td>\n",
       "      <td>0.029206</td>\n",
       "      <td>0.003278</td>\n",
       "      <td>0.025332</td>\n",
       "      <td>0.001628</td>\n",
       "    </tr>\n",
       "    <tr>\n",
       "      <td>actor_3_facebook_likes</td>\n",
       "      <td>NaN</td>\n",
       "      <td>NaN</td>\n",
       "      <td>NaN</td>\n",
       "      <td>NaN</td>\n",
       "      <td>0.283538</td>\n",
       "      <td>0.540273</td>\n",
       "      <td>0.088198</td>\n",
       "      <td>0.233662</td>\n",
       "      <td>0.037576</td>\n",
       "      <td>0.111232</td>\n",
       "      <td>0.536880</td>\n",
       "      <td>0.073665</td>\n",
       "      <td>0.024498</td>\n",
       "      <td>0.000612</td>\n",
       "      <td>0.106806</td>\n",
       "      <td>0.065953</td>\n",
       "    </tr>\n",
       "    <tr>\n",
       "      <td>actor_1_facebook_likes</td>\n",
       "      <td>NaN</td>\n",
       "      <td>NaN</td>\n",
       "      <td>NaN</td>\n",
       "      <td>NaN</td>\n",
       "      <td>NaN</td>\n",
       "      <td>0.930081</td>\n",
       "      <td>0.075536</td>\n",
       "      <td>0.172275</td>\n",
       "      <td>0.018367</td>\n",
       "      <td>0.111811</td>\n",
       "      <td>0.498573</td>\n",
       "      <td>0.102894</td>\n",
       "      <td>0.045049</td>\n",
       "      <td>0.015268</td>\n",
       "      <td>0.065782</td>\n",
       "      <td>0.004441</td>\n",
       "    </tr>\n",
       "    <tr>\n",
       "      <td>cast_total_facebook_likes</td>\n",
       "      <td>NaN</td>\n",
       "      <td>NaN</td>\n",
       "      <td>NaN</td>\n",
       "      <td>NaN</td>\n",
       "      <td>NaN</td>\n",
       "      <td>NaN</td>\n",
       "      <td>0.090797</td>\n",
       "      <td>0.231147</td>\n",
       "      <td>0.029752</td>\n",
       "      <td>0.134165</td>\n",
       "      <td>0.747303</td>\n",
       "      <td>0.112324</td>\n",
       "      <td>0.047439</td>\n",
       "      <td>0.012379</td>\n",
       "      <td>0.091366</td>\n",
       "      <td>0.014573</td>\n",
       "    </tr>\n",
       "    <tr>\n",
       "      <td>facenumber_in_poster</td>\n",
       "      <td>NaN</td>\n",
       "      <td>NaN</td>\n",
       "      <td>NaN</td>\n",
       "      <td>NaN</td>\n",
       "      <td>NaN</td>\n",
       "      <td>NaN</td>\n",
       "      <td>NaN</td>\n",
       "      <td>0.084999</td>\n",
       "      <td>0.024343</td>\n",
       "      <td>0.066297</td>\n",
       "      <td>0.060158</td>\n",
       "      <td>0.081380</td>\n",
       "      <td>0.078428</td>\n",
       "      <td>0.028314</td>\n",
       "      <td>0.068498</td>\n",
       "      <td>0.018037</td>\n",
       "    </tr>\n",
       "    <tr>\n",
       "      <td>num_user_for_reviews</td>\n",
       "      <td>NaN</td>\n",
       "      <td>NaN</td>\n",
       "      <td>NaN</td>\n",
       "      <td>NaN</td>\n",
       "      <td>NaN</td>\n",
       "      <td>NaN</td>\n",
       "      <td>NaN</td>\n",
       "      <td>NaN</td>\n",
       "      <td>0.066221</td>\n",
       "      <td>0.008311</td>\n",
       "      <td>0.201357</td>\n",
       "      <td>0.312924</td>\n",
       "      <td>0.032971</td>\n",
       "      <td>0.080131</td>\n",
       "      <td>0.120076</td>\n",
       "      <td>0.001373</td>\n",
       "    </tr>\n",
       "    <tr>\n",
       "      <td>budget</td>\n",
       "      <td>NaN</td>\n",
       "      <td>NaN</td>\n",
       "      <td>NaN</td>\n",
       "      <td>NaN</td>\n",
       "      <td>NaN</td>\n",
       "      <td>NaN</td>\n",
       "      <td>NaN</td>\n",
       "      <td>NaN</td>\n",
       "      <td>NaN</td>\n",
       "      <td>0.041344</td>\n",
       "      <td>0.030411</td>\n",
       "      <td>0.032116</td>\n",
       "      <td>0.005126</td>\n",
       "      <td>0.011883</td>\n",
       "      <td>0.030054</td>\n",
       "      <td>0.025623</td>\n",
       "    </tr>\n",
       "    <tr>\n",
       "      <td>title_year</td>\n",
       "      <td>NaN</td>\n",
       "      <td>NaN</td>\n",
       "      <td>NaN</td>\n",
       "      <td>NaN</td>\n",
       "      <td>NaN</td>\n",
       "      <td>NaN</td>\n",
       "      <td>NaN</td>\n",
       "      <td>NaN</td>\n",
       "      <td>NaN</td>\n",
       "      <td>NaN</td>\n",
       "      <td>0.108387</td>\n",
       "      <td>0.129067</td>\n",
       "      <td>0.073135</td>\n",
       "      <td>0.061506</td>\n",
       "      <td>0.165022</td>\n",
       "      <td>0.010812</td>\n",
       "    </tr>\n",
       "    <tr>\n",
       "      <td>actor_2_facebook_likes</td>\n",
       "      <td>NaN</td>\n",
       "      <td>NaN</td>\n",
       "      <td>NaN</td>\n",
       "      <td>NaN</td>\n",
       "      <td>NaN</td>\n",
       "      <td>NaN</td>\n",
       "      <td>NaN</td>\n",
       "      <td>NaN</td>\n",
       "      <td>NaN</td>\n",
       "      <td>NaN</td>\n",
       "      <td>NaN</td>\n",
       "      <td>0.099854</td>\n",
       "      <td>0.040777</td>\n",
       "      <td>0.011255</td>\n",
       "      <td>0.064696</td>\n",
       "      <td>0.008049</td>\n",
       "    </tr>\n",
       "    <tr>\n",
       "      <td>imdb_score</td>\n",
       "      <td>NaN</td>\n",
       "      <td>NaN</td>\n",
       "      <td>NaN</td>\n",
       "      <td>NaN</td>\n",
       "      <td>NaN</td>\n",
       "      <td>NaN</td>\n",
       "      <td>NaN</td>\n",
       "      <td>NaN</td>\n",
       "      <td>NaN</td>\n",
       "      <td>NaN</td>\n",
       "      <td>NaN</td>\n",
       "      <td>NaN</td>\n",
       "      <td>0.038582</td>\n",
       "      <td>0.068840</td>\n",
       "      <td>0.133599</td>\n",
       "      <td>0.128371</td>\n",
       "    </tr>\n",
       "    <tr>\n",
       "      <td>G</td>\n",
       "      <td>NaN</td>\n",
       "      <td>NaN</td>\n",
       "      <td>NaN</td>\n",
       "      <td>NaN</td>\n",
       "      <td>NaN</td>\n",
       "      <td>NaN</td>\n",
       "      <td>NaN</td>\n",
       "      <td>NaN</td>\n",
       "      <td>NaN</td>\n",
       "      <td>NaN</td>\n",
       "      <td>NaN</td>\n",
       "      <td>NaN</td>\n",
       "      <td>NaN</td>\n",
       "      <td>0.064495</td>\n",
       "      <td>0.108782</td>\n",
       "      <td>0.136316</td>\n",
       "    </tr>\n",
       "    <tr>\n",
       "      <td>PG</td>\n",
       "      <td>NaN</td>\n",
       "      <td>NaN</td>\n",
       "      <td>NaN</td>\n",
       "      <td>NaN</td>\n",
       "      <td>NaN</td>\n",
       "      <td>NaN</td>\n",
       "      <td>NaN</td>\n",
       "      <td>NaN</td>\n",
       "      <td>NaN</td>\n",
       "      <td>NaN</td>\n",
       "      <td>NaN</td>\n",
       "      <td>NaN</td>\n",
       "      <td>NaN</td>\n",
       "      <td>NaN</td>\n",
       "      <td>0.299932</td>\n",
       "      <td>0.375848</td>\n",
       "    </tr>\n",
       "    <tr>\n",
       "      <td>PG-13</td>\n",
       "      <td>NaN</td>\n",
       "      <td>NaN</td>\n",
       "      <td>NaN</td>\n",
       "      <td>NaN</td>\n",
       "      <td>NaN</td>\n",
       "      <td>NaN</td>\n",
       "      <td>NaN</td>\n",
       "      <td>NaN</td>\n",
       "      <td>NaN</td>\n",
       "      <td>NaN</td>\n",
       "      <td>NaN</td>\n",
       "      <td>NaN</td>\n",
       "      <td>NaN</td>\n",
       "      <td>NaN</td>\n",
       "      <td>NaN</td>\n",
       "      <td>0.633933</td>\n",
       "    </tr>\n",
       "    <tr>\n",
       "      <td>R</td>\n",
       "      <td>NaN</td>\n",
       "      <td>NaN</td>\n",
       "      <td>NaN</td>\n",
       "      <td>NaN</td>\n",
       "      <td>NaN</td>\n",
       "      <td>NaN</td>\n",
       "      <td>NaN</td>\n",
       "      <td>NaN</td>\n",
       "      <td>NaN</td>\n",
       "      <td>NaN</td>\n",
       "      <td>NaN</td>\n",
       "      <td>NaN</td>\n",
       "      <td>NaN</td>\n",
       "      <td>NaN</td>\n",
       "      <td>NaN</td>\n",
       "      <td>NaN</td>\n",
       "    </tr>\n",
       "  </tbody>\n",
       "</table>\n",
       "</div>"
      ],
      "text/plain": [
       "                           num_critic_for_reviews  duration  \\\n",
       "num_critic_for_reviews                        NaN  0.233651   \n",
       "duration                                      NaN       NaN   \n",
       "director_facebook_likes                       NaN       NaN   \n",
       "actor_3_facebook_likes                        NaN       NaN   \n",
       "actor_1_facebook_likes                        NaN       NaN   \n",
       "cast_total_facebook_likes                     NaN       NaN   \n",
       "facenumber_in_poster                          NaN       NaN   \n",
       "num_user_for_reviews                          NaN       NaN   \n",
       "budget                                        NaN       NaN   \n",
       "title_year                                    NaN       NaN   \n",
       "actor_2_facebook_likes                        NaN       NaN   \n",
       "imdb_score                                    NaN       NaN   \n",
       "G                                             NaN       NaN   \n",
       "PG                                            NaN       NaN   \n",
       "PG-13                                         NaN       NaN   \n",
       "R                                             NaN       NaN   \n",
       "\n",
       "                           director_facebook_likes  actor_3_facebook_likes  \\\n",
       "num_critic_for_reviews                    0.172501                0.286006   \n",
       "duration                                  0.170137                0.133264   \n",
       "director_facebook_likes                        NaN                0.131357   \n",
       "actor_3_facebook_likes                         NaN                     NaN   \n",
       "actor_1_facebook_likes                         NaN                     NaN   \n",
       "cast_total_facebook_likes                      NaN                     NaN   \n",
       "facenumber_in_poster                           NaN                     NaN   \n",
       "num_user_for_reviews                           NaN                     NaN   \n",
       "budget                                         NaN                     NaN   \n",
       "title_year                                     NaN                     NaN   \n",
       "actor_2_facebook_likes                         NaN                     NaN   \n",
       "imdb_score                                     NaN                     NaN   \n",
       "G                                              NaN                     NaN   \n",
       "PG                                             NaN                     NaN   \n",
       "PG-13                                          NaN                     NaN   \n",
       "R                                              NaN                     NaN   \n",
       "\n",
       "                           actor_1_facebook_likes  cast_total_facebook_likes  \\\n",
       "num_critic_for_reviews                   0.234381                   0.303281   \n",
       "duration                                 0.112518                   0.146539   \n",
       "director_facebook_likes                  0.121783                   0.146311   \n",
       "actor_3_facebook_likes                   0.283538                   0.540273   \n",
       "actor_1_facebook_likes                        NaN                   0.930081   \n",
       "cast_total_facebook_likes                     NaN                        NaN   \n",
       "facenumber_in_poster                          NaN                        NaN   \n",
       "num_user_for_reviews                          NaN                        NaN   \n",
       "budget                                        NaN                        NaN   \n",
       "title_year                                    NaN                        NaN   \n",
       "actor_2_facebook_likes                        NaN                        NaN   \n",
       "imdb_score                                    NaN                        NaN   \n",
       "G                                             NaN                        NaN   \n",
       "PG                                            NaN                        NaN   \n",
       "PG-13                                         NaN                        NaN   \n",
       "R                                             NaN                        NaN   \n",
       "\n",
       "                           facenumber_in_poster  num_user_for_reviews  \\\n",
       "num_critic_for_reviews                 0.055412              0.588263   \n",
       "duration                               0.025047              0.341762   \n",
       "director_facebook_likes                0.049127              0.199631   \n",
       "actor_3_facebook_likes                 0.088198              0.233662   \n",
       "actor_1_facebook_likes                 0.075536              0.172275   \n",
       "cast_total_facebook_likes              0.090797              0.231147   \n",
       "facenumber_in_poster                        NaN              0.084999   \n",
       "num_user_for_reviews                        NaN                   NaN   \n",
       "budget                                      NaN                   NaN   \n",
       "title_year                                  NaN                   NaN   \n",
       "actor_2_facebook_likes                      NaN                   NaN   \n",
       "imdb_score                                  NaN                   NaN   \n",
       "G                                           NaN                   NaN   \n",
       "PG                                          NaN                   NaN   \n",
       "PG-13                                       NaN                   NaN   \n",
       "R                                           NaN                   NaN   \n",
       "\n",
       "                             budget  title_year  actor_2_facebook_likes  \\\n",
       "num_critic_for_reviews     0.103484    0.374128                0.265470   \n",
       "duration                   0.056126    0.130880                0.129495   \n",
       "director_facebook_likes    0.018217    0.053664                0.115993   \n",
       "actor_3_facebook_likes     0.037576    0.111232                0.536880   \n",
       "actor_1_facebook_likes     0.018367    0.111811                0.498573   \n",
       "cast_total_facebook_likes  0.029752    0.134165                0.747303   \n",
       "facenumber_in_poster       0.024343    0.066297                0.060158   \n",
       "num_user_for_reviews       0.066221    0.008311                0.201357   \n",
       "budget                          NaN    0.041344                0.030411   \n",
       "title_year                      NaN         NaN                0.108387   \n",
       "actor_2_facebook_likes          NaN         NaN                     NaN   \n",
       "imdb_score                      NaN         NaN                     NaN   \n",
       "G                               NaN         NaN                     NaN   \n",
       "PG                              NaN         NaN                     NaN   \n",
       "PG-13                           NaN         NaN                     NaN   \n",
       "R                               NaN         NaN                     NaN   \n",
       "\n",
       "                           imdb_score         G        PG     PG-13         R  \n",
       "num_critic_for_reviews       0.335835  0.043042  0.097969  0.118778  0.028232  \n",
       "duration                     0.355279  0.085139  0.089881  0.065814  0.026375  \n",
       "director_facebook_likes      0.178064  0.029206  0.003278  0.025332  0.001628  \n",
       "actor_3_facebook_likes       0.073665  0.024498  0.000612  0.106806  0.065953  \n",
       "actor_1_facebook_likes       0.102894  0.045049  0.015268  0.065782  0.004441  \n",
       "cast_total_facebook_likes    0.112324  0.047439  0.012379  0.091366  0.014573  \n",
       "facenumber_in_poster         0.081380  0.078428  0.028314  0.068498  0.018037  \n",
       "num_user_for_reviews         0.312924  0.032971  0.080131  0.120076  0.001373  \n",
       "budget                       0.032116  0.005126  0.011883  0.030054  0.025623  \n",
       "title_year                   0.129067  0.073135  0.061506  0.165022  0.010812  \n",
       "actor_2_facebook_likes       0.099854  0.040777  0.011255  0.064696  0.008049  \n",
       "imdb_score                        NaN  0.038582  0.068840  0.133599  0.128371  \n",
       "G                                 NaN       NaN  0.064495  0.108782  0.136316  \n",
       "PG                                NaN       NaN       NaN  0.299932  0.375848  \n",
       "PG-13                             NaN       NaN       NaN       NaN  0.633933  \n",
       "R                                 NaN       NaN       NaN       NaN       NaN  "
      ]
     },
     "execution_count": 18,
     "metadata": {},
     "output_type": "execute_result"
    }
   ],
   "source": [
    "# Create correlation matrix\n",
    "corr_matrix = X_train.corr().abs()\n",
    "\n",
    "# Select upper triangle of correlation matrix\n",
    "upper = corr_matrix.where(np.triu(np.ones(corr_matrix.shape), k=1).astype(np.bool))\n",
    "upper"
   ]
  },
  {
   "cell_type": "code",
   "execution_count": 20,
   "metadata": {},
   "outputs": [
    {
     "data": {
      "text/plain": [
       "<matplotlib.axes._subplots.AxesSubplot at 0x1a2294d390>"
      ]
     },
     "execution_count": 20,
     "metadata": {},
     "output_type": "execute_result"
    },
    {
     "data": {
      "image/png": "[encoded data removed]",
      "text/plain": [
       "<Figure size 792x648 with 2 Axes>"
      ]
     },
     "metadata": {},
     "output_type": "display_data"
    }
   ],
   "source": [
    "\n",
    "sns.set(style=\"white\")\n",
    "\n",
    "\n",
    "# Compute the correlation matrix\n",
    "corr = X_train.corr()\n",
    "\n",
    "# Generate a mask for the upper triangle\n",
    "mask = np.zeros_like(corr, dtype=np.bool)\n",
    "mask[np.triu_indices_from(mask)] = True\n",
    "\n",
    "# Set up the matplotlib figure\n",
    "f, ax = plt.subplots(figsize=(11, 9))\n",
    "\n",
    "# Generate a custom diverging colormap\n",
    "cmap = sns.diverging_palette(220, 10, as_cmap=True)\n",
    "\n",
    "# Draw the heatmap with the mask and correct aspect ratio\n",
    "sns.heatmap(corr, mask=mask, cmap=cmap, vmax=1, center=0,\n",
    "            square=True, linewidths=.5, cbar_kws={\"shrink\": .5})"
   ]
  },
  {
   "cell_type": "code",
   "execution_count": 21,
   "metadata": {},
   "outputs": [
    {
     "data": {
      "text/plain": [
       "16"
      ]
     },
     "execution_count": 21,
     "metadata": {},
     "output_type": "execute_result"
    }
   ],
   "source": [
    "len(X_train.columns)"
   ]
  },
  {
   "cell_type": "code",
   "execution_count": 22,
   "metadata": {},
   "outputs": [],
   "source": [
    "# Find index of feature columns with correlation greater than 0.95\n",
    "to_drop = [column for column in upper.columns if any(upper[column] > 0.95)]\n",
    "X_train.drop(columns=to_drop, inplace=True)\n",
    "X_test.drop(columns=to_drop, inplace=True)\n"
   ]
  },
  {
   "cell_type": "code",
   "execution_count": 23,
   "metadata": {},
   "outputs": [
    {
     "data": {
      "text/plain": [
       "16"
      ]
     },
     "execution_count": 23,
     "metadata": {},
     "output_type": "execute_result"
    }
   ],
   "source": [
    "len(X_train.columns)"
   ]
  },
  {
   "cell_type": "markdown",
   "metadata": {},
   "source": [
    "## Variance Inflation Factor (VIF) \n",
    "\n",
    "VIFis a measure of colinearity among predictor variables within a multiple regression. The variance inflation factor for the estimated regression coefficient $b_j$ — denoted $VIF_j$ —is just the factor by which the variance of $b_j$ is \"inflated\" by the existence of correlation among the predictor variables in the model.In particular, the variance inflation factor for the jth predictor is:\n",
    "\n",
    "$$VIF_j=\\frac{1}{1-R_{j}^{2}}$$\n",
    "\n",
    "\n",
    "where $R^2_j$  is the $R^2$-value obtained by regressing the jth predictor on the remaining predictors. \n",
    "\n",
    "\n",
    "Inspect the factors for each predictor variable, if the VIF is between 5-10, multicolinearity is likely present and you should consider dropping the variable.\n",
    "\n",
    "https://online.stat.psu.edu/stat462/node/180/"
   ]
  },
  {
   "cell_type": "code",
   "execution_count": 24,
   "metadata": {},
   "outputs": [],
   "source": [
    "from statsmodels.stats.outliers_influence import variance_inflation_factor\n"
   ]
  },
  {
   "cell_type": "code",
   "execution_count": 25,
   "metadata": {},
   "outputs": [
    {
     "data": {
      "text/html": [
       "<div>\n",
       "<style scoped>\n",
       "    .dataframe tbody tr th:only-of-type {\n",
       "        vertical-align: middle;\n",
       "    }\n",
       "\n",
       "    .dataframe tbody tr th {\n",
       "        vertical-align: top;\n",
       "    }\n",
       "\n",
       "    .dataframe thead th {\n",
       "        text-align: right;\n",
       "    }\n",
       "</style>\n",
       "<table border=\"1\" class=\"dataframe\">\n",
       "  <thead>\n",
       "    <tr style=\"text-align: right;\">\n",
       "      <th></th>\n",
       "      <th>VIF Factor</th>\n",
       "      <th>features</th>\n",
       "    </tr>\n",
       "  </thead>\n",
       "  <tbody>\n",
       "    <tr>\n",
       "      <td>0</td>\n",
       "      <td>2.2</td>\n",
       "      <td>num_critic_for_reviews</td>\n",
       "    </tr>\n",
       "    <tr>\n",
       "      <td>1</td>\n",
       "      <td>1.3</td>\n",
       "      <td>duration</td>\n",
       "    </tr>\n",
       "    <tr>\n",
       "      <td>2</td>\n",
       "      <td>1.1</td>\n",
       "      <td>director_facebook_likes</td>\n",
       "    </tr>\n",
       "    <tr>\n",
       "      <td>3</td>\n",
       "      <td>7.7</td>\n",
       "      <td>actor_3_facebook_likes</td>\n",
       "    </tr>\n",
       "    <tr>\n",
       "      <td>4</td>\n",
       "      <td>110.5</td>\n",
       "      <td>actor_1_facebook_likes</td>\n",
       "    </tr>\n",
       "    <tr>\n",
       "      <td>5</td>\n",
       "      <td>200.9</td>\n",
       "      <td>cast_total_facebook_likes</td>\n",
       "    </tr>\n",
       "    <tr>\n",
       "      <td>6</td>\n",
       "      <td>1.0</td>\n",
       "      <td>facenumber_in_poster</td>\n",
       "    </tr>\n",
       "    <tr>\n",
       "      <td>7</td>\n",
       "      <td>1.8</td>\n",
       "      <td>num_user_for_reviews</td>\n",
       "    </tr>\n",
       "    <tr>\n",
       "      <td>8</td>\n",
       "      <td>1.0</td>\n",
       "      <td>budget</td>\n",
       "    </tr>\n",
       "    <tr>\n",
       "      <td>9</td>\n",
       "      <td>1.4</td>\n",
       "      <td>title_year</td>\n",
       "    </tr>\n",
       "    <tr>\n",
       "      <td>10</td>\n",
       "      <td>17.8</td>\n",
       "      <td>actor_2_facebook_likes</td>\n",
       "    </tr>\n",
       "    <tr>\n",
       "      <td>11</td>\n",
       "      <td>1.4</td>\n",
       "      <td>imdb_score</td>\n",
       "    </tr>\n",
       "    <tr>\n",
       "      <td>12</td>\n",
       "      <td>1.5</td>\n",
       "      <td>G</td>\n",
       "    </tr>\n",
       "    <tr>\n",
       "      <td>13</td>\n",
       "      <td>3.7</td>\n",
       "      <td>PG</td>\n",
       "    </tr>\n",
       "    <tr>\n",
       "      <td>14</td>\n",
       "      <td>6.0</td>\n",
       "      <td>PG-13</td>\n",
       "    </tr>\n",
       "    <tr>\n",
       "      <td>15</td>\n",
       "      <td>6.1</td>\n",
       "      <td>R</td>\n",
       "    </tr>\n",
       "  </tbody>\n",
       "</table>\n",
       "</div>"
      ],
      "text/plain": [
       "    VIF Factor                   features\n",
       "0          2.2     num_critic_for_reviews\n",
       "1          1.3                   duration\n",
       "2          1.1    director_facebook_likes\n",
       "3          7.7     actor_3_facebook_likes\n",
       "4        110.5     actor_1_facebook_likes\n",
       "5        200.9  cast_total_facebook_likes\n",
       "6          1.0       facenumber_in_poster\n",
       "7          1.8       num_user_for_reviews\n",
       "8          1.0                     budget\n",
       "9          1.4                 title_year\n",
       "10        17.8     actor_2_facebook_likes\n",
       "11         1.4                 imdb_score\n",
       "12         1.5                          G\n",
       "13         3.7                         PG\n",
       "14         6.0                      PG-13\n",
       "15         6.1                          R"
      ]
     },
     "execution_count": 25,
     "metadata": {},
     "output_type": "execute_result"
    }
   ],
   "source": [
    "vif = pd.DataFrame()\n",
    "vif[\"VIF Factor\"] = [variance_inflation_factor(X_train.values, i) for i in range(X_train.shape[1])]\n",
    "vif[\"features\"] = X_train.columns\n",
    "vif.round(1)"
   ]
  },
  {
   "cell_type": "markdown",
   "metadata": {},
   "source": [
    "###  F Test\n",
    "\n",
    "F Test is a statistical test used to compare between models and check if the difference is significant between the model.\n",
    "\n",
    "F-Test does a hypothesis testing model X and Y where X is a model created by just a constant and Y is the model created by a constant and a feature.\n",
    "\n",
    "The least square errors in both the models are compared and checks if the difference in errors between model X and Y are significant or introduced by chance.\n",
    "\n",
    "F-Test is useful in feature selection as we get to know the significance of each feature in improving the model.\n",
    "\n",
    "Scikit learn provides the Selecting K best features using F-Test."
   ]
  },
  {
   "cell_type": "markdown",
   "metadata": {},
   "source": [
    "***I am using the F-test to sleect the 10 top varaibles for this model***"
   ]
  },
  {
   "cell_type": "code",
   "execution_count": 26,
   "metadata": {},
   "outputs": [
    {
     "data": {
      "text/plain": [
       "SelectKBest(k=10, score_func=<function f_regression at 0x1a232ee5f0>)"
      ]
     },
     "execution_count": 26,
     "metadata": {},
     "output_type": "execute_result"
    }
   ],
   "source": [
    "from sklearn.feature_selection import SelectKBest, f_regression,mutual_info_regression\n",
    "\n",
    "selector = SelectKBest(f_regression, k=10)\n",
    "\n",
    "selector.fit(X_train, y_train)"
   ]
  },
  {
   "cell_type": "code",
   "execution_count": 27,
   "metadata": {},
   "outputs": [],
   "source": [
    "selected_columns = X_train.columns[selector.get_support()]\n",
    "removed_columns = X_train.columns[~selector.get_support()]\n",
    "# X_train = X_train[selected_columns]\n",
    "# X_test = X_test[selected_columns]"
   ]
  },
  {
   "cell_type": "code",
   "execution_count": 28,
   "metadata": {},
   "outputs": [
    {
     "data": {
      "text/plain": [
       "['director_facebook_likes',\n",
       " 'facenumber_in_poster',\n",
       " 'budget',\n",
       " 'title_year',\n",
       " 'imdb_score',\n",
       " 'G']"
      ]
     },
     "execution_count": 28,
     "metadata": {},
     "output_type": "execute_result"
    }
   ],
   "source": [
    "list(removed_columns)"
   ]
  },
  {
   "cell_type": "code",
   "execution_count": 30,
   "metadata": {},
   "outputs": [
    {
     "data": {
      "text/plain": [
       "['num_critic_for_reviews',\n",
       " 'duration',\n",
       " 'actor_3_facebook_likes',\n",
       " 'actor_1_facebook_likes',\n",
       " 'cast_total_facebook_likes',\n",
       " 'num_user_for_reviews',\n",
       " 'actor_2_facebook_likes',\n",
       " 'PG',\n",
       " 'PG-13',\n",
       " 'R']"
      ]
     },
     "execution_count": 30,
     "metadata": {},
     "output_type": "execute_result"
    }
   ],
   "source": [
    "list(selected_columns)"
   ]
  },
  {
   "cell_type": "markdown",
   "metadata": {
    "slideshow": {
     "slide_type": "slide"
    }
   },
   "source": [
    "# Wrapper Methods\n",
    "\n",
    "Wrapper methods consider the selection of a set of features as a search problem, where different combinations are prepared, evaluated and compared to other combinations. A predictive model is used to evaluate a combination of features and assign a score based on model accuracy.\n",
    "\n",
    "The search process may be methodical such as a best-first search, it may stochastic such as a random hill-climbing algorithm, or it may use heuristics, like forward and backward passes to add and remove features.\n",
    "\n",
    "Wrapper Methods promises you a best set of features with a extensive greedy search.\n",
    "\n",
    "But the main drawbacks of wrapper methods is the sheer amount of models that needs to be trained. It is computationally very expensive and is infeasible with large number of features.\n",
    "\n"
   ]
  },
  {
   "cell_type": "markdown",
   "metadata": {},
   "source": [
    "![alt text](./resources/Wrapper_1.webp)"
   ]
  },
  {
   "cell_type": "markdown",
   "metadata": {},
   "source": [
    "### Recursive Feature Elimination\n",
    "\n",
    "An example if a wrapper method is the recursive feature elimination algorithm.\n",
    "\n",
    "As the name suggests, this method eliminates worst performing features on a particular model one after the other until the best subset of features are known.\n",
    "\n",
    "\n",
    "Recursive elimination eliminates the least explaining features one after the other.\n",
    "For data with n features,\n",
    "\n",
    "- On first round ‘n-1’ models are created with combination of all features except one. The least performing feature is removed\n",
    "\n",
    "- On second round ‘n-2’ models are created by removing another feature.\n",
    "\n"
   ]
  },
  {
   "cell_type": "markdown",
   "metadata": {},
   "source": [
    "<img src='./resources/rfe_graph.png' width=500/>"
   ]
  },
  {
   "cell_type": "code",
   "execution_count": 31,
   "metadata": {},
   "outputs": [],
   "source": [
    "from sklearn.feature_selection import RFECV"
   ]
  },
  {
   "cell_type": "code",
   "execution_count": 32,
   "metadata": {},
   "outputs": [],
   "source": [
    "ols = linear_model.LinearRegression()"
   ]
  },
  {
   "cell_type": "code",
   "execution_count": 41,
   "metadata": {},
   "outputs": [
    {
     "data": {
      "text/plain": [
       "RFECV(cv=10,\n",
       "      estimator=LinearRegression(copy_X=True, fit_intercept=True, n_jobs=None,\n",
       "                                 normalize=False),\n",
       "      min_features_to_select=1, n_jobs=None, scoring='neg_mean_squared_error',\n",
       "      step=1, verbose=0)"
      ]
     },
     "execution_count": 41,
     "metadata": {},
     "output_type": "execute_result"
    }
   ],
   "source": [
    "# Create recursive feature eliminator that scores features by mean squared errors\n",
    "selector = RFECV(estimator=ols, step=1, cv=10, scoring='neg_mean_squared_error')\n",
    "\n",
    "# Fit recursive feature eliminator \n",
    "selector.fit(X_train, y_train)\n",
    "\n"
   ]
  },
  {
   "cell_type": "code",
   "execution_count": 51,
   "metadata": {},
   "outputs": [],
   "source": [
    "selected_columns = X_train.columns[selector.support_]\n",
    "removed_columns = X_train.columns[~selector.support_]\n"
   ]
  },
  {
   "cell_type": "code",
   "execution_count": 52,
   "metadata": {},
   "outputs": [
    {
     "data": {
      "text/plain": [
       "['duration',\n",
       " 'director_facebook_likes',\n",
       " 'facenumber_in_poster',\n",
       " 'budget',\n",
       " 'imdb_score']"
      ]
     },
     "execution_count": 52,
     "metadata": {},
     "output_type": "execute_result"
    }
   ],
   "source": [
    "list(removed_columns)"
   ]
  },
  {
   "cell_type": "code",
   "execution_count": 44,
   "metadata": {},
   "outputs": [
    {
     "data": {
      "text/plain": [
       "['num_critic_for_reviews',\n",
       " 'actor_3_facebook_likes',\n",
       " 'actor_1_facebook_likes',\n",
       " 'cast_total_facebook_likes',\n",
       " 'num_user_for_reviews',\n",
       " 'title_year',\n",
       " 'actor_2_facebook_likes',\n",
       " 'G',\n",
       " 'PG',\n",
       " 'PG-13',\n",
       " 'R']"
      ]
     },
     "execution_count": 44,
     "metadata": {},
     "output_type": "execute_result"
    }
   ],
   "source": [
    "list(selected_columns)"
   ]
  },
  {
   "cell_type": "markdown",
   "metadata": {
    "slideshow": {
     "slide_type": "slide"
    }
   },
   "source": [
    "# Embedded Methods\n",
    "\n",
    "Embedded methods learn which features best contribute to the accuracy of the model while the model is being created. The most common type of embedded feature selection methods are regularization methods.\n",
    "\n",
    "Regularization methods are also called penalization methods that introduce additional constraints into the optimization of a predictive algorithm (such as a regression algorithm) that bias the model toward lower complexity (fewer coefficients).\n",
    "\n",
    "Examples of regularization algorithms are the LASSO, Elastic Net and Ridge Regression."
   ]
  },
  {
   "cell_type": "markdown",
   "metadata": {},
   "source": [
    "![alt text](./resources/Embedded_1.webp)"
   ]
  },
  {
   "cell_type": "markdown",
   "metadata": {},
   "source": [
    "***Now we will create polynomial and interaction terms***"
   ]
  },
  {
   "cell_type": "markdown",
   "metadata": {},
   "source": [
    "***Now we will scale those terms***"
   ]
  },
  {
   "cell_type": "code",
   "execution_count": 53,
   "metadata": {},
   "outputs": [
    {
     "data": {
      "text/html": [
       "<div>\n",
       "<style scoped>\n",
       "    .dataframe tbody tr th:only-of-type {\n",
       "        vertical-align: middle;\n",
       "    }\n",
       "\n",
       "    .dataframe tbody tr th {\n",
       "        vertical-align: top;\n",
       "    }\n",
       "\n",
       "    .dataframe thead th {\n",
       "        text-align: right;\n",
       "    }\n",
       "</style>\n",
       "<table border=\"1\" class=\"dataframe\">\n",
       "  <thead>\n",
       "    <tr style=\"text-align: right;\">\n",
       "      <th></th>\n",
       "      <th>num_critic_for_reviews</th>\n",
       "      <th>duration</th>\n",
       "      <th>director_facebook_likes</th>\n",
       "      <th>actor_3_facebook_likes</th>\n",
       "      <th>actor_1_facebook_likes</th>\n",
       "      <th>cast_total_facebook_likes</th>\n",
       "      <th>facenumber_in_poster</th>\n",
       "      <th>num_user_for_reviews</th>\n",
       "      <th>budget</th>\n",
       "      <th>title_year</th>\n",
       "      <th>actor_2_facebook_likes</th>\n",
       "      <th>imdb_score</th>\n",
       "      <th>G</th>\n",
       "      <th>PG</th>\n",
       "      <th>PG-13</th>\n",
       "      <th>R</th>\n",
       "    </tr>\n",
       "  </thead>\n",
       "  <tbody>\n",
       "    <tr>\n",
       "      <td>0</td>\n",
       "      <td>-0.480166</td>\n",
       "      <td>0.100276</td>\n",
       "      <td>-0.253944</td>\n",
       "      <td>-0.165843</td>\n",
       "      <td>0.315084</td>\n",
       "      <td>0.254904</td>\n",
       "      <td>-0.201835</td>\n",
       "      <td>-0.187279</td>\n",
       "      <td>-0.191744</td>\n",
       "      <td>-2.997942</td>\n",
       "      <td>0.021532</td>\n",
       "      <td>0.980390</td>\n",
       "      <td>-0.152944</td>\n",
       "      <td>2.371393</td>\n",
       "      <td>-0.711258</td>\n",
       "      <td>-0.891284</td>\n",
       "    </tr>\n",
       "    <tr>\n",
       "      <td>1</td>\n",
       "      <td>0.563784</td>\n",
       "      <td>-0.558402</td>\n",
       "      <td>-0.232237</td>\n",
       "      <td>-0.111520</td>\n",
       "      <td>-0.544228</td>\n",
       "      <td>-0.521092</td>\n",
       "      <td>-0.727007</td>\n",
       "      <td>-0.246952</td>\n",
       "      <td>0.243352</td>\n",
       "      <td>0.575968</td>\n",
       "      <td>-0.294826</td>\n",
       "      <td>0.600062</td>\n",
       "      <td>6.538348</td>\n",
       "      <td>-0.421693</td>\n",
       "      <td>-0.711258</td>\n",
       "      <td>-0.891284</td>\n",
       "    </tr>\n",
       "    <tr>\n",
       "      <td>2</td>\n",
       "      <td>1.542487</td>\n",
       "      <td>-0.382754</td>\n",
       "      <td>-0.090971</td>\n",
       "      <td>-0.163670</td>\n",
       "      <td>-0.545837</td>\n",
       "      <td>-0.508029</td>\n",
       "      <td>-0.727007</td>\n",
       "      <td>0.441765</td>\n",
       "      <td>0.326846</td>\n",
       "      <td>1.072344</td>\n",
       "      <td>-0.243435</td>\n",
       "      <td>-0.540925</td>\n",
       "      <td>-0.152944</td>\n",
       "      <td>-0.421693</td>\n",
       "      <td>1.405960</td>\n",
       "      <td>-0.891284</td>\n",
       "    </tr>\n",
       "    <tr>\n",
       "      <td>3</td>\n",
       "      <td>-0.431231</td>\n",
       "      <td>-0.163195</td>\n",
       "      <td>-0.182277</td>\n",
       "      <td>0.067749</td>\n",
       "      <td>-0.362340</td>\n",
       "      <td>-0.267404</td>\n",
       "      <td>-0.727007</td>\n",
       "      <td>-0.100257</td>\n",
       "      <td>-0.007128</td>\n",
       "      <td>-0.516060</td>\n",
       "      <td>-0.200942</td>\n",
       "      <td>-0.445843</td>\n",
       "      <td>-0.152944</td>\n",
       "      <td>-0.421693</td>\n",
       "      <td>-0.711258</td>\n",
       "      <td>1.121977</td>\n",
       "    </tr>\n",
       "    <tr>\n",
       "      <td>4</td>\n",
       "      <td>-0.439386</td>\n",
       "      <td>0.671130</td>\n",
       "      <td>-0.199160</td>\n",
       "      <td>-0.375533</td>\n",
       "      <td>-0.362340</td>\n",
       "      <td>-0.479910</td>\n",
       "      <td>0.323337</td>\n",
       "      <td>-0.244465</td>\n",
       "      <td>-0.048874</td>\n",
       "      <td>-0.118959</td>\n",
       "      <td>-0.409845</td>\n",
       "      <td>0.029568</td>\n",
       "      <td>-0.152944</td>\n",
       "      <td>-0.421693</td>\n",
       "      <td>1.405960</td>\n",
       "      <td>-0.891284</td>\n",
       "    </tr>\n",
       "  </tbody>\n",
       "</table>\n",
       "</div>"
      ],
      "text/plain": [
       "   num_critic_for_reviews  duration  director_facebook_likes  \\\n",
       "0               -0.480166  0.100276                -0.253944   \n",
       "1                0.563784 -0.558402                -0.232237   \n",
       "2                1.542487 -0.382754                -0.090971   \n",
       "3               -0.431231 -0.163195                -0.182277   \n",
       "4               -0.439386  0.671130                -0.199160   \n",
       "\n",
       "   actor_3_facebook_likes  actor_1_facebook_likes  cast_total_facebook_likes  \\\n",
       "0               -0.165843                0.315084                   0.254904   \n",
       "1               -0.111520               -0.544228                  -0.521092   \n",
       "2               -0.163670               -0.545837                  -0.508029   \n",
       "3                0.067749               -0.362340                  -0.267404   \n",
       "4               -0.375533               -0.362340                  -0.479910   \n",
       "\n",
       "   facenumber_in_poster  num_user_for_reviews    budget  title_year  \\\n",
       "0             -0.201835             -0.187279 -0.191744   -2.997942   \n",
       "1             -0.727007             -0.246952  0.243352    0.575968   \n",
       "2             -0.727007              0.441765  0.326846    1.072344   \n",
       "3             -0.727007             -0.100257 -0.007128   -0.516060   \n",
       "4              0.323337             -0.244465 -0.048874   -0.118959   \n",
       "\n",
       "   actor_2_facebook_likes  imdb_score         G        PG     PG-13         R  \n",
       "0                0.021532    0.980390 -0.152944  2.371393 -0.711258 -0.891284  \n",
       "1               -0.294826    0.600062  6.538348 -0.421693 -0.711258 -0.891284  \n",
       "2               -0.243435   -0.540925 -0.152944 -0.421693  1.405960 -0.891284  \n",
       "3               -0.200942   -0.445843 -0.152944 -0.421693 -0.711258  1.121977  \n",
       "4               -0.409845    0.029568 -0.152944 -0.421693  1.405960 -0.891284  "
      ]
     },
     "execution_count": 53,
     "metadata": {},
     "output_type": "execute_result"
    }
   ],
   "source": [
    "\n",
    "X_train.head()"
   ]
  },
  {
   "cell_type": "code",
   "execution_count": 54,
   "metadata": {},
   "outputs": [],
   "source": [
    "lm = linear_model.LinearRegression()\n",
    "lm.fit(X_train, y_train)\n",
    "y_train_pred = lm.predict(X_train)\n",
    "y_test_pred = lm.predict(X_test)"
   ]
  },
  {
   "cell_type": "markdown",
   "metadata": {},
   "source": [
    "***Plot the residuals after fitting a linear model***"
   ]
  },
  {
   "cell_type": "code",
   "execution_count": 55,
   "metadata": {},
   "outputs": [
    {
     "data": {
      "text/plain": [
       "<matplotlib.axes._subplots.AxesSubplot at 0x1a22dce850>"
      ]
     },
     "execution_count": 55,
     "metadata": {},
     "output_type": "execute_result"
    },
    {
     "data": {
      "image/png": "[encoded data removed]",
      "text/plain": [
       "<Figure size 432x288 with 1 Axes>"
      ]
     },
     "metadata": {},
     "output_type": "display_data"
    }
   ],
   "source": [
    "\n",
    "sns.residplot(y_train_pred, y_train, lowess=True, color=\"g\")"
   ]
  },
  {
   "cell_type": "markdown",
   "metadata": {},
   "source": [
    "### Based on this residual plot how might we want to transform our data?"
   ]
  },
  {
   "cell_type": "markdown",
   "metadata": {},
   "source": [
    "***Plot to compare the size of all of our coefficients***"
   ]
  },
  {
   "cell_type": "code",
   "execution_count": 56,
   "metadata": {
    "scrolled": true
   },
   "outputs": [
    {
     "data": {
      "text/plain": [
       "<matplotlib.axes._subplots.AxesSubplot at 0x1a22a834d0>"
      ]
     },
     "execution_count": 56,
     "metadata": {},
     "output_type": "execute_result"
    },
    {
     "data": {
      "image/png": "[encoded data removed]",
      "text/plain": [
       "<Figure size 1152x576 with 1 Axes>"
      ]
     },
     "metadata": {},
     "output_type": "display_data"
    }
   ],
   "source": [
    "coef = pd.DataFrame(data=lm.coef_ ).T\n",
    "coef.columns = feature_columns\n",
    "\n",
    "model_coef = coef.T.sort_values(by=0).T\n",
    "model_coef.plot(kind='bar', title='Modal Coefficients', legend=False, figsize=(16,8),)"
   ]
  },
  {
   "cell_type": "code",
   "execution_count": 57,
   "metadata": {},
   "outputs": [
    {
     "data": {
      "text/html": [
       "<div>\n",
       "<style scoped>\n",
       "    .dataframe tbody tr th:only-of-type {\n",
       "        vertical-align: middle;\n",
       "    }\n",
       "\n",
       "    .dataframe tbody tr th {\n",
       "        vertical-align: top;\n",
       "    }\n",
       "\n",
       "    .dataframe thead th {\n",
       "        text-align: right;\n",
       "    }\n",
       "</style>\n",
       "<table border=\"1\" class=\"dataframe\">\n",
       "  <thead>\n",
       "    <tr style=\"text-align: right;\">\n",
       "      <th></th>\n",
       "      <th>0</th>\n",
       "    </tr>\n",
       "  </thead>\n",
       "  <tbody>\n",
       "    <tr>\n",
       "      <td>num_critic_for_reviews</td>\n",
       "      <td>1416.820017</td>\n",
       "    </tr>\n",
       "    <tr>\n",
       "      <td>duration</td>\n",
       "      <td>227.993654</td>\n",
       "    </tr>\n",
       "    <tr>\n",
       "      <td>director_facebook_likes</td>\n",
       "      <td>-28.651499</td>\n",
       "    </tr>\n",
       "    <tr>\n",
       "      <td>actor_3_facebook_likes</td>\n",
       "      <td>-918.366138</td>\n",
       "    </tr>\n",
       "    <tr>\n",
       "      <td>actor_1_facebook_likes</td>\n",
       "      <td>-4942.871694</td>\n",
       "    </tr>\n",
       "    <tr>\n",
       "      <td>cast_total_facebook_likes</td>\n",
       "      <td>6976.345583</td>\n",
       "    </tr>\n",
       "    <tr>\n",
       "      <td>facenumber_in_poster</td>\n",
       "      <td>64.222414</td>\n",
       "    </tr>\n",
       "    <tr>\n",
       "      <td>num_user_for_reviews</td>\n",
       "      <td>1187.164694</td>\n",
       "    </tr>\n",
       "    <tr>\n",
       "      <td>budget</td>\n",
       "      <td>19.273343</td>\n",
       "    </tr>\n",
       "    <tr>\n",
       "      <td>title_year</td>\n",
       "      <td>-661.929452</td>\n",
       "    </tr>\n",
       "    <tr>\n",
       "      <td>actor_2_facebook_likes</td>\n",
       "      <td>-1817.424627</td>\n",
       "    </tr>\n",
       "    <tr>\n",
       "      <td>imdb_score</td>\n",
       "      <td>-103.371009</td>\n",
       "    </tr>\n",
       "    <tr>\n",
       "      <td>G</td>\n",
       "      <td>867.668033</td>\n",
       "    </tr>\n",
       "    <tr>\n",
       "      <td>PG</td>\n",
       "      <td>1758.797954</td>\n",
       "    </tr>\n",
       "    <tr>\n",
       "      <td>PG-13</td>\n",
       "      <td>1641.487219</td>\n",
       "    </tr>\n",
       "    <tr>\n",
       "      <td>R</td>\n",
       "      <td>729.192058</td>\n",
       "    </tr>\n",
       "  </tbody>\n",
       "</table>\n",
       "</div>"
      ],
      "text/plain": [
       "                                     0\n",
       "num_critic_for_reviews     1416.820017\n",
       "duration                    227.993654\n",
       "director_facebook_likes     -28.651499\n",
       "actor_3_facebook_likes     -918.366138\n",
       "actor_1_facebook_likes    -4942.871694\n",
       "cast_total_facebook_likes  6976.345583\n",
       "facenumber_in_poster         64.222414\n",
       "num_user_for_reviews       1187.164694\n",
       "budget                       19.273343\n",
       "title_year                 -661.929452\n",
       "actor_2_facebook_likes    -1817.424627\n",
       "imdb_score                 -103.371009\n",
       "G                           867.668033\n",
       "PG                         1758.797954\n",
       "PG-13                      1641.487219\n",
       "R                           729.192058"
      ]
     },
     "execution_count": 57,
     "metadata": {},
     "output_type": "execute_result"
    }
   ],
   "source": [
    "coef.T"
   ]
  },
  {
   "cell_type": "code",
   "execution_count": 58,
   "metadata": {},
   "outputs": [
    {
     "name": "stdout",
     "output_type": "stream",
     "text": [
      "Training Error: 2269.2055757942544\n",
      "Testing Error: 2787.586053967549\n"
     ]
    },
    {
     "name": "stderr",
     "output_type": "stream",
     "text": [
      "/Users/michaelarmistead/opt/anaconda3/lib/python3.7/site-packages/sklearn/linear_model/coordinate_descent.py:475: ConvergenceWarning: Objective did not converge. You might want to increase the number of iterations. Duality gap: 11237024344.925549, tolerance: 5916558.0008432185\n",
      "  positive)\n"
     ]
    }
   ],
   "source": [
    "## training the model\n",
    "from sklearn.linear_model import Lasso\n",
    "\n",
    "lasso = Lasso(alpha=0.01, normalize=False)\n",
    "\n",
    "lasso.fit(X_train,y_train)\n",
    "\n",
    "y_train_pred = lasso.predict(X_train)\n",
    "y_pred = lasso.predict(X_test)\n",
    "\n",
    "train_rmse = metrics.mean_absolute_error(y_train, y_train_pred)\n",
    "test_rmse = np.sqrt(metrics.mean_squared_error(y_test, y_pred))\n",
    "print('Training Error: '+ str(train_rmse) )\n",
    "print('Testing Error: '+ str(test_rmse) )\n",
    "\n",
    "\n"
   ]
  },
  {
   "cell_type": "code",
   "execution_count": 59,
   "metadata": {},
   "outputs": [
    {
     "data": {
      "text/plain": [
       "<matplotlib.axes._subplots.AxesSubplot at 0x1a2323d3d0>"
      ]
     },
     "execution_count": 59,
     "metadata": {},
     "output_type": "execute_result"
    },
    {
     "data": {
      "image/png": "[encoded data removed]",
      "text/plain": [
       "<Figure size 1152x576 with 1 Axes>"
      ]
     },
     "metadata": {},
     "output_type": "display_data"
    }
   ],
   "source": [
    "lasso_coef01 = pd.DataFrame(data=lasso.coef_).T\n",
    "lasso_coef01.columns = X_train.columns\n",
    "lasso_coef01 = lasso_coef01.T.sort_values(by=0).T\n",
    "lasso_coef01.plot(kind='bar', title='Modal Coefficients', legend=False, figsize=(16,8))"
   ]
  },
  {
   "cell_type": "code",
   "execution_count": 60,
   "metadata": {},
   "outputs": [
    {
     "data": {
      "text/html": [
       "<div>\n",
       "<style scoped>\n",
       "    .dataframe tbody tr th:only-of-type {\n",
       "        vertical-align: middle;\n",
       "    }\n",
       "\n",
       "    .dataframe tbody tr th {\n",
       "        vertical-align: top;\n",
       "    }\n",
       "\n",
       "    .dataframe thead th {\n",
       "        text-align: right;\n",
       "    }\n",
       "</style>\n",
       "<table border=\"1\" class=\"dataframe\">\n",
       "  <thead>\n",
       "    <tr style=\"text-align: right;\">\n",
       "      <th></th>\n",
       "      <th>0</th>\n",
       "    </tr>\n",
       "  </thead>\n",
       "  <tbody>\n",
       "    <tr>\n",
       "      <td>actor_1_facebook_likes</td>\n",
       "      <td>-4927.419811</td>\n",
       "    </tr>\n",
       "    <tr>\n",
       "      <td>actor_2_facebook_likes</td>\n",
       "      <td>-1811.597838</td>\n",
       "    </tr>\n",
       "    <tr>\n",
       "      <td>actor_3_facebook_likes</td>\n",
       "      <td>-914.652764</td>\n",
       "    </tr>\n",
       "    <tr>\n",
       "      <td>title_year</td>\n",
       "      <td>-661.956876</td>\n",
       "    </tr>\n",
       "    <tr>\n",
       "      <td>imdb_score</td>\n",
       "      <td>-103.521459</td>\n",
       "    </tr>\n",
       "    <tr>\n",
       "      <td>director_facebook_likes</td>\n",
       "      <td>-28.656469</td>\n",
       "    </tr>\n",
       "    <tr>\n",
       "      <td>budget</td>\n",
       "      <td>19.267298</td>\n",
       "    </tr>\n",
       "    <tr>\n",
       "      <td>facenumber_in_poster</td>\n",
       "      <td>64.251725</td>\n",
       "    </tr>\n",
       "    <tr>\n",
       "      <td>duration</td>\n",
       "      <td>228.059783</td>\n",
       "    </tr>\n",
       "    <tr>\n",
       "      <td>R</td>\n",
       "      <td>729.297118</td>\n",
       "    </tr>\n",
       "    <tr>\n",
       "      <td>G</td>\n",
       "      <td>867.756285</td>\n",
       "    </tr>\n",
       "    <tr>\n",
       "      <td>num_user_for_reviews</td>\n",
       "      <td>1187.235184</td>\n",
       "    </tr>\n",
       "    <tr>\n",
       "      <td>num_critic_for_reviews</td>\n",
       "      <td>1416.888121</td>\n",
       "    </tr>\n",
       "    <tr>\n",
       "      <td>PG-13</td>\n",
       "      <td>1641.668234</td>\n",
       "    </tr>\n",
       "    <tr>\n",
       "      <td>PG</td>\n",
       "      <td>1758.937285</td>\n",
       "    </tr>\n",
       "    <tr>\n",
       "      <td>cast_total_facebook_likes</td>\n",
       "      <td>6955.545673</td>\n",
       "    </tr>\n",
       "  </tbody>\n",
       "</table>\n",
       "</div>"
      ],
      "text/plain": [
       "                                     0\n",
       "actor_1_facebook_likes    -4927.419811\n",
       "actor_2_facebook_likes    -1811.597838\n",
       "actor_3_facebook_likes     -914.652764\n",
       "title_year                 -661.956876\n",
       "imdb_score                 -103.521459\n",
       "director_facebook_likes     -28.656469\n",
       "budget                       19.267298\n",
       "facenumber_in_poster         64.251725\n",
       "duration                    228.059783\n",
       "R                           729.297118\n",
       "G                           867.756285\n",
       "num_user_for_reviews       1187.235184\n",
       "num_critic_for_reviews     1416.888121\n",
       "PG-13                      1641.668234\n",
       "PG                         1758.937285\n",
       "cast_total_facebook_likes  6955.545673"
      ]
     },
     "execution_count": 60,
     "metadata": {},
     "output_type": "execute_result"
    }
   ],
   "source": [
    "lasso_coef01.T"
   ]
  },
  {
   "cell_type": "code",
   "execution_count": 63,
   "metadata": {},
   "outputs": [
    {
     "name": "stdout",
     "output_type": "stream",
     "text": [
      "Training Error: 2269.7245385799133\n",
      "Testing Error: 2788.4931357975775\n"
     ]
    },
    {
     "name": "stderr",
     "output_type": "stream",
     "text": [
      "/Users/michaelarmistead/opt/anaconda3/lib/python3.7/site-packages/sklearn/linear_model/coordinate_descent.py:475: ConvergenceWarning: Objective did not converge. You might want to increase the number of iterations. Duality gap: 70810275.55339432, tolerance: 5916558.0008432185\n",
      "  positive)\n"
     ]
    },
    {
     "data": {
      "text/plain": [
       "<matplotlib.axes._subplots.AxesSubplot at 0x1a24811650>"
      ]
     },
     "execution_count": 63,
     "metadata": {},
     "output_type": "execute_result"
    },
    {
     "data": {
      "image/png": "[encoded data removed]",
      "text/plain": [
       "<Figure size 1152x576 with 1 Axes>"
      ]
     },
     "metadata": {},
     "output_type": "display_data"
    }
   ],
   "source": [
    "## training the model\n",
    "from sklearn.linear_model import Lasso\n",
    "\n",
    "lasso = Lasso(alpha=1, normalize=False)\n",
    "\n",
    "lasso.fit(X_train,y_train)\n",
    "\n",
    "y_train_pred = lasso.predict(X_train)\n",
    "y_pred = lasso.predict(X_test)\n",
    "\n",
    "train_rmse = metrics.mean_absolute_error(y_train, y_train_pred)\n",
    "test_rmse = np.sqrt(metrics.mean_squared_error(y_test, y_pred))\n",
    "print('Training Error: '+ str(train_rmse) )\n",
    "print('Testing Error: '+ str(test_rmse) )\n",
    "\n",
    "lasso_coef01 = pd.DataFrame(data=lasso.coef_).T\n",
    "lasso_coef01.columns = X_train.columns\n",
    "lasso_coef01 = lasso_coef01.T.sort_values(by=0).T\n",
    "lasso_coef01.plot(kind='bar', title='Modal Coefficients', legend=False, figsize=(16,8))"
   ]
  },
  {
   "cell_type": "code",
   "execution_count": 64,
   "metadata": {},
   "outputs": [
    {
     "data": {
      "text/html": [
       "<div>\n",
       "<style scoped>\n",
       "    .dataframe tbody tr th:only-of-type {\n",
       "        vertical-align: middle;\n",
       "    }\n",
       "\n",
       "    .dataframe tbody tr th {\n",
       "        vertical-align: top;\n",
       "    }\n",
       "\n",
       "    .dataframe thead th {\n",
       "        text-align: right;\n",
       "    }\n",
       "</style>\n",
       "<table border=\"1\" class=\"dataframe\">\n",
       "  <thead>\n",
       "    <tr style=\"text-align: right;\">\n",
       "      <th></th>\n",
       "      <th>0</th>\n",
       "    </tr>\n",
       "  </thead>\n",
       "  <tbody>\n",
       "    <tr>\n",
       "      <td>actor_1_facebook_likes</td>\n",
       "      <td>-4616.003311</td>\n",
       "    </tr>\n",
       "    <tr>\n",
       "      <td>actor_2_facebook_likes</td>\n",
       "      <td>-1692.013437</td>\n",
       "    </tr>\n",
       "    <tr>\n",
       "      <td>actor_3_facebook_likes</td>\n",
       "      <td>-839.133374</td>\n",
       "    </tr>\n",
       "    <tr>\n",
       "      <td>title_year</td>\n",
       "      <td>-659.793379</td>\n",
       "    </tr>\n",
       "    <tr>\n",
       "      <td>imdb_score</td>\n",
       "      <td>-105.438984</td>\n",
       "    </tr>\n",
       "    <tr>\n",
       "      <td>director_facebook_likes</td>\n",
       "      <td>-27.506353</td>\n",
       "    </tr>\n",
       "    <tr>\n",
       "      <td>budget</td>\n",
       "      <td>18.553301</td>\n",
       "    </tr>\n",
       "    <tr>\n",
       "      <td>facenumber_in_poster</td>\n",
       "      <td>63.953903</td>\n",
       "    </tr>\n",
       "    <tr>\n",
       "      <td>duration</td>\n",
       "      <td>228.463762</td>\n",
       "    </tr>\n",
       "    <tr>\n",
       "      <td>R</td>\n",
       "      <td>718.061012</td>\n",
       "    </tr>\n",
       "    <tr>\n",
       "      <td>G</td>\n",
       "      <td>864.877193</td>\n",
       "    </tr>\n",
       "    <tr>\n",
       "      <td>num_user_for_reviews</td>\n",
       "      <td>1189.192326</td>\n",
       "    </tr>\n",
       "    <tr>\n",
       "      <td>num_critic_for_reviews</td>\n",
       "      <td>1416.229488</td>\n",
       "    </tr>\n",
       "    <tr>\n",
       "      <td>PG-13</td>\n",
       "      <td>1632.465572</td>\n",
       "    </tr>\n",
       "    <tr>\n",
       "      <td>PG</td>\n",
       "      <td>1751.748594</td>\n",
       "    </tr>\n",
       "    <tr>\n",
       "      <td>cast_total_facebook_likes</td>\n",
       "      <td>6534.692466</td>\n",
       "    </tr>\n",
       "  </tbody>\n",
       "</table>\n",
       "</div>"
      ],
      "text/plain": [
       "                                     0\n",
       "actor_1_facebook_likes    -4616.003311\n",
       "actor_2_facebook_likes    -1692.013437\n",
       "actor_3_facebook_likes     -839.133374\n",
       "title_year                 -659.793379\n",
       "imdb_score                 -105.438984\n",
       "director_facebook_likes     -27.506353\n",
       "budget                       18.553301\n",
       "facenumber_in_poster         63.953903\n",
       "duration                    228.463762\n",
       "R                           718.061012\n",
       "G                           864.877193\n",
       "num_user_for_reviews       1189.192326\n",
       "num_critic_for_reviews     1416.229488\n",
       "PG-13                      1632.465572\n",
       "PG                         1751.748594\n",
       "cast_total_facebook_likes  6534.692466"
      ]
     },
     "execution_count": 64,
     "metadata": {},
     "output_type": "execute_result"
    }
   ],
   "source": [
    "lasso_coef01.T"
   ]
  },
  {
   "cell_type": "code",
   "execution_count": null,
   "metadata": {},
   "outputs": [],
   "source": []
  },
  {
   "cell_type": "code",
   "execution_count": null,
   "metadata": {},
   "outputs": [],
   "source": []
  }
 ],
 "metadata": {
  "kernelspec": {
   "display_name": "Python 3",
   "language": "python",
   "name": "python3"
  },
  "language_info": {
   "codemirror_mode": {
    "name": "ipython",
    "version": 3
   },
   "file_extension": ".py",
   "mimetype": "text/x-python",
   "name": "python",
   "nbconvert_exporter": "python",
   "pygments_lexer": "ipython3",
   "version": "3.7.4"
  }
 },
 "nbformat": 4,
 "nbformat_minor": 2
}
