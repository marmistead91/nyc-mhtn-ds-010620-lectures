{
 "cells": [
  {
   "cell_type": "markdown",
   "metadata": {},
   "source": [
    "# Applying Classification Modeling\n",
    "The goal of this week's assessment is to find the model which best predicts whether a person will default on their loan. In doing so, we want to utilize all of the different tools we have learned over the course: data cleaning, EDA, feature engineering/transformation, feature selection, hyperparameter tuning, and model evaluation. \n",
    "\n",
    "Dataset: The dataset comes customers default payments in Taiwan. More information about the dataset and columns are found in the link below.\n",
    "\n",
    "https://archive.ics.uci.edu/ml/datasets/default+of+credit+card+clients#\n",
    "\n",
    "\n",
    "You will fit three different models (KNN, Logistic Regression, and Decision Tree Classifier) and use gridsearch to find the best hyperparameters for those models. Then you will compare the performance of those three models on a test set to find the best one.  \n"
   ]
  },
  {
   "cell_type": "markdown",
   "metadata": {},
   "source": [
    "## Process/Expectations\n",
    "\n",
    "#### You will be working in pairs for this assessment; please have ONE notebook and be prepared to explain how you worked in your pair.\n",
    "1. Clean up your data set so that you can do EDA. This includes handling null values, categorical variables, removing unimportant columns, and removing outliers.\n",
    "2. Perform EDA to identify opportunities to create new features.\n",
    "    - [Great Example of EDA for classification](https://www.kaggle.com/stephaniestallworth/titanic-eda-classification-end-to-end) \n",
    "    - [Using Pairplots with Classification](https://towardsdatascience.com/visualizing-data-with-pair-plots-in-python-f228cf529166)\n",
    "3. Create polynomial and/or interaction features. You must also create at least 2 new features that are not interactions or polynomial transformations. For example, you can create a new dummy variable that based on the value of a continuous variable (billamount6 >2000) or take the average of some past amounts.\n",
    "4. Perform some feature selction. This can happen beforehand using F-scores, or you can do it as part of your model building process by looking at the weights of your regularized logistic regression or feature importance of your decision tree.  \n",
    "5. You must fit each of the three models to your data and tune at least 1 hyperparameter per model. \n",
    "6. After identifying the best hyperparameters for each model, fit those models to the test set and identify the best model overall using the evaluation metric of your choice.\n",
    "7. Present your best model."
   ]
  },
  {
   "cell_type": "code",
   "execution_count": 1,
   "metadata": {},
   "outputs": [],
   "source": [
    "# import libraries\n",
    "from sklearn.model_selection import train_test_split\n",
    "from sklearn.preprocessing import StandardScaler \n",
    "from sklearn.preprocessing import MinMaxScaler\n",
    "from sklearn.neighbors import KNeighborsClassifier \n",
    "from sklearn.metrics import mean_squared_error, accuracy_score, f1_score, roc_auc_score\n",
    "\n",
    "import seaborn as sns\n",
    "import matplotlib.pyplot as plt\n",
    "import pandas as pd\n",
    "%matplotlib inline"
   ]
  },
  {
   "cell_type": "markdown",
   "metadata": {},
   "source": [
    "## 1. Data Cleaning"
   ]
  },
  {
   "cell_type": "code",
   "execution_count": 2,
   "metadata": {},
   "outputs": [],
   "source": [
    "# df = pd.read_csv('student_data.csv')\n",
    "df = pd.read_csv('clean_with_new_columns.csv')\n",
    "pd.set_option('display.max_columns', None)"
   ]
  },
  {
   "cell_type": "code",
   "execution_count": null,
   "metadata": {},
   "outputs": [],
   "source": []
  },
  {
   "cell_type": "code",
   "execution_count": 11,
   "metadata": {},
   "outputs": [
    {
     "data": {
      "text/plain": [
       "0.0    18678\n",
       "1.0     5307\n",
       "Name: default payment next month, dtype: int64"
      ]
     },
     "execution_count": 11,
     "metadata": {},
     "output_type": "execute_result"
    }
   ],
   "source": [
    "df['default payment next month'].value_counts()"
   ]
  },
  {
   "cell_type": "code",
   "execution_count": 143,
   "metadata": {},
   "outputs": [
    {
     "data": {
      "text/html": [
       "<div>\n",
       "<style scoped>\n",
       "    .dataframe tbody tr th:only-of-type {\n",
       "        vertical-align: middle;\n",
       "    }\n",
       "\n",
       "    .dataframe tbody tr th {\n",
       "        vertical-align: top;\n",
       "    }\n",
       "\n",
       "    .dataframe thead th {\n",
       "        text-align: right;\n",
       "    }\n",
       "</style>\n",
       "<table border=\"1\" class=\"dataframe\">\n",
       "  <thead>\n",
       "    <tr style=\"text-align: right;\">\n",
       "      <th></th>\n",
       "      <th>LIMIT_BAL</th>\n",
       "      <th>PAY_0</th>\n",
       "      <th>PAY_2</th>\n",
       "      <th>PAY_3</th>\n",
       "      <th>PAY_4</th>\n",
       "      <th>PAY_5</th>\n",
       "      <th>PAY_6</th>\n",
       "      <th>BILL_AMT1</th>\n",
       "      <th>BILL_AMT2</th>\n",
       "      <th>BILL_AMT3</th>\n",
       "      <th>BILL_AMT4</th>\n",
       "      <th>BILL_AMT5</th>\n",
       "      <th>BILL_AMT6</th>\n",
       "      <th>PAY_AMT1</th>\n",
       "      <th>PAY_AMT2</th>\n",
       "      <th>PAY_AMT3</th>\n",
       "      <th>PAY_AMT4</th>\n",
       "      <th>PAY_AMT5</th>\n",
       "      <th>PAY_AMT6</th>\n",
       "      <th>default payment next month</th>\n",
       "      <th>amount_owed6</th>\n",
       "      <th>amount_owed5</th>\n",
       "      <th>amount_owed4</th>\n",
       "      <th>amount_owed3</th>\n",
       "      <th>amount_owed2</th>\n",
       "      <th>late_pay</th>\n",
       "      <th>sex_2.0</th>\n",
       "      <th>edu_2.0</th>\n",
       "      <th>edu_3.0</th>\n",
       "      <th>edu_4.0</th>\n",
       "      <th>marriage_2.0</th>\n",
       "      <th>marriage_3.0</th>\n",
       "      <th>age_2</th>\n",
       "      <th>age_3</th>\n",
       "      <th>age_4</th>\n",
       "      <th>age_5</th>\n",
       "      <th>age_6</th>\n",
       "    </tr>\n",
       "  </thead>\n",
       "  <tbody>\n",
       "    <tr>\n",
       "      <td>0</td>\n",
       "      <td>350000.0</td>\n",
       "      <td>-2.0</td>\n",
       "      <td>-2.0</td>\n",
       "      <td>-2.0</td>\n",
       "      <td>-2.0</td>\n",
       "      <td>-2.0</td>\n",
       "      <td>-2.0</td>\n",
       "      <td>316.0</td>\n",
       "      <td>316.0</td>\n",
       "      <td>316.0</td>\n",
       "      <td>466.0</td>\n",
       "      <td>466.0</td>\n",
       "      <td>316.0</td>\n",
       "      <td>316.0</td>\n",
       "      <td>316.0</td>\n",
       "      <td>466.0</td>\n",
       "      <td>466.0</td>\n",
       "      <td>316.0</td>\n",
       "      <td>316.0</td>\n",
       "      <td>0.0</td>\n",
       "      <td>0.0</td>\n",
       "      <td>0.0</td>\n",
       "      <td>0.0</td>\n",
       "      <td>0.0</td>\n",
       "      <td>0.0</td>\n",
       "      <td>-12.0</td>\n",
       "      <td>0</td>\n",
       "      <td>0</td>\n",
       "      <td>0</td>\n",
       "      <td>0</td>\n",
       "      <td>1</td>\n",
       "      <td>0</td>\n",
       "      <td>1</td>\n",
       "      <td>0</td>\n",
       "      <td>0</td>\n",
       "      <td>0</td>\n",
       "      <td>0</td>\n",
       "    </tr>\n",
       "    <tr>\n",
       "      <td>1</td>\n",
       "      <td>50000.0</td>\n",
       "      <td>2.0</td>\n",
       "      <td>2.0</td>\n",
       "      <td>2.0</td>\n",
       "      <td>0.0</td>\n",
       "      <td>0.0</td>\n",
       "      <td>0.0</td>\n",
       "      <td>40994.0</td>\n",
       "      <td>43594.0</td>\n",
       "      <td>38222.0</td>\n",
       "      <td>13026.0</td>\n",
       "      <td>13268.0</td>\n",
       "      <td>13497.0</td>\n",
       "      <td>5500.0</td>\n",
       "      <td>0.0</td>\n",
       "      <td>580.0</td>\n",
       "      <td>600.0</td>\n",
       "      <td>600.0</td>\n",
       "      <td>600.0</td>\n",
       "      <td>0.0</td>\n",
       "      <td>12897.0</td>\n",
       "      <td>12668.0</td>\n",
       "      <td>12446.0</td>\n",
       "      <td>38222.0</td>\n",
       "      <td>38094.0</td>\n",
       "      <td>6.0</td>\n",
       "      <td>1</td>\n",
       "      <td>1</td>\n",
       "      <td>0</td>\n",
       "      <td>0</td>\n",
       "      <td>0</td>\n",
       "      <td>0</td>\n",
       "      <td>1</td>\n",
       "      <td>0</td>\n",
       "      <td>0</td>\n",
       "      <td>0</td>\n",
       "      <td>0</td>\n",
       "    </tr>\n",
       "    <tr>\n",
       "      <td>2</td>\n",
       "      <td>50000.0</td>\n",
       "      <td>-1.0</td>\n",
       "      <td>-1.0</td>\n",
       "      <td>-1.0</td>\n",
       "      <td>-1.0</td>\n",
       "      <td>-1.0</td>\n",
       "      <td>-1.0</td>\n",
       "      <td>3430.0</td>\n",
       "      <td>2478.0</td>\n",
       "      <td>2299.0</td>\n",
       "      <td>4800.0</td>\n",
       "      <td>9810.0</td>\n",
       "      <td>660.0</td>\n",
       "      <td>2548.0</td>\n",
       "      <td>2321.0</td>\n",
       "      <td>4800.0</td>\n",
       "      <td>9810.0</td>\n",
       "      <td>660.0</td>\n",
       "      <td>2980.0</td>\n",
       "      <td>0.0</td>\n",
       "      <td>0.0</td>\n",
       "      <td>0.0</td>\n",
       "      <td>0.0</td>\n",
       "      <td>-22.0</td>\n",
       "      <td>-70.0</td>\n",
       "      <td>-6.0</td>\n",
       "      <td>1</td>\n",
       "      <td>0</td>\n",
       "      <td>0</td>\n",
       "      <td>0</td>\n",
       "      <td>1</td>\n",
       "      <td>0</td>\n",
       "      <td>0</td>\n",
       "      <td>0</td>\n",
       "      <td>0</td>\n",
       "      <td>0</td>\n",
       "      <td>0</td>\n",
       "    </tr>\n",
       "    <tr>\n",
       "      <td>3</td>\n",
       "      <td>20000.0</td>\n",
       "      <td>0.0</td>\n",
       "      <td>0.0</td>\n",
       "      <td>0.0</td>\n",
       "      <td>0.0</td>\n",
       "      <td>2.0</td>\n",
       "      <td>0.0</td>\n",
       "      <td>10847.0</td>\n",
       "      <td>12176.0</td>\n",
       "      <td>12884.0</td>\n",
       "      <td>13784.0</td>\n",
       "      <td>13420.0</td>\n",
       "      <td>13686.0</td>\n",
       "      <td>1508.0</td>\n",
       "      <td>1216.0</td>\n",
       "      <td>1116.0</td>\n",
       "      <td>0.0</td>\n",
       "      <td>490.0</td>\n",
       "      <td>658.0</td>\n",
       "      <td>0.0</td>\n",
       "      <td>13196.0</td>\n",
       "      <td>13420.0</td>\n",
       "      <td>12668.0</td>\n",
       "      <td>11668.0</td>\n",
       "      <td>10668.0</td>\n",
       "      <td>2.0</td>\n",
       "      <td>0</td>\n",
       "      <td>0</td>\n",
       "      <td>1</td>\n",
       "      <td>0</td>\n",
       "      <td>0</td>\n",
       "      <td>0</td>\n",
       "      <td>0</td>\n",
       "      <td>0</td>\n",
       "      <td>1</td>\n",
       "      <td>0</td>\n",
       "      <td>0</td>\n",
       "    </tr>\n",
       "    <tr>\n",
       "      <td>4</td>\n",
       "      <td>110000.0</td>\n",
       "      <td>0.0</td>\n",
       "      <td>0.0</td>\n",
       "      <td>0.0</td>\n",
       "      <td>0.0</td>\n",
       "      <td>0.0</td>\n",
       "      <td>0.0</td>\n",
       "      <td>108159.0</td>\n",
       "      <td>106812.0</td>\n",
       "      <td>108464.0</td>\n",
       "      <td>108829.0</td>\n",
       "      <td>110557.0</td>\n",
       "      <td>106082.0</td>\n",
       "      <td>5400.0</td>\n",
       "      <td>5400.0</td>\n",
       "      <td>4100.0</td>\n",
       "      <td>4100.0</td>\n",
       "      <td>4100.0</td>\n",
       "      <td>4200.0</td>\n",
       "      <td>0.0</td>\n",
       "      <td>101982.0</td>\n",
       "      <td>106457.0</td>\n",
       "      <td>104729.0</td>\n",
       "      <td>103064.0</td>\n",
       "      <td>101412.0</td>\n",
       "      <td>0.0</td>\n",
       "      <td>1</td>\n",
       "      <td>1</td>\n",
       "      <td>0</td>\n",
       "      <td>0</td>\n",
       "      <td>1</td>\n",
       "      <td>0</td>\n",
       "      <td>1</td>\n",
       "      <td>0</td>\n",
       "      <td>0</td>\n",
       "      <td>0</td>\n",
       "      <td>0</td>\n",
       "    </tr>\n",
       "  </tbody>\n",
       "</table>\n",
       "</div>"
      ],
      "text/plain": [
       "   LIMIT_BAL  PAY_0  PAY_2  PAY_3  PAY_4  PAY_5  PAY_6  BILL_AMT1  BILL_AMT2  \\\n",
       "0   350000.0   -2.0   -2.0   -2.0   -2.0   -2.0   -2.0      316.0      316.0   \n",
       "1    50000.0    2.0    2.0    2.0    0.0    0.0    0.0    40994.0    43594.0   \n",
       "2    50000.0   -1.0   -1.0   -1.0   -1.0   -1.0   -1.0     3430.0     2478.0   \n",
       "3    20000.0    0.0    0.0    0.0    0.0    2.0    0.0    10847.0    12176.0   \n",
       "4   110000.0    0.0    0.0    0.0    0.0    0.0    0.0   108159.0   106812.0   \n",
       "\n",
       "   BILL_AMT3  BILL_AMT4  BILL_AMT5  BILL_AMT6  PAY_AMT1  PAY_AMT2  PAY_AMT3  \\\n",
       "0      316.0      466.0      466.0      316.0     316.0     316.0     466.0   \n",
       "1    38222.0    13026.0    13268.0    13497.0    5500.0       0.0     580.0   \n",
       "2     2299.0     4800.0     9810.0      660.0    2548.0    2321.0    4800.0   \n",
       "3    12884.0    13784.0    13420.0    13686.0    1508.0    1216.0    1116.0   \n",
       "4   108464.0   108829.0   110557.0   106082.0    5400.0    5400.0    4100.0   \n",
       "\n",
       "   PAY_AMT4  PAY_AMT5  PAY_AMT6  default payment next month  amount_owed6  \\\n",
       "0     466.0     316.0     316.0                         0.0           0.0   \n",
       "1     600.0     600.0     600.0                         0.0       12897.0   \n",
       "2    9810.0     660.0    2980.0                         0.0           0.0   \n",
       "3       0.0     490.0     658.0                         0.0       13196.0   \n",
       "4    4100.0    4100.0    4200.0                         0.0      101982.0   \n",
       "\n",
       "   amount_owed5  amount_owed4  amount_owed3  amount_owed2  late_pay  sex_2.0  \\\n",
       "0           0.0           0.0           0.0           0.0     -12.0        0   \n",
       "1       12668.0       12446.0       38222.0       38094.0       6.0        1   \n",
       "2           0.0           0.0         -22.0         -70.0      -6.0        1   \n",
       "3       13420.0       12668.0       11668.0       10668.0       2.0        0   \n",
       "4      106457.0      104729.0      103064.0      101412.0       0.0        1   \n",
       "\n",
       "   edu_2.0  edu_3.0  edu_4.0  marriage_2.0  marriage_3.0  age_2  age_3  age_4  \\\n",
       "0        0        0        0             1             0      1      0      0   \n",
       "1        1        0        0             0             0      1      0      0   \n",
       "2        0        0        0             1             0      0      0      0   \n",
       "3        0        1        0             0             0      0      0      1   \n",
       "4        1        0        0             1             0      1      0      0   \n",
       "\n",
       "   age_5  age_6  \n",
       "0      0      0  \n",
       "1      0      0  \n",
       "2      0      0  \n",
       "3      0      0  \n",
       "4      0      0  "
      ]
     },
     "execution_count": 143,
     "metadata": {},
     "output_type": "execute_result"
    }
   ],
   "source": [
    "df.head()"
   ]
  },
  {
   "cell_type": "code",
   "execution_count": 96,
   "metadata": {},
   "outputs": [],
   "source": [
    "# create dummies \n",
    "sex_dummies = pd.get_dummies(df_target['SEX'], prefix='sex', drop_first=True)\n",
    "education_dummies = pd.get_dummies(df_target['EDUCATION'], prefix = 'edu', drop_first = True)\n",
    "marriage_dummies = pd.get_dummies(df_target['MARRIAGE'], prefix = 'marriage', drop_first = True)\n",
    "\n",
    "df_target = df_target.drop(['SEX', 'EDUCATION', 'MARRIAGE'], axis=1)\n",
    "df_target = pd.concat([df_target, sex_dummies], axis=1)\n",
    "df_target = pd.concat([df_target, education_dummies], axis=1)\n",
    "df_target = pd.concat([df_target, marriage_dummies], axis=1)"
   ]
  },
  {
   "cell_type": "code",
   "execution_count": 93,
   "metadata": {},
   "outputs": [],
   "source": [
    "df_target['AgeBin'] = 0 #creates a column of 0\n",
    "df_target.loc[((df_target['AGE'] > 20) & (df_target['AGE'] < 30)) , 'AgeBin'] = 1\n",
    "df_target.loc[((df_target['AGE'] >= 30) & (df_target['AGE'] < 40)) , 'AgeBin'] = 2\n",
    "df_target.loc[((df_target['AGE'] >= 40) & (df_target['AGE'] < 50)) , 'AgeBin'] = 3\n",
    "df_target.loc[((df_target['AGE'] >= 50) & (df_target['AGE'] < 60)) , 'AgeBin'] = 4\n",
    "df_target.loc[((df_target['AGE'] >= 60) & (df_target['AGE'] < 70)) , 'AgeBin'] = 5\n",
    "df_target.loc[((df_target['AGE'] >= 70) & (df_target['AGE'] < 81)) , 'AgeBin'] = 6\n",
    "# df_target.AgeBin.hist()"
   ]
  },
  {
   "cell_type": "code",
   "execution_count": 94,
   "metadata": {},
   "outputs": [],
   "source": [
    "df_target.drop(columns = 'AGE', inplace = True, axis =1)"
   ]
  },
  {
   "cell_type": "code",
   "execution_count": 95,
   "metadata": {},
   "outputs": [],
   "source": [
    "age_dummies = pd.get_dummies(df_target['AgeBin'], prefix = 'age', drop_first = True)\n",
    "\n",
    "df_target = df_target.drop(['AgeBin'], axis=1)\n",
    "df_target = pd.concat([df_target, age_dummies], axis=1)"
   ]
  },
  {
   "cell_type": "code",
   "execution_count": 13,
   "metadata": {
    "scrolled": true
   },
   "outputs": [
    {
     "data": {
      "text/plain": [
       "(23985, 32)"
      ]
     },
     "execution_count": 13,
     "metadata": {},
     "output_type": "execute_result"
    }
   ],
   "source": [
    "# pay_amt 5 = bill_amt6\n",
    "df.shape"
   ]
  },
  {
   "cell_type": "code",
   "execution_count": 90,
   "metadata": {},
   "outputs": [],
   "source": [
    "df_target['amount_owed6'] = df_target['BILL_AMT6']- df_target['PAY_AMT5']\n",
    "df_target['amount_owed5'] = df_target['BILL_AMT5']- df_target['PAY_AMT4']\n",
    "df_target['amount_owed4'] = df_target['BILL_AMT4']- df_target['PAY_AMT3']\n",
    "df_target['amount_owed3'] = df_target['BILL_AMT3']- df_target['PAY_AMT2']\n",
    "df_target['amount_owed2'] = df_target['BILL_AMT2']- df_target['PAY_AMT1']"
   ]
  },
  {
   "cell_type": "code",
   "execution_count": 91,
   "metadata": {},
   "outputs": [],
   "source": [
    "df_target['late_pay'] = df_target[\"PAY_0\"] + df_target[\"PAY_2\"]+ df_target[\"PAY_3\"]+ df_target[\"PAY_4\"]+ df_target[\"PAY_5\"]+ df_target[\"PAY_6\"]\n",
    "df_target.loc[(df_target['EDUCATION'] == 0) | (df_target['EDUCATION'] == 5) | (df_target['EDUCATION'] == 6), 'EDUCATION'] = 4\n",
    "df_target.drop(columns = 'ID', inplace = True)\n",
    "df_target.MARRIAGE.replace(0.0, 3.0, inplace =True)"
   ]
  },
  {
   "cell_type": "code",
   "execution_count": 92,
   "metadata": {},
   "outputs": [
    {
     "ename": "KeyError",
     "evalue": "\"['Unnamed: 0'] not found in axis\"",
     "output_type": "error",
     "traceback": [
      "\u001b[0;31m---------------------------------------------------------------------------\u001b[0m",
      "\u001b[0;31mKeyError\u001b[0m                                  Traceback (most recent call last)",
      "\u001b[0;32m<ipython-input-92-8c40ab4b7d26>\u001b[0m in \u001b[0;36m<module>\u001b[0;34m\u001b[0m\n\u001b[0;32m----> 1\u001b[0;31m \u001b[0mdf\u001b[0m\u001b[0;34m.\u001b[0m\u001b[0mdrop\u001b[0m\u001b[0;34m(\u001b[0m\u001b[0mcolumns\u001b[0m \u001b[0;34m=\u001b[0m\u001b[0;34m[\u001b[0m\u001b[0;34m'Unnamed: 0'\u001b[0m\u001b[0;34m]\u001b[0m\u001b[0;34m,\u001b[0m \u001b[0minplace\u001b[0m \u001b[0;34m=\u001b[0m \u001b[0;32mTrue\u001b[0m\u001b[0;34m)\u001b[0m\u001b[0;34m\u001b[0m\u001b[0;34m\u001b[0m\u001b[0m\n\u001b[0m",
      "\u001b[0;32m~/opt/anaconda3/lib/python3.7/site-packages/pandas/core/frame.py\u001b[0m in \u001b[0;36mdrop\u001b[0;34m(self, labels, axis, index, columns, level, inplace, errors)\u001b[0m\n\u001b[1;32m   4100\u001b[0m             \u001b[0mlevel\u001b[0m\u001b[0;34m=\u001b[0m\u001b[0mlevel\u001b[0m\u001b[0;34m,\u001b[0m\u001b[0;34m\u001b[0m\u001b[0;34m\u001b[0m\u001b[0m\n\u001b[1;32m   4101\u001b[0m             \u001b[0minplace\u001b[0m\u001b[0;34m=\u001b[0m\u001b[0minplace\u001b[0m\u001b[0;34m,\u001b[0m\u001b[0;34m\u001b[0m\u001b[0;34m\u001b[0m\u001b[0m\n\u001b[0;32m-> 4102\u001b[0;31m             \u001b[0merrors\u001b[0m\u001b[0;34m=\u001b[0m\u001b[0merrors\u001b[0m\u001b[0;34m,\u001b[0m\u001b[0;34m\u001b[0m\u001b[0;34m\u001b[0m\u001b[0m\n\u001b[0m\u001b[1;32m   4103\u001b[0m         )\n\u001b[1;32m   4104\u001b[0m \u001b[0;34m\u001b[0m\u001b[0m\n",
      "\u001b[0;32m~/opt/anaconda3/lib/python3.7/site-packages/pandas/core/generic.py\u001b[0m in \u001b[0;36mdrop\u001b[0;34m(self, labels, axis, index, columns, level, inplace, errors)\u001b[0m\n\u001b[1;32m   3912\u001b[0m         \u001b[0;32mfor\u001b[0m \u001b[0maxis\u001b[0m\u001b[0;34m,\u001b[0m \u001b[0mlabels\u001b[0m \u001b[0;32min\u001b[0m \u001b[0maxes\u001b[0m\u001b[0;34m.\u001b[0m\u001b[0mitems\u001b[0m\u001b[0;34m(\u001b[0m\u001b[0;34m)\u001b[0m\u001b[0;34m:\u001b[0m\u001b[0;34m\u001b[0m\u001b[0;34m\u001b[0m\u001b[0m\n\u001b[1;32m   3913\u001b[0m             \u001b[0;32mif\u001b[0m \u001b[0mlabels\u001b[0m \u001b[0;32mis\u001b[0m \u001b[0;32mnot\u001b[0m \u001b[0;32mNone\u001b[0m\u001b[0;34m:\u001b[0m\u001b[0;34m\u001b[0m\u001b[0;34m\u001b[0m\u001b[0m\n\u001b[0;32m-> 3914\u001b[0;31m                 \u001b[0mobj\u001b[0m \u001b[0;34m=\u001b[0m \u001b[0mobj\u001b[0m\u001b[0;34m.\u001b[0m\u001b[0m_drop_axis\u001b[0m\u001b[0;34m(\u001b[0m\u001b[0mlabels\u001b[0m\u001b[0;34m,\u001b[0m \u001b[0maxis\u001b[0m\u001b[0;34m,\u001b[0m \u001b[0mlevel\u001b[0m\u001b[0;34m=\u001b[0m\u001b[0mlevel\u001b[0m\u001b[0;34m,\u001b[0m \u001b[0merrors\u001b[0m\u001b[0;34m=\u001b[0m\u001b[0merrors\u001b[0m\u001b[0;34m)\u001b[0m\u001b[0;34m\u001b[0m\u001b[0;34m\u001b[0m\u001b[0m\n\u001b[0m\u001b[1;32m   3915\u001b[0m \u001b[0;34m\u001b[0m\u001b[0m\n\u001b[1;32m   3916\u001b[0m         \u001b[0;32mif\u001b[0m \u001b[0minplace\u001b[0m\u001b[0;34m:\u001b[0m\u001b[0;34m\u001b[0m\u001b[0;34m\u001b[0m\u001b[0m\n",
      "\u001b[0;32m~/opt/anaconda3/lib/python3.7/site-packages/pandas/core/generic.py\u001b[0m in \u001b[0;36m_drop_axis\u001b[0;34m(self, labels, axis, level, errors)\u001b[0m\n\u001b[1;32m   3944\u001b[0m                 \u001b[0mnew_axis\u001b[0m \u001b[0;34m=\u001b[0m \u001b[0maxis\u001b[0m\u001b[0;34m.\u001b[0m\u001b[0mdrop\u001b[0m\u001b[0;34m(\u001b[0m\u001b[0mlabels\u001b[0m\u001b[0;34m,\u001b[0m \u001b[0mlevel\u001b[0m\u001b[0;34m=\u001b[0m\u001b[0mlevel\u001b[0m\u001b[0;34m,\u001b[0m \u001b[0merrors\u001b[0m\u001b[0;34m=\u001b[0m\u001b[0merrors\u001b[0m\u001b[0;34m)\u001b[0m\u001b[0;34m\u001b[0m\u001b[0;34m\u001b[0m\u001b[0m\n\u001b[1;32m   3945\u001b[0m             \u001b[0;32melse\u001b[0m\u001b[0;34m:\u001b[0m\u001b[0;34m\u001b[0m\u001b[0;34m\u001b[0m\u001b[0m\n\u001b[0;32m-> 3946\u001b[0;31m                 \u001b[0mnew_axis\u001b[0m \u001b[0;34m=\u001b[0m \u001b[0maxis\u001b[0m\u001b[0;34m.\u001b[0m\u001b[0mdrop\u001b[0m\u001b[0;34m(\u001b[0m\u001b[0mlabels\u001b[0m\u001b[0;34m,\u001b[0m \u001b[0merrors\u001b[0m\u001b[0;34m=\u001b[0m\u001b[0merrors\u001b[0m\u001b[0;34m)\u001b[0m\u001b[0;34m\u001b[0m\u001b[0;34m\u001b[0m\u001b[0m\n\u001b[0m\u001b[1;32m   3947\u001b[0m             \u001b[0mresult\u001b[0m \u001b[0;34m=\u001b[0m \u001b[0mself\u001b[0m\u001b[0;34m.\u001b[0m\u001b[0mreindex\u001b[0m\u001b[0;34m(\u001b[0m\u001b[0;34m**\u001b[0m\u001b[0;34m{\u001b[0m\u001b[0maxis_name\u001b[0m\u001b[0;34m:\u001b[0m \u001b[0mnew_axis\u001b[0m\u001b[0;34m}\u001b[0m\u001b[0;34m)\u001b[0m\u001b[0;34m\u001b[0m\u001b[0;34m\u001b[0m\u001b[0m\n\u001b[1;32m   3948\u001b[0m \u001b[0;34m\u001b[0m\u001b[0m\n",
      "\u001b[0;32m~/opt/anaconda3/lib/python3.7/site-packages/pandas/core/indexes/base.py\u001b[0m in \u001b[0;36mdrop\u001b[0;34m(self, labels, errors)\u001b[0m\n\u001b[1;32m   5338\u001b[0m         \u001b[0;32mif\u001b[0m \u001b[0mmask\u001b[0m\u001b[0;34m.\u001b[0m\u001b[0many\u001b[0m\u001b[0;34m(\u001b[0m\u001b[0;34m)\u001b[0m\u001b[0;34m:\u001b[0m\u001b[0;34m\u001b[0m\u001b[0;34m\u001b[0m\u001b[0m\n\u001b[1;32m   5339\u001b[0m             \u001b[0;32mif\u001b[0m \u001b[0merrors\u001b[0m \u001b[0;34m!=\u001b[0m \u001b[0;34m\"ignore\"\u001b[0m\u001b[0;34m:\u001b[0m\u001b[0;34m\u001b[0m\u001b[0;34m\u001b[0m\u001b[0m\n\u001b[0;32m-> 5340\u001b[0;31m                 \u001b[0;32mraise\u001b[0m \u001b[0mKeyError\u001b[0m\u001b[0;34m(\u001b[0m\u001b[0;34m\"{} not found in axis\"\u001b[0m\u001b[0;34m.\u001b[0m\u001b[0mformat\u001b[0m\u001b[0;34m(\u001b[0m\u001b[0mlabels\u001b[0m\u001b[0;34m[\u001b[0m\u001b[0mmask\u001b[0m\u001b[0;34m]\u001b[0m\u001b[0;34m)\u001b[0m\u001b[0;34m)\u001b[0m\u001b[0;34m\u001b[0m\u001b[0;34m\u001b[0m\u001b[0m\n\u001b[0m\u001b[1;32m   5341\u001b[0m             \u001b[0mindexer\u001b[0m \u001b[0;34m=\u001b[0m \u001b[0mindexer\u001b[0m\u001b[0;34m[\u001b[0m\u001b[0;34m~\u001b[0m\u001b[0mmask\u001b[0m\u001b[0;34m]\u001b[0m\u001b[0;34m\u001b[0m\u001b[0;34m\u001b[0m\u001b[0m\n\u001b[1;32m   5342\u001b[0m         \u001b[0;32mreturn\u001b[0m \u001b[0mself\u001b[0m\u001b[0;34m.\u001b[0m\u001b[0mdelete\u001b[0m\u001b[0;34m(\u001b[0m\u001b[0mindexer\u001b[0m\u001b[0;34m)\u001b[0m\u001b[0;34m\u001b[0m\u001b[0;34m\u001b[0m\u001b[0m\n",
      "\u001b[0;31mKeyError\u001b[0m: \"['Unnamed: 0'] not found in axis\""
     ]
    }
   ],
   "source": [
    "df.drop(columns =['Unnamed: 0'], inplace = True)"
   ]
  },
  {
   "cell_type": "code",
   "execution_count": 9,
   "metadata": {},
   "outputs": [
    {
     "data": {
      "text/html": [
       "<div>\n",
       "<style scoped>\n",
       "    .dataframe tbody tr th:only-of-type {\n",
       "        vertical-align: middle;\n",
       "    }\n",
       "\n",
       "    .dataframe tbody tr th {\n",
       "        vertical-align: top;\n",
       "    }\n",
       "\n",
       "    .dataframe thead th {\n",
       "        text-align: right;\n",
       "    }\n",
       "</style>\n",
       "<table border=\"1\" class=\"dataframe\">\n",
       "  <thead>\n",
       "    <tr style=\"text-align: right;\">\n",
       "      <th></th>\n",
       "      <th>LIMIT_BAL</th>\n",
       "      <th>PAY_0</th>\n",
       "      <th>PAY_2</th>\n",
       "      <th>PAY_3</th>\n",
       "      <th>PAY_4</th>\n",
       "      <th>PAY_5</th>\n",
       "      <th>PAY_6</th>\n",
       "      <th>BILL_AMT1</th>\n",
       "      <th>BILL_AMT2</th>\n",
       "      <th>BILL_AMT3</th>\n",
       "      <th>BILL_AMT4</th>\n",
       "      <th>BILL_AMT5</th>\n",
       "      <th>BILL_AMT6</th>\n",
       "      <th>PAY_AMT1</th>\n",
       "      <th>PAY_AMT2</th>\n",
       "      <th>PAY_AMT3</th>\n",
       "      <th>PAY_AMT4</th>\n",
       "      <th>PAY_AMT5</th>\n",
       "      <th>PAY_AMT6</th>\n",
       "      <th>default payment next month</th>\n",
       "      <th>amount_owed6</th>\n",
       "      <th>amount_owed5</th>\n",
       "      <th>amount_owed4</th>\n",
       "      <th>amount_owed3</th>\n",
       "      <th>amount_owed2</th>\n",
       "      <th>late_pay</th>\n",
       "      <th>sex_2.0</th>\n",
       "      <th>edu_2.0</th>\n",
       "      <th>edu_3.0</th>\n",
       "      <th>edu_4.0</th>\n",
       "      <th>marriage_2.0</th>\n",
       "      <th>marriage_3.0</th>\n",
       "      <th>age_2</th>\n",
       "      <th>age_3</th>\n",
       "      <th>age_4</th>\n",
       "      <th>age_5</th>\n",
       "      <th>age_6</th>\n",
       "    </tr>\n",
       "  </thead>\n",
       "  <tbody>\n",
       "    <tr>\n",
       "      <td>0</td>\n",
       "      <td>350000.0</td>\n",
       "      <td>-2.0</td>\n",
       "      <td>-2.0</td>\n",
       "      <td>-2.0</td>\n",
       "      <td>-2.0</td>\n",
       "      <td>-2.0</td>\n",
       "      <td>-2.0</td>\n",
       "      <td>316.0</td>\n",
       "      <td>316.0</td>\n",
       "      <td>316.0</td>\n",
       "      <td>466.0</td>\n",
       "      <td>466.0</td>\n",
       "      <td>316.0</td>\n",
       "      <td>316.0</td>\n",
       "      <td>316.0</td>\n",
       "      <td>466.0</td>\n",
       "      <td>466.0</td>\n",
       "      <td>316.0</td>\n",
       "      <td>316.0</td>\n",
       "      <td>0.0</td>\n",
       "      <td>0.0</td>\n",
       "      <td>0.0</td>\n",
       "      <td>0.0</td>\n",
       "      <td>0.0</td>\n",
       "      <td>0.0</td>\n",
       "      <td>-12.0</td>\n",
       "      <td>0</td>\n",
       "      <td>0</td>\n",
       "      <td>0</td>\n",
       "      <td>0</td>\n",
       "      <td>1</td>\n",
       "      <td>0</td>\n",
       "      <td>1</td>\n",
       "      <td>0</td>\n",
       "      <td>0</td>\n",
       "      <td>0</td>\n",
       "      <td>0</td>\n",
       "    </tr>\n",
       "    <tr>\n",
       "      <td>1</td>\n",
       "      <td>50000.0</td>\n",
       "      <td>2.0</td>\n",
       "      <td>2.0</td>\n",
       "      <td>2.0</td>\n",
       "      <td>0.0</td>\n",
       "      <td>0.0</td>\n",
       "      <td>0.0</td>\n",
       "      <td>40994.0</td>\n",
       "      <td>43594.0</td>\n",
       "      <td>38222.0</td>\n",
       "      <td>13026.0</td>\n",
       "      <td>13268.0</td>\n",
       "      <td>13497.0</td>\n",
       "      <td>5500.0</td>\n",
       "      <td>0.0</td>\n",
       "      <td>580.0</td>\n",
       "      <td>600.0</td>\n",
       "      <td>600.0</td>\n",
       "      <td>600.0</td>\n",
       "      <td>0.0</td>\n",
       "      <td>12897.0</td>\n",
       "      <td>12668.0</td>\n",
       "      <td>12446.0</td>\n",
       "      <td>38222.0</td>\n",
       "      <td>38094.0</td>\n",
       "      <td>6.0</td>\n",
       "      <td>1</td>\n",
       "      <td>1</td>\n",
       "      <td>0</td>\n",
       "      <td>0</td>\n",
       "      <td>0</td>\n",
       "      <td>0</td>\n",
       "      <td>1</td>\n",
       "      <td>0</td>\n",
       "      <td>0</td>\n",
       "      <td>0</td>\n",
       "      <td>0</td>\n",
       "    </tr>\n",
       "    <tr>\n",
       "      <td>2</td>\n",
       "      <td>50000.0</td>\n",
       "      <td>-1.0</td>\n",
       "      <td>-1.0</td>\n",
       "      <td>-1.0</td>\n",
       "      <td>-1.0</td>\n",
       "      <td>-1.0</td>\n",
       "      <td>-1.0</td>\n",
       "      <td>3430.0</td>\n",
       "      <td>2478.0</td>\n",
       "      <td>2299.0</td>\n",
       "      <td>4800.0</td>\n",
       "      <td>9810.0</td>\n",
       "      <td>660.0</td>\n",
       "      <td>2548.0</td>\n",
       "      <td>2321.0</td>\n",
       "      <td>4800.0</td>\n",
       "      <td>9810.0</td>\n",
       "      <td>660.0</td>\n",
       "      <td>2980.0</td>\n",
       "      <td>0.0</td>\n",
       "      <td>0.0</td>\n",
       "      <td>0.0</td>\n",
       "      <td>0.0</td>\n",
       "      <td>-22.0</td>\n",
       "      <td>-70.0</td>\n",
       "      <td>-6.0</td>\n",
       "      <td>1</td>\n",
       "      <td>0</td>\n",
       "      <td>0</td>\n",
       "      <td>0</td>\n",
       "      <td>1</td>\n",
       "      <td>0</td>\n",
       "      <td>0</td>\n",
       "      <td>0</td>\n",
       "      <td>0</td>\n",
       "      <td>0</td>\n",
       "      <td>0</td>\n",
       "    </tr>\n",
       "    <tr>\n",
       "      <td>3</td>\n",
       "      <td>20000.0</td>\n",
       "      <td>0.0</td>\n",
       "      <td>0.0</td>\n",
       "      <td>0.0</td>\n",
       "      <td>0.0</td>\n",
       "      <td>2.0</td>\n",
       "      <td>0.0</td>\n",
       "      <td>10847.0</td>\n",
       "      <td>12176.0</td>\n",
       "      <td>12884.0</td>\n",
       "      <td>13784.0</td>\n",
       "      <td>13420.0</td>\n",
       "      <td>13686.0</td>\n",
       "      <td>1508.0</td>\n",
       "      <td>1216.0</td>\n",
       "      <td>1116.0</td>\n",
       "      <td>0.0</td>\n",
       "      <td>490.0</td>\n",
       "      <td>658.0</td>\n",
       "      <td>0.0</td>\n",
       "      <td>13196.0</td>\n",
       "      <td>13420.0</td>\n",
       "      <td>12668.0</td>\n",
       "      <td>11668.0</td>\n",
       "      <td>10668.0</td>\n",
       "      <td>2.0</td>\n",
       "      <td>0</td>\n",
       "      <td>0</td>\n",
       "      <td>1</td>\n",
       "      <td>0</td>\n",
       "      <td>0</td>\n",
       "      <td>0</td>\n",
       "      <td>0</td>\n",
       "      <td>0</td>\n",
       "      <td>1</td>\n",
       "      <td>0</td>\n",
       "      <td>0</td>\n",
       "    </tr>\n",
       "    <tr>\n",
       "      <td>4</td>\n",
       "      <td>110000.0</td>\n",
       "      <td>0.0</td>\n",
       "      <td>0.0</td>\n",
       "      <td>0.0</td>\n",
       "      <td>0.0</td>\n",
       "      <td>0.0</td>\n",
       "      <td>0.0</td>\n",
       "      <td>108159.0</td>\n",
       "      <td>106812.0</td>\n",
       "      <td>108464.0</td>\n",
       "      <td>108829.0</td>\n",
       "      <td>110557.0</td>\n",
       "      <td>106082.0</td>\n",
       "      <td>5400.0</td>\n",
       "      <td>5400.0</td>\n",
       "      <td>4100.0</td>\n",
       "      <td>4100.0</td>\n",
       "      <td>4100.0</td>\n",
       "      <td>4200.0</td>\n",
       "      <td>0.0</td>\n",
       "      <td>101982.0</td>\n",
       "      <td>106457.0</td>\n",
       "      <td>104729.0</td>\n",
       "      <td>103064.0</td>\n",
       "      <td>101412.0</td>\n",
       "      <td>0.0</td>\n",
       "      <td>1</td>\n",
       "      <td>1</td>\n",
       "      <td>0</td>\n",
       "      <td>0</td>\n",
       "      <td>1</td>\n",
       "      <td>0</td>\n",
       "      <td>1</td>\n",
       "      <td>0</td>\n",
       "      <td>0</td>\n",
       "      <td>0</td>\n",
       "      <td>0</td>\n",
       "    </tr>\n",
       "  </tbody>\n",
       "</table>\n",
       "</div>"
      ],
      "text/plain": [
       "   LIMIT_BAL  PAY_0  PAY_2  PAY_3  PAY_4  PAY_5  PAY_6  BILL_AMT1  BILL_AMT2  \\\n",
       "0   350000.0   -2.0   -2.0   -2.0   -2.0   -2.0   -2.0      316.0      316.0   \n",
       "1    50000.0    2.0    2.0    2.0    0.0    0.0    0.0    40994.0    43594.0   \n",
       "2    50000.0   -1.0   -1.0   -1.0   -1.0   -1.0   -1.0     3430.0     2478.0   \n",
       "3    20000.0    0.0    0.0    0.0    0.0    2.0    0.0    10847.0    12176.0   \n",
       "4   110000.0    0.0    0.0    0.0    0.0    0.0    0.0   108159.0   106812.0   \n",
       "\n",
       "   BILL_AMT3  BILL_AMT4  BILL_AMT5  BILL_AMT6  PAY_AMT1  PAY_AMT2  PAY_AMT3  \\\n",
       "0      316.0      466.0      466.0      316.0     316.0     316.0     466.0   \n",
       "1    38222.0    13026.0    13268.0    13497.0    5500.0       0.0     580.0   \n",
       "2     2299.0     4800.0     9810.0      660.0    2548.0    2321.0    4800.0   \n",
       "3    12884.0    13784.0    13420.0    13686.0    1508.0    1216.0    1116.0   \n",
       "4   108464.0   108829.0   110557.0   106082.0    5400.0    5400.0    4100.0   \n",
       "\n",
       "   PAY_AMT4  PAY_AMT5  PAY_AMT6  default payment next month  amount_owed6  \\\n",
       "0     466.0     316.0     316.0                         0.0           0.0   \n",
       "1     600.0     600.0     600.0                         0.0       12897.0   \n",
       "2    9810.0     660.0    2980.0                         0.0           0.0   \n",
       "3       0.0     490.0     658.0                         0.0       13196.0   \n",
       "4    4100.0    4100.0    4200.0                         0.0      101982.0   \n",
       "\n",
       "   amount_owed5  amount_owed4  amount_owed3  amount_owed2  late_pay  sex_2.0  \\\n",
       "0           0.0           0.0           0.0           0.0     -12.0        0   \n",
       "1       12668.0       12446.0       38222.0       38094.0       6.0        1   \n",
       "2           0.0           0.0         -22.0         -70.0      -6.0        1   \n",
       "3       13420.0       12668.0       11668.0       10668.0       2.0        0   \n",
       "4      106457.0      104729.0      103064.0      101412.0       0.0        1   \n",
       "\n",
       "   edu_2.0  edu_3.0  edu_4.0  marriage_2.0  marriage_3.0  age_2  age_3  age_4  \\\n",
       "0        0        0        0             1             0      1      0      0   \n",
       "1        1        0        0             0             0      1      0      0   \n",
       "2        0        0        0             1             0      0      0      0   \n",
       "3        0        1        0             0             0      0      0      1   \n",
       "4        1        0        0             1             0      1      0      0   \n",
       "\n",
       "   age_5  age_6  \n",
       "0      0      0  \n",
       "1      0      0  \n",
       "2      0      0  \n",
       "3      0      0  \n",
       "4      0      0  "
      ]
     },
     "execution_count": 9,
     "metadata": {},
     "output_type": "execute_result"
    }
   ],
   "source": [
    "df.head()"
   ]
  },
  {
   "cell_type": "code",
   "execution_count": null,
   "metadata": {},
   "outputs": [],
   "source": []
  },
  {
   "cell_type": "code",
   "execution_count": 18,
   "metadata": {},
   "outputs": [
    {
     "data": {
      "text/plain": [
       "2.0    11183\n",
       "1.0     8436\n",
       "3.0     3991\n",
       "4.0      375\n",
       "Name: EDUCATION, dtype: int64"
      ]
     },
     "execution_count": 18,
     "metadata": {},
     "output_type": "execute_result"
    }
   ],
   "source": [
    "df['EDUCATION'].value_counts()"
   ]
  },
  {
   "cell_type": "code",
   "execution_count": 19,
   "metadata": {},
   "outputs": [
    {
     "data": {
      "image/png": "[encoded data removed]",
      "text/plain": [
       "<Figure size 432x288 with 1 Axes>"
      ]
     },
     "metadata": {
      "needs_background": "light"
     },
     "output_type": "display_data"
    },
    {
     "data": {
      "image/png": "[encoded data removed]",
      "text/plain": [
       "<Figure size 432x288 with 1 Axes>"
      ]
     },
     "metadata": {
      "needs_background": "light"
     },
     "output_type": "display_data"
    },
    {
     "data": {
      "image/png": "[encoded data removed]",
      "text/plain": [
       "<Figure size 432x288 with 1 Axes>"
      ]
     },
     "metadata": {
      "needs_background": "light"
     },
     "output_type": "display_data"
    },
    {
     "data": {
      "image/png": "[encoded data removed]",
      "text/plain": [
       "<Figure size 432x288 with 1 Axes>"
      ]
     },
     "metadata": {
      "needs_background": "light"
     },
     "output_type": "display_data"
    },
    {
     "data": {
      "image/png": "[encoded data removed]",
      "text/plain": [
       "<Figure size 432x288 with 1 Axes>"
      ]
     },
     "metadata": {
      "needs_background": "light"
     },
     "output_type": "display_data"
    },
    {
     "data": {
      "image/png": "[encoded data removed]",
      "text/plain": [
       "<Figure size 432x288 with 1 Axes>"
      ]
     },
     "metadata": {
      "needs_background": "light"
     },
     "output_type": "display_data"
    },
    {
     "data": {
      "image/png": "[encoded data removed]",
      "text/plain": [
       "<Figure size 432x288 with 1 Axes>"
      ]
     },
     "metadata": {
      "needs_background": "light"
     },
     "output_type": "display_data"
    },
    {
     "data": {
      "image/png": "[encoded data removed]",
      "text/plain": [
       "<Figure size 432x288 with 1 Axes>"
      ]
     },
     "metadata": {
      "needs_background": "light"
     },
     "output_type": "display_data"
    },
    {
     "data": {
      "image/png": "[encoded data removed]",
      "text/plain": [
       "<Figure size 432x288 with 1 Axes>"
      ]
     },
     "metadata": {
      "needs_background": "light"
     },
     "output_type": "display_data"
    },
    {
     "data": {
      "image/png": "[encoded data removed]",
      "text/plain": [
       "<Figure size 432x288 with 1 Axes>"
      ]
     },
     "metadata": {
      "needs_background": "light"
     },
     "output_type": "display_data"
    },
    {
     "data": {
      "image/png": "[encoded data removed]",
      "text/plain": [
       "<Figure size 432x288 with 1 Axes>"
      ]
     },
     "metadata": {
      "needs_background": "light"
     },
     "output_type": "display_data"
    },
    {
     "data": {
      "image/png": "[encoded data removed]",
      "text/plain": [
       "<Figure size 432x288 with 1 Axes>"
      ]
     },
     "metadata": {
      "needs_background": "light"
     },
     "output_type": "display_data"
    }
   ],
   "source": [
    "variable = ['BILL_AMT6', 'PAY_AMT1', 'PAY_AMT2', 'PAY_AMT3', 'PAY_AMT4', 'PAY_AMT5', 'PAY_AMT6', 'BILL_AMT5', 'BILL_AMT4', 'BILL_AMT3', 'BILL_AMT2', 'BILL_AMT1'] \n",
    "\n",
    "def bill_pay_amt(df, var):\n",
    "    df = df.copy()\n",
    "    \n",
    "    plt.scatter(df[var], df['default payment next month'])\n",
    "    plt.ylabel('default payment next month')\n",
    "    plt.xlabel(var)\n",
    "    plt.show()\n",
    "    \n",
    "for var in variable:\n",
    "    bill_pay_amt(df, var)"
   ]
  },
  {
   "cell_type": "code",
   "execution_count": 97,
   "metadata": {},
   "outputs": [],
   "source": [
    "df.loc[df['BILL_AMT1'] > 800000] = np.nan\n",
    "df.loc[df['BILL_AMT2'] > 800000] = np.nan\n",
    "df.loc[df['BILL_AMT3'] > 1000000] = np.nan\n",
    "df.loc[df['BILL_AMT4'] > 800000] = np.nan\n",
    "df.loc[df['BILL_AMT5'] > 800000] = np.nan\n",
    "df.loc[df['PAY_AMT6'] > 500000] = np.nan\n",
    "df.loc[df['PAY_AMT5'] > 350000] = np.nan\n",
    "df.loc[df['PAY_AMT4'] > 400000] = np.nan\n",
    "df.loc[df['PAY_AMT3'] > 600000] = np.nan\n",
    "df.loc[df['PAY_AMT2'] > 750000] = np.nan\n",
    "df.loc[df['PAY_AMT1'] > 400000] = np.nan\n",
    "df.loc[df['BILL_AMT6'] > 600000] = np.nan\n",
    "\n",
    "df.dropna(inplace = True)"
   ]
  },
  {
   "cell_type": "code",
   "execution_count": null,
   "metadata": {},
   "outputs": [],
   "source": []
  },
  {
   "cell_type": "code",
   "execution_count": 21,
   "metadata": {},
   "outputs": [
    {
     "data": {
      "text/plain": [
       " 0.0    13087\n",
       "-1.0     4555\n",
       "-2.0     3878\n",
       " 2.0     2211\n",
       " 3.0      146\n",
       " 4.0       42\n",
       " 7.0       39\n",
       " 6.0       14\n",
       " 5.0       11\n",
       " 8.0        2\n",
       "Name: PAY_6, dtype: int64"
      ]
     },
     "execution_count": 21,
     "metadata": {},
     "output_type": "execute_result"
    }
   ],
   "source": [
    "df['PAY_6'].value_counts()"
   ]
  },
  {
   "cell_type": "code",
   "execution_count": 22,
   "metadata": {},
   "outputs": [
    {
     "data": {
      "text/plain": [
       "(23985, 30)"
      ]
     },
     "execution_count": 22,
     "metadata": {},
     "output_type": "execute_result"
    }
   ],
   "source": [
    "df.shape"
   ]
  },
  {
   "cell_type": "code",
   "execution_count": 23,
   "metadata": {},
   "outputs": [],
   "source": [
    "# df.to_csv('clean_with_new_columns.csv')"
   ]
  },
  {
   "cell_type": "code",
   "execution_count": null,
   "metadata": {},
   "outputs": [],
   "source": []
  },
  {
   "cell_type": "code",
   "execution_count": 24,
   "metadata": {},
   "outputs": [
    {
     "data": {
      "text/plain": [
       "2.0    12728\n",
       "1.0    10952\n",
       "3.0      305\n",
       "Name: MARRIAGE, dtype: int64"
      ]
     },
     "execution_count": 24,
     "metadata": {},
     "output_type": "execute_result"
    }
   ],
   "source": [
    "df['MARRIAGE'].value_counts()"
   ]
  },
  {
   "cell_type": "markdown",
   "metadata": {},
   "source": [
    "## 2. EDA"
   ]
  },
  {
   "cell_type": "code",
   "execution_count": 25,
   "metadata": {},
   "outputs": [
    {
     "ename": "SyntaxError",
     "evalue": "invalid syntax (<ipython-input-25-4e39127ce1d3>, line 1)",
     "output_type": "error",
     "traceback": [
      "\u001b[0;36m  File \u001b[0;32m\"<ipython-input-25-4e39127ce1d3>\"\u001b[0;36m, line \u001b[0;32m1\u001b[0m\n\u001b[0;31m    plt.hist(df['AGE'], bins = )\u001b[0m\n\u001b[0m                               ^\u001b[0m\n\u001b[0;31mSyntaxError\u001b[0m\u001b[0;31m:\u001b[0m invalid syntax\n"
     ]
    }
   ],
   "source": [
    "plt.hist(df['AGE'], bins = )"
   ]
  },
  {
   "cell_type": "code",
   "execution_count": null,
   "metadata": {},
   "outputs": [],
   "source": [
    "df['AGE'].describe()"
   ]
  },
  {
   "cell_type": "code",
   "execution_count": null,
   "metadata": {},
   "outputs": [],
   "source": [
    "plt.hist(df['BILL_AMT3'] )"
   ]
  },
  {
   "cell_type": "code",
   "execution_count": null,
   "metadata": {},
   "outputs": [],
   "source": []
  },
  {
   "cell_type": "code",
   "execution_count": null,
   "metadata": {},
   "outputs": [],
   "source": []
  },
  {
   "cell_type": "code",
   "execution_count": null,
   "metadata": {},
   "outputs": [],
   "source": []
  },
  {
   "cell_type": "markdown",
   "metadata": {},
   "source": [
    "## 3. Feature Engineering"
   ]
  },
  {
   "cell_type": "code",
   "execution_count": null,
   "metadata": {},
   "outputs": [],
   "source": []
  },
  {
   "cell_type": "code",
   "execution_count": null,
   "metadata": {},
   "outputs": [],
   "source": []
  },
  {
   "cell_type": "code",
   "execution_count": null,
   "metadata": {},
   "outputs": [],
   "source": []
  },
  {
   "cell_type": "code",
   "execution_count": null,
   "metadata": {},
   "outputs": [],
   "source": []
  },
  {
   "cell_type": "code",
   "execution_count": null,
   "metadata": {},
   "outputs": [],
   "source": []
  },
  {
   "cell_type": "markdown",
   "metadata": {},
   "source": [
    "## 4. Feature Selection"
   ]
  },
  {
   "cell_type": "code",
   "execution_count": null,
   "metadata": {},
   "outputs": [],
   "source": [
    "corr = df.corr()\n",
    "sns.heatmap(corr)"
   ]
  },
  {
   "cell_type": "code",
   "execution_count": null,
   "metadata": {},
   "outputs": [],
   "source": [
    "# df.drop(columns = ['amount_owed6', 'amount_owed5', 'amount_owed4', 'amount_owed3', 'amount_owed2'], inplace = True)"
   ]
  },
  {
   "cell_type": "code",
   "execution_count": null,
   "metadata": {},
   "outputs": [],
   "source": []
  },
  {
   "cell_type": "code",
   "execution_count": null,
   "metadata": {},
   "outputs": [],
   "source": []
  },
  {
   "cell_type": "code",
   "execution_count": 26,
   "metadata": {
    "scrolled": true
   },
   "outputs": [
    {
     "data": {
      "text/plain": [
       "LIMIT_BAL                     float64\n",
       "SEX                           float64\n",
       "EDUCATION                     float64\n",
       "MARRIAGE                      float64\n",
       "AGE                           float64\n",
       "PAY_0                         float64\n",
       "PAY_2                         float64\n",
       "PAY_3                         float64\n",
       "PAY_4                         float64\n",
       "PAY_5                         float64\n",
       "PAY_6                         float64\n",
       "BILL_AMT1                     float64\n",
       "BILL_AMT2                     float64\n",
       "BILL_AMT3                     float64\n",
       "BILL_AMT4                     float64\n",
       "BILL_AMT5                     float64\n",
       "BILL_AMT6                     float64\n",
       "PAY_AMT1                      float64\n",
       "PAY_AMT2                      float64\n",
       "PAY_AMT3                      float64\n",
       "PAY_AMT4                      float64\n",
       "PAY_AMT5                      float64\n",
       "PAY_AMT6                      float64\n",
       "default payment next month    float64\n",
       "amount_owed6                  float64\n",
       "amount_owed5                  float64\n",
       "amount_owed4                  float64\n",
       "amount_owed3                  float64\n",
       "amount_owed2                  float64\n",
       "late_pay                      float64\n",
       "dtype: object"
      ]
     },
     "execution_count": 26,
     "metadata": {},
     "output_type": "execute_result"
    }
   ],
   "source": [
    "df.dtypes"
   ]
  },
  {
   "cell_type": "markdown",
   "metadata": {},
   "source": [
    "## Logistic Regression"
   ]
  },
  {
   "cell_type": "code",
   "execution_count": 127,
   "metadata": {},
   "outputs": [],
   "source": [
    "X = df.drop('default payment next month', axis = 1)\n",
    "y= df['default payment next month']\n",
    "X_train, X_test, y_train, y_test = train_test_split(X, y, random_state = 1)"
   ]
  },
  {
   "cell_type": "markdown",
   "metadata": {},
   "source": [
    "Balanced"
   ]
  },
  {
   "cell_type": "code",
   "execution_count": 128,
   "metadata": {},
   "outputs": [
    {
     "name": "stderr",
     "output_type": "stream",
     "text": [
      "/Users/michaelarmistead/opt/anaconda3/lib/python3.7/site-packages/sklearn/linear_model/_logistic.py:940: ConvergenceWarning: lbfgs failed to converge (status=1):\n",
      "STOP: TOTAL NO. of ITERATIONS REACHED LIMIT.\n",
      "\n",
      "Increase the number of iterations (max_iter) or scale the data as shown in:\n",
      "    https://scikit-learn.org/stable/modules/preprocessing.html\n",
      "Please also refer to the documentation for alternative solver options:\n",
      "    https://scikit-learn.org/stable/modules/linear_model.html#logistic-regression\n",
      "  extra_warning_msg=_LOGISTIC_SOLVER_CONVERGENCE_MSG)\n"
     ]
    },
    {
     "data": {
      "text/plain": [
       "LogisticRegression(C=1.0, class_weight='balanced', dual=False,\n",
       "                   fit_intercept=True, intercept_scaling=1, l1_ratio=None,\n",
       "                   max_iter=100, multi_class='auto', n_jobs=None, penalty='l2',\n",
       "                   random_state=None, solver='lbfgs', tol=0.0001, verbose=0,\n",
       "                   warm_start=False)"
      ]
     },
     "execution_count": 128,
     "metadata": {},
     "output_type": "execute_result"
    }
   ],
   "source": [
    "from sklearn.linear_model import LogisticRegression\n",
    "logreg = LogisticRegression(class_weight= 'balanced')\n",
    "\n",
    "logreg.fit(X_train, y_train)"
   ]
  },
  {
   "cell_type": "code",
   "execution_count": 129,
   "metadata": {},
   "outputs": [
    {
     "data": {
      "text/plain": [
       "0.4110188019239178"
      ]
     },
     "execution_count": 129,
     "metadata": {},
     "output_type": "execute_result"
    }
   ],
   "source": [
    "pred = logreg.predict(X_test)\n",
    "f1_score(y_test, pred)"
   ]
  },
  {
   "cell_type": "code",
   "execution_count": null,
   "metadata": {},
   "outputs": [],
   "source": []
  },
  {
   "cell_type": "markdown",
   "metadata": {},
   "source": [
    "## Bagging"
   ]
  },
  {
   "cell_type": "code",
   "execution_count": 131,
   "metadata": {},
   "outputs": [],
   "source": [
    "from sklearn.ensemble import BaggingClassifier "
   ]
  },
  {
   "cell_type": "code",
   "execution_count": 132,
   "metadata": {},
   "outputs": [],
   "source": [
    "X = df.drop('default payment next month', axis = 1)\n",
    "y= df['default payment next month']\n",
    "X_train, X_test, y_train, y_test = train_test_split(X, y, random_state = 1)"
   ]
  },
  {
   "cell_type": "code",
   "execution_count": 133,
   "metadata": {},
   "outputs": [
    {
     "data": {
      "text/plain": [
       "BaggingClassifier(base_estimator=None, bootstrap=True, bootstrap_features=False,\n",
       "                  max_features=25, max_samples=100, n_estimators=15,\n",
       "                  n_jobs=None, oob_score=False, random_state=1, verbose=0,\n",
       "                  warm_start=False)"
      ]
     },
     "execution_count": 133,
     "metadata": {},
     "output_type": "execute_result"
    }
   ],
   "source": [
    "bag = BaggingClassifier(random_state = 1, max_features = 25, n_estimators = 15, max_samples = 100)\n",
    "bag.fit(X_train, y_train)"
   ]
  },
  {
   "cell_type": "code",
   "execution_count": 134,
   "metadata": {},
   "outputs": [
    {
     "data": {
      "text/plain": [
       "0.3907928388746803"
      ]
     },
     "execution_count": 134,
     "metadata": {},
     "output_type": "execute_result"
    }
   ],
   "source": [
    "pred = bag.predict(X_test)\n",
    "f1_score(y_test, pred)"
   ]
  },
  {
   "cell_type": "markdown",
   "metadata": {},
   "source": [
    "Penalty is ridge or lasso and c is alpha"
   ]
  },
  {
   "cell_type": "markdown",
   "metadata": {},
   "source": [
    "##  gridsearch bagging"
   ]
  },
  {
   "cell_type": "code",
   "execution_count": 15,
   "metadata": {},
   "outputs": [],
   "source": [
    "from sklearn.model_selection import GridSearchCV"
   ]
  },
  {
   "cell_type": "code",
   "execution_count": 169,
   "metadata": {},
   "outputs": [],
   "source": [
    "params = {'max_samples' : (60, 70, 80, 90, 100)}"
   ]
  },
  {
   "cell_type": "code",
   "execution_count": 170,
   "metadata": {},
   "outputs": [],
   "source": [
    "gsearchbag = GridSearchCV(\n",
    "    estimator = bag,\n",
    "    param_grid = params,\n",
    "    scoring = 'f1',\n",
    "    n_jobs = -1,\n",
    "    verbose = 1,\n",
    "    iid = False,\n",
    "    cv = 5)"
   ]
  },
  {
   "cell_type": "code",
   "execution_count": 171,
   "metadata": {},
   "outputs": [
    {
     "name": "stdout",
     "output_type": "stream",
     "text": [
      "Fitting 5 folds for each of 5 candidates, totalling 25 fits\n"
     ]
    },
    {
     "name": "stderr",
     "output_type": "stream",
     "text": [
      "[Parallel(n_jobs=-1)]: Using backend LokyBackend with 4 concurrent workers.\n",
      "[Parallel(n_jobs=-1)]: Done  18 out of  25 | elapsed:    1.0s remaining:    0.4s\n",
      "[Parallel(n_jobs=-1)]: Done  25 out of  25 | elapsed:    1.1s finished\n",
      "/Users/michaelarmistead/opt/anaconda3/lib/python3.7/site-packages/sklearn/model_selection/_search.py:823: FutureWarning: The parameter 'iid' is deprecated in 0.22 and will be removed in 0.24.\n",
      "  \"removed in 0.24.\", FutureWarning\n"
     ]
    },
    {
     "data": {
      "text/plain": [
       "GridSearchCV(cv=5, error_score=nan,\n",
       "             estimator=BaggingClassifier(base_estimator=None, bootstrap=True,\n",
       "                                         bootstrap_features=False,\n",
       "                                         max_features=25, max_samples=1.0,\n",
       "                                         n_estimators=15, n_jobs=None,\n",
       "                                         oob_score=False, random_state=1,\n",
       "                                         verbose=0, warm_start=False),\n",
       "             iid=False, n_jobs=-1,\n",
       "             param_grid={'max_samples': (60, 70, 80, 90, 100)},\n",
       "             pre_dispatch='2*n_jobs', refit=True, return_train_score=False,\n",
       "             scoring='f1', verbose=1)"
      ]
     },
     "execution_count": 171,
     "metadata": {},
     "output_type": "execute_result"
    }
   ],
   "source": [
    "gsearchbag.fit(X_train, y_train)"
   ]
  },
  {
   "cell_type": "code",
   "execution_count": 172,
   "metadata": {},
   "outputs": [
    {
     "data": {
      "text/plain": [
       "{'max_samples': 100}"
      ]
     },
     "execution_count": 172,
     "metadata": {},
     "output_type": "execute_result"
    }
   ],
   "source": [
    "gsearchbag.best_params_"
   ]
  },
  {
   "cell_type": "code",
   "execution_count": 173,
   "metadata": {},
   "outputs": [
    {
     "data": {
      "text/plain": [
       "0.4390065130845068"
      ]
     },
     "execution_count": 173,
     "metadata": {},
     "output_type": "execute_result"
    }
   ],
   "source": [
    "gsearchbag.best_score_"
   ]
  },
  {
   "cell_type": "code",
   "execution_count": 174,
   "metadata": {},
   "outputs": [
    {
     "name": "stdout",
     "output_type": "stream",
     "text": [
      "Accuracy: 0.801234\n",
      "F1: 0.383661\n"
     ]
    }
   ],
   "source": [
    "preds = gsearchbag.best_estimator_.predict(X_test)\n",
    "test_f1 = f1_score(y_test, preds)\n",
    "test_acc = accuracy_score(y_test, preds)\n",
    "print(\"Accuracy: %f\" % (test_acc))\n",
    "print(\"F1: %f\" % (test_f1))"
   ]
  },
  {
   "cell_type": "code",
   "execution_count": null,
   "metadata": {},
   "outputs": [],
   "source": []
  },
  {
   "cell_type": "markdown",
   "metadata": {},
   "source": [
    "## XGBoost"
   ]
  },
  {
   "cell_type": "code",
   "execution_count": 1,
   "metadata": {},
   "outputs": [],
   "source": [
    "import xgboost as xgb"
   ]
  },
  {
   "cell_type": "code",
   "execution_count": 135,
   "metadata": {},
   "outputs": [],
   "source": [
    "clf_xgb = xgb.XGBClassifier(objective = 'binary:logistic', learning_rate = .3, max_depth = 4, n_estimators = 30, colsample_bytree = .3, min_child_weight = 4, max_delta_step = 1)\n",
    "clf_xgb.fit(X_train, y_train)\n",
    "pred = clf_xgb.predict(X_test)"
   ]
  },
  {
   "cell_type": "code",
   "execution_count": 136,
   "metadata": {},
   "outputs": [
    {
     "data": {
      "text/plain": [
       "0.4460856720827179"
      ]
     },
     "execution_count": 136,
     "metadata": {},
     "output_type": "execute_result"
    }
   ],
   "source": [
    "f1_score(y_test, pred)"
   ]
  },
  {
   "cell_type": "markdown",
   "metadata": {},
   "source": [
    "XGBoost Grid"
   ]
  },
  {
   "cell_type": "code",
   "execution_count": 44,
   "metadata": {},
   "outputs": [],
   "source": [
    "xgb.XGBClassifier()\n",
    "\n",
    "clf_xgb = xgb.XGBClassifier(objective = 'binary:logistic', learning_rate = .3, max_depth = 4, n_estimators = 30, colsample_bytree = .3, min_child_weight = 4, max_delta_step = 1)\n",
    "param_dist = {'max_delta_step': (.9, 1, 1.1)}"
   ]
  },
  {
   "cell_type": "code",
   "execution_count": 45,
   "metadata": {},
   "outputs": [
    {
     "name": "stdout",
     "output_type": "stream",
     "text": [
      "Fitting 5 folds for each of 3 candidates, totalling 15 fits\n"
     ]
    },
    {
     "name": "stderr",
     "output_type": "stream",
     "text": [
      "[Parallel(n_jobs=-1)]: Using backend LokyBackend with 4 concurrent workers.\n",
      "[Parallel(n_jobs=-1)]: Done  15 out of  15 | elapsed:    5.0s finished\n",
      "/Users/michaelarmistead/opt/anaconda3/lib/python3.7/site-packages/sklearn/model_selection/_search.py:823: FutureWarning: The parameter 'iid' is deprecated in 0.22 and will be removed in 0.24.\n",
      "  \"removed in 0.24.\", FutureWarning\n"
     ]
    },
    {
     "data": {
      "text/plain": [
       "GridSearchCV(cv=5, error_score=nan,\n",
       "             estimator=XGBClassifier(base_score=0.5, booster='gbtree',\n",
       "                                     colsample_bylevel=1, colsample_bynode=1,\n",
       "                                     colsample_bytree=0.3, gamma=0,\n",
       "                                     learning_rate=0.3, max_delta_step=0,\n",
       "                                     max_depth=4, min_child_weight=4,\n",
       "                                     missing=None, n_estimators=30, n_jobs=1,\n",
       "                                     nthread=None, objective='binary:logistic',\n",
       "                                     random_state=0, reg_alpha=0, reg_lambda=1,\n",
       "                                     scale_pos_weight=1, seed=None, silent=None,\n",
       "                                     subsample=1, verbosity=1),\n",
       "             iid=False, n_jobs=-1, param_grid={'max_delta_step': (0.9, 1, 1.1)},\n",
       "             pre_dispatch='2*n_jobs', refit=True, return_train_score=False,\n",
       "             scoring='f1', verbose=1)"
      ]
     },
     "execution_count": 45,
     "metadata": {},
     "output_type": "execute_result"
    }
   ],
   "source": [
    "gsearch1 = GridSearchCV(\n",
    "    estimator = clf_xgb,\n",
    "    param_grid = param_dist,\n",
    "    scoring='f1',\n",
    "    n_jobs=-1,\n",
    "    verbose=1,\n",
    "    iid=False,\n",
    "    cv=5)\n",
    "\n",
    "gsearch1.fit(X_train, y_train)"
   ]
  },
  {
   "cell_type": "code",
   "execution_count": 46,
   "metadata": {},
   "outputs": [
    {
     "data": {
      "text/plain": [
       "{'max_delta_step': 1}"
      ]
     },
     "execution_count": 46,
     "metadata": {},
     "output_type": "execute_result"
    }
   ],
   "source": [
    "gsearch1.best_params_"
   ]
  },
  {
   "cell_type": "code",
   "execution_count": 43,
   "metadata": {},
   "outputs": [
    {
     "data": {
      "text/plain": [
       "0.4832721021771575"
      ]
     },
     "execution_count": 43,
     "metadata": {},
     "output_type": "execute_result"
    }
   ],
   "source": [
    "gsearch1.best_score_"
   ]
  },
  {
   "cell_type": "code",
   "execution_count": 202,
   "metadata": {},
   "outputs": [
    {
     "name": "stdout",
     "output_type": "stream",
     "text": [
      "Accuracy: 0.817909\n",
      "F1: 0.461007\n"
     ]
    }
   ],
   "source": [
    "preds = gsearch1.best_estimator_.predict(X_test)\n",
    "test_f1 = f1_score(y_test, preds)\n",
    "test_acc = accuracy_score(y_test, preds)\n",
    "print(\"Accuracy: %f\" % (test_acc))\n",
    "print(\"F1: %f\" % (test_f1))"
   ]
  },
  {
   "cell_type": "markdown",
   "metadata": {},
   "source": [
    "##  KNN"
   ]
  },
  {
   "cell_type": "code",
   "execution_count": 122,
   "metadata": {},
   "outputs": [],
   "source": [
    "X = df.drop('default payment next month', axis = 1)\n",
    "y= df['default payment next month']\n",
    "X_train, X_test, y_train, y_test = train_test_split(X, y, random_state = 1)"
   ]
  },
  {
   "cell_type": "code",
   "execution_count": 123,
   "metadata": {},
   "outputs": [],
   "source": [
    "scaler = StandardScaler()\n",
    "scaler.fit(X_train)\n",
    "\n",
    "X_train = scaler.transform(X_train)\n",
    "X_test = scaler.transform(X_test)"
   ]
  },
  {
   "cell_type": "code",
   "execution_count": 124,
   "metadata": {},
   "outputs": [],
   "source": [
    "knn = KNeighborsClassifier(n_neighbors= 5)\n",
    "knn.fit(X_train, y_train)\n",
    "y_pred =knn.predict(X_test)"
   ]
  },
  {
   "cell_type": "code",
   "execution_count": 125,
   "metadata": {},
   "outputs": [
    {
     "data": {
      "text/plain": [
       "0.406971267074894"
      ]
     },
     "execution_count": 125,
     "metadata": {},
     "output_type": "execute_result"
    }
   ],
   "source": [
    "test_f1 = f1_score(y_test, y_pred)\n",
    "test_f1"
   ]
  },
  {
   "cell_type": "code",
   "execution_count": 126,
   "metadata": {},
   "outputs": [
    {
     "data": {
      "text/plain": [
       "0.7900616975154244"
      ]
     },
     "execution_count": 126,
     "metadata": {},
     "output_type": "execute_result"
    }
   ],
   "source": [
    "accuracy_score(y_test, y_pred)"
   ]
  },
  {
   "cell_type": "code",
   "execution_count": 111,
   "metadata": {},
   "outputs": [
    {
     "data": {
      "text/plain": [
       "0.40302029259084476"
      ]
     },
     "execution_count": 111,
     "metadata": {},
     "output_type": "execute_result"
    }
   ],
   "source": []
  },
  {
   "cell_type": "markdown",
   "metadata": {},
   "source": [
    "## Checking Min Max Scaler (KNN)\n",
    "Going to use standard"
   ]
  },
  {
   "cell_type": "code",
   "execution_count": 59,
   "metadata": {},
   "outputs": [],
   "source": [
    "X = df.drop('default payment next month', axis = 1)\n",
    "y= df['default payment next month']\n",
    "X_train, X_test, y_train, y_test = train_test_split(X, y, random_state = 1)"
   ]
  },
  {
   "cell_type": "code",
   "execution_count": 113,
   "metadata": {},
   "outputs": [],
   "source": [
    "minmax = MinMaxScaler()\n",
    "minmax.fit(X_train)\n",
    "\n",
    "X_train = minmax.transform(X_train)\n",
    "X_test = minmax.transform(X_test)"
   ]
  },
  {
   "cell_type": "code",
   "execution_count": 118,
   "metadata": {},
   "outputs": [
    {
     "data": {
      "text/plain": [
       "0.7732199433049858"
      ]
     },
     "execution_count": 118,
     "metadata": {},
     "output_type": "execute_result"
    }
   ],
   "source": [
    "knn = KNeighborsClassifier(n_neighbors= 3)\n",
    "knn.fit(X_train, y_train)\n",
    "y_pred =knn.predict(X_test)\n",
    "accuracy_score(y_test, y_pred)"
   ]
  },
  {
   "cell_type": "code",
   "execution_count": 119,
   "metadata": {},
   "outputs": [
    {
     "data": {
      "text/plain": [
       "0.40611353711790393"
      ]
     },
     "execution_count": 119,
     "metadata": {},
     "output_type": "execute_result"
    }
   ],
   "source": [
    "test_f1 = f1_score(y_test, y_pred)\n",
    "test_f1"
   ]
  },
  {
   "cell_type": "code",
   "execution_count": 146,
   "metadata": {},
   "outputs": [
    {
     "data": {
      "text/plain": [
       "(23985, 37)"
      ]
     },
     "execution_count": 146,
     "metadata": {},
     "output_type": "execute_result"
    }
   ],
   "source": [
    "df.shape"
   ]
  },
  {
   "cell_type": "markdown",
   "metadata": {},
   "source": [
    "## Optimal K values\n",
    "k = 3 is the best"
   ]
  },
  {
   "cell_type": "code",
   "execution_count": 116,
   "metadata": {},
   "outputs": [
    {
     "name": "stdout",
     "output_type": "stream",
     "text": [
      "[0.3698891860909438]\n",
      "[0.3698891860909438, 0.27827050997782704]\n",
      "[0.3698891860909438, 0.27827050997782704, 0.40611353711790393]\n",
      "[0.3698891860909438, 0.27827050997782704, 0.40611353711790393, 0.33315363881401616]\n",
      "[0.3698891860909438, 0.27827050997782704, 0.40611353711790393, 0.33315363881401616, 0.40302743614001896]\n",
      "[0.3698891860909438, 0.27827050997782704, 0.40611353711790393, 0.33315363881401616, 0.40302743614001896, 0.3502945902517407]\n",
      "[0.3698891860909438, 0.27827050997782704, 0.40611353711790393, 0.33315363881401616, 0.40302743614001896, 0.3502945902517407, 0.3984413054067219]\n",
      "[0.3698891860909438, 0.27827050997782704, 0.40611353711790393, 0.33315363881401616, 0.40302743614001896, 0.3502945902517407, 0.3984413054067219, 0.35614973262032085]\n",
      "[0.3698891860909438, 0.27827050997782704, 0.40611353711790393, 0.33315363881401616, 0.40302743614001896, 0.3502945902517407, 0.3984413054067219, 0.35614973262032085, 0.3959595959595959]\n",
      "[0.3698891860909438, 0.27827050997782704, 0.40611353711790393, 0.33315363881401616, 0.40302743614001896, 0.3502945902517407, 0.3984413054067219, 0.35614973262032085, 0.3959595959595959, 0.3642241379310345]\n",
      "[0.3698891860909438, 0.27827050997782704, 0.40611353711790393, 0.33315363881401616, 0.40302743614001896, 0.3502945902517407, 0.3984413054067219, 0.35614973262032085, 0.3959595959595959, 0.3642241379310345, 0.40488301119023395]\n"
     ]
    }
   ],
   "source": [
    "k_scores =[]\n",
    "\n",
    "k_range = list(range(1,12))\n",
    "for k in k_range:\n",
    "    knn = KNeighborsClassifier(n_neighbors= k)\n",
    "    knn.fit(X_train, y_train)\n",
    "    \n",
    "    y_pred =knn.predict(X_test)\n",
    "    \n",
    "    test_f1 = f1_score(y_test, y_pred)\n",
    "    \n",
    "    k_scores.append(test_f1)\n",
    "    print(k_scores)"
   ]
  },
  {
   "cell_type": "code",
   "execution_count": 117,
   "metadata": {
    "scrolled": false
   },
   "outputs": [
    {
     "data": {
      "image/png": "[encoded data removed]",
      "text/plain": [
       "<Figure size 864x432 with 1 Axes>"
      ]
     },
     "metadata": {
      "needs_background": "light"
     },
     "output_type": "display_data"
    }
   ],
   "source": [
    "plt.figure(figsize=(12, 6))  \n",
    "plt.plot(k_range, k_scores, color='red', linestyle='dashed', marker='o',  \n",
    "         markerfacecolor='blue', markersize=10)\n",
    "plt.title('Accuracy score by K Value')  \n",
    "plt.xlabel('K Value')  \n",
    "plt.ylabel('Accuracy Score') \n",
    "plt.show()"
   ]
  },
  {
   "cell_type": "markdown",
   "metadata": {},
   "source": [
    "## Random Forest "
   ]
  },
  {
   "cell_type": "code",
   "execution_count": 12,
   "metadata": {},
   "outputs": [],
   "source": [
    "from sklearn.ensemble import RandomForestClassifier "
   ]
  },
  {
   "cell_type": "code",
   "execution_count": 60,
   "metadata": {},
   "outputs": [
    {
     "data": {
      "text/plain": [
       "RandomForestClassifier(bootstrap=True, ccp_alpha=0.0, class_weight='balanced',\n",
       "                       criterion='gini', max_depth=12, max_features=15,\n",
       "                       max_leaf_nodes=225, max_samples=None,\n",
       "                       min_impurity_decrease=0.0, min_impurity_split=None,\n",
       "                       min_samples_leaf=3, min_samples_split=15,\n",
       "                       min_weight_fraction_leaf=0.0, n_estimators=250,\n",
       "                       n_jobs=None, oob_score=False, random_state=27, verbose=0,\n",
       "                       warm_start=False)"
      ]
     },
     "execution_count": 60,
     "metadata": {},
     "output_type": "execute_result"
    }
   ],
   "source": [
    "clf_cv = RandomForestClassifier(random_state=27, class_weight = 'balanced', n_estimators = 250, min_samples_leaf = 3, max_depth = 12, max_leaf_nodes = 225, max_features = 15, min_samples_split= 15)\n",
    "clf_cv.fit(X_train, y_train)\n",
    "# preds = clf_cv.predict(X_test)\n",
    "# f1_score(y_test, preds)"
   ]
  },
  {
   "cell_type": "code",
   "execution_count": 10,
   "metadata": {},
   "outputs": [],
   "source": [
    "X = df.drop('default payment next month', axis = 1)\n",
    "y= df['default payment next month']\n",
    "X_train, X_test, y_train, y_test = train_test_split(X, y, random_state = 1)"
   ]
  },
  {
   "cell_type": "code",
   "execution_count": 51,
   "metadata": {},
   "outputs": [
    {
     "data": {
      "text/plain": [
       "0.436222005842259"
      ]
     },
     "execution_count": 51,
     "metadata": {},
     "output_type": "execute_result"
    }
   ],
   "source": [
    "clf = RandomForestClassifier()\n",
    "clf.fit(X_train, y_train)\n",
    "preds = clf.predict(X_test)\n",
    "f1_score(y_test, preds)"
   ]
  },
  {
   "cell_type": "code",
   "execution_count": 48,
   "metadata": {},
   "outputs": [],
   "source": [
    "clf_cv = RandomForestClassifier(random_state=27, class_weight = 'balanced', n_estimators = 250, min_samples_leaf = 3, max_depth = 12, max_leaf_nodes = 225, max_features = 15, min_samples_split= 15)\n",
    "param_dist = {\n",
    "    'min_samples_split': (8, 11, 15, 20)\n",
    "    }\n",
    "\n"
   ]
  },
  {
   "cell_type": "code",
   "execution_count": 49,
   "metadata": {},
   "outputs": [
    {
     "name": "stdout",
     "output_type": "stream",
     "text": [
      "Fitting 5 folds for each of 4 candidates, totalling 20 fits\n"
     ]
    },
    {
     "name": "stderr",
     "output_type": "stream",
     "text": [
      "[Parallel(n_jobs=-1)]: Using backend LokyBackend with 4 concurrent workers.\n",
      "[Parallel(n_jobs=-1)]: Done  20 out of  20 | elapsed:  2.6min finished\n",
      "/Users/michaelarmistead/opt/anaconda3/lib/python3.7/site-packages/sklearn/model_selection/_search.py:823: FutureWarning: The parameter 'iid' is deprecated in 0.22 and will be removed in 0.24.\n",
      "  \"removed in 0.24.\", FutureWarning\n"
     ]
    },
    {
     "data": {
      "text/plain": [
       "GridSearchCV(cv=5, error_score=nan,\n",
       "             estimator=RandomForestClassifier(bootstrap=True, ccp_alpha=0.0,\n",
       "                                              class_weight='balanced',\n",
       "                                              criterion='gini', max_depth=12,\n",
       "                                              max_features=15,\n",
       "                                              max_leaf_nodes=225,\n",
       "                                              max_samples=None,\n",
       "                                              min_impurity_decrease=0.0,\n",
       "                                              min_impurity_split=None,\n",
       "                                              min_samples_leaf=3,\n",
       "                                              min_samples_split=2,\n",
       "                                              min_weight_fraction_leaf=0.0,\n",
       "                                              n_estimators=250, n_jobs=None,\n",
       "                                              oob_score=False, random_state=27,\n",
       "                                              verbose=0, warm_start=False),\n",
       "             iid=False, n_jobs=-1,\n",
       "             param_grid={'min_samples_split': (8, 11, 15, 20)},\n",
       "             pre_dispatch='2*n_jobs', refit=True, return_train_score=False,\n",
       "             scoring='f1', verbose=1)"
      ]
     },
     "execution_count": 49,
     "metadata": {},
     "output_type": "execute_result"
    }
   ],
   "source": [
    "gsearchrf = GridSearchCV(\n",
    "    estimator = clf_cv,\n",
    "    param_grid = param_dist,\n",
    "    scoring='f1',\n",
    "    n_jobs=-1,\n",
    "    verbose=1,\n",
    "    iid=False,\n",
    "    cv=5)\n",
    "\n",
    "gsearchrf.fit(X_train, y_train)"
   ]
  },
  {
   "cell_type": "code",
   "execution_count": 50,
   "metadata": {},
   "outputs": [
    {
     "data": {
      "text/plain": [
       "{'min_samples_split': 15}"
      ]
     },
     "execution_count": 50,
     "metadata": {},
     "output_type": "execute_result"
    }
   ],
   "source": [
    "gsearchrf.best_params_"
   ]
  },
  {
   "cell_type": "code",
   "execution_count": 51,
   "metadata": {},
   "outputs": [
    {
     "data": {
      "text/plain": [
       "0.546807530263289"
      ]
     },
     "execution_count": 51,
     "metadata": {},
     "output_type": "execute_result"
    }
   ],
   "source": [
    "gsearchrf.best_score_"
   ]
  },
  {
   "cell_type": "code",
   "execution_count": 52,
   "metadata": {},
   "outputs": [
    {
     "name": "stdout",
     "output_type": "stream",
     "text": [
      "Accuracy: 0.781057\n",
      "F1: 0.524792\n"
     ]
    }
   ],
   "source": [
    "preds = gsearchrf.best_estimator_.predict(X_test)\n",
    "test_f1 = f1_score(y_test, preds)\n",
    "test_acc = accuracy_score(y_test, preds)\n",
    "print(\"Accuracy: %f\" % (test_acc))\n",
    "print(\"F1: %f\" % (test_f1))"
   ]
  },
  {
   "cell_type": "code",
   "execution_count": null,
   "metadata": {},
   "outputs": [],
   "source": []
  },
  {
   "cell_type": "code",
   "execution_count": null,
   "metadata": {},
   "outputs": [],
   "source": []
  },
  {
   "cell_type": "markdown",
   "metadata": {},
   "source": [
    "## 6. Model Evaluation"
   ]
  },
  {
   "cell_type": "code",
   "execution_count": null,
   "metadata": {},
   "outputs": [],
   "source": []
  },
  {
   "cell_type": "code",
   "execution_count": null,
   "metadata": {},
   "outputs": [],
   "source": []
  },
  {
   "cell_type": "code",
   "execution_count": null,
   "metadata": {},
   "outputs": [],
   "source": []
  },
  {
   "cell_type": "code",
   "execution_count": null,
   "metadata": {},
   "outputs": [],
   "source": []
  },
  {
   "cell_type": "code",
   "execution_count": null,
   "metadata": {},
   "outputs": [],
   "source": []
  },
  {
   "cell_type": "markdown",
   "metadata": {},
   "source": [
    "## 7. Final Model"
   ]
  },
  {
   "cell_type": "code",
   "execution_count": 89,
   "metadata": {},
   "outputs": [
    {
     "data": {
      "text/html": [
       "<div>\n",
       "<style scoped>\n",
       "    .dataframe tbody tr th:only-of-type {\n",
       "        vertical-align: middle;\n",
       "    }\n",
       "\n",
       "    .dataframe tbody tr th {\n",
       "        vertical-align: top;\n",
       "    }\n",
       "\n",
       "    .dataframe thead th {\n",
       "        text-align: right;\n",
       "    }\n",
       "</style>\n",
       "<table border=\"1\" class=\"dataframe\">\n",
       "  <thead>\n",
       "    <tr style=\"text-align: right;\">\n",
       "      <th></th>\n",
       "      <th>Unnamed: 0</th>\n",
       "      <th>ID</th>\n",
       "      <th>LIMIT_BAL</th>\n",
       "      <th>SEX</th>\n",
       "      <th>EDUCATION</th>\n",
       "      <th>MARRIAGE</th>\n",
       "      <th>AGE</th>\n",
       "      <th>PAY_0</th>\n",
       "      <th>PAY_2</th>\n",
       "      <th>PAY_3</th>\n",
       "      <th>PAY_4</th>\n",
       "      <th>PAY_5</th>\n",
       "      <th>PAY_6</th>\n",
       "      <th>BILL_AMT1</th>\n",
       "      <th>BILL_AMT2</th>\n",
       "      <th>BILL_AMT3</th>\n",
       "      <th>BILL_AMT4</th>\n",
       "      <th>BILL_AMT5</th>\n",
       "      <th>BILL_AMT6</th>\n",
       "      <th>PAY_AMT1</th>\n",
       "      <th>PAY_AMT2</th>\n",
       "      <th>PAY_AMT3</th>\n",
       "      <th>PAY_AMT4</th>\n",
       "      <th>PAY_AMT5</th>\n",
       "      <th>PAY_AMT6</th>\n",
       "    </tr>\n",
       "  </thead>\n",
       "  <tbody>\n",
       "    <tr>\n",
       "      <td>0</td>\n",
       "      <td>0</td>\n",
       "      <td>6320</td>\n",
       "      <td>240000</td>\n",
       "      <td>1</td>\n",
       "      <td>1</td>\n",
       "      <td>1</td>\n",
       "      <td>44</td>\n",
       "      <td>-1</td>\n",
       "      <td>-1</td>\n",
       "      <td>-1</td>\n",
       "      <td>-1</td>\n",
       "      <td>-1</td>\n",
       "      <td>-1</td>\n",
       "      <td>4221</td>\n",
       "      <td>2188</td>\n",
       "      <td>2701</td>\n",
       "      <td>2427</td>\n",
       "      <td>1104</td>\n",
       "      <td>2362</td>\n",
       "      <td>2188</td>\n",
       "      <td>2701</td>\n",
       "      <td>2427</td>\n",
       "      <td>1104</td>\n",
       "      <td>2362</td>\n",
       "      <td>519</td>\n",
       "    </tr>\n",
       "    <tr>\n",
       "      <td>1</td>\n",
       "      <td>1</td>\n",
       "      <td>29659</td>\n",
       "      <td>50000</td>\n",
       "      <td>1</td>\n",
       "      <td>3</td>\n",
       "      <td>1</td>\n",
       "      <td>41</td>\n",
       "      <td>0</td>\n",
       "      <td>0</td>\n",
       "      <td>0</td>\n",
       "      <td>0</td>\n",
       "      <td>0</td>\n",
       "      <td>0</td>\n",
       "      <td>49782</td>\n",
       "      <td>50741</td>\n",
       "      <td>48468</td>\n",
       "      <td>39203</td>\n",
       "      <td>28913</td>\n",
       "      <td>26636</td>\n",
       "      <td>1816</td>\n",
       "      <td>1753</td>\n",
       "      <td>1433</td>\n",
       "      <td>990</td>\n",
       "      <td>967</td>\n",
       "      <td>1071</td>\n",
       "    </tr>\n",
       "    <tr>\n",
       "      <td>2</td>\n",
       "      <td>2</td>\n",
       "      <td>28347</td>\n",
       "      <td>20000</td>\n",
       "      <td>2</td>\n",
       "      <td>3</td>\n",
       "      <td>1</td>\n",
       "      <td>41</td>\n",
       "      <td>0</td>\n",
       "      <td>0</td>\n",
       "      <td>0</td>\n",
       "      <td>0</td>\n",
       "      <td>0</td>\n",
       "      <td>0</td>\n",
       "      <td>8777</td>\n",
       "      <td>10461</td>\n",
       "      <td>11583</td>\n",
       "      <td>13079</td>\n",
       "      <td>14546</td>\n",
       "      <td>16149</td>\n",
       "      <td>2000</td>\n",
       "      <td>1600</td>\n",
       "      <td>2000</td>\n",
       "      <td>2000</td>\n",
       "      <td>2000</td>\n",
       "      <td>2000</td>\n",
       "    </tr>\n",
       "    <tr>\n",
       "      <td>3</td>\n",
       "      <td>3</td>\n",
       "      <td>8523</td>\n",
       "      <td>320000</td>\n",
       "      <td>2</td>\n",
       "      <td>1</td>\n",
       "      <td>2</td>\n",
       "      <td>34</td>\n",
       "      <td>-2</td>\n",
       "      <td>-2</td>\n",
       "      <td>-2</td>\n",
       "      <td>-2</td>\n",
       "      <td>-2</td>\n",
       "      <td>-2</td>\n",
       "      <td>-532</td>\n",
       "      <td>-532</td>\n",
       "      <td>-528</td>\n",
       "      <td>-1336</td>\n",
       "      <td>-1336</td>\n",
       "      <td>-1336</td>\n",
       "      <td>0</td>\n",
       "      <td>4</td>\n",
       "      <td>0</td>\n",
       "      <td>0</td>\n",
       "      <td>0</td>\n",
       "      <td>0</td>\n",
       "    </tr>\n",
       "    <tr>\n",
       "      <td>4</td>\n",
       "      <td>4</td>\n",
       "      <td>22135</td>\n",
       "      <td>120000</td>\n",
       "      <td>2</td>\n",
       "      <td>2</td>\n",
       "      <td>1</td>\n",
       "      <td>23</td>\n",
       "      <td>0</td>\n",
       "      <td>0</td>\n",
       "      <td>0</td>\n",
       "      <td>0</td>\n",
       "      <td>0</td>\n",
       "      <td>0</td>\n",
       "      <td>64049</td>\n",
       "      <td>65984</td>\n",
       "      <td>66825</td>\n",
       "      <td>68820</td>\n",
       "      <td>69776</td>\n",
       "      <td>71297</td>\n",
       "      <td>3000</td>\n",
       "      <td>2500</td>\n",
       "      <td>3100</td>\n",
       "      <td>2700</td>\n",
       "      <td>2800</td>\n",
       "      <td>2800</td>\n",
       "    </tr>\n",
       "  </tbody>\n",
       "</table>\n",
       "</div>"
      ],
      "text/plain": [
       "   Unnamed: 0     ID  LIMIT_BAL  SEX  EDUCATION  MARRIAGE  AGE  PAY_0  PAY_2  \\\n",
       "0           0   6320     240000    1          1         1   44     -1     -1   \n",
       "1           1  29659      50000    1          3         1   41      0      0   \n",
       "2           2  28347      20000    2          3         1   41      0      0   \n",
       "3           3   8523     320000    2          1         2   34     -2     -2   \n",
       "4           4  22135     120000    2          2         1   23      0      0   \n",
       "\n",
       "   PAY_3  PAY_4  PAY_5  PAY_6  BILL_AMT1  BILL_AMT2  BILL_AMT3  BILL_AMT4  \\\n",
       "0     -1     -1     -1     -1       4221       2188       2701       2427   \n",
       "1      0      0      0      0      49782      50741      48468      39203   \n",
       "2      0      0      0      0       8777      10461      11583      13079   \n",
       "3     -2     -2     -2     -2       -532       -532       -528      -1336   \n",
       "4      0      0      0      0      64049      65984      66825      68820   \n",
       "\n",
       "   BILL_AMT5  BILL_AMT6  PAY_AMT1  PAY_AMT2  PAY_AMT3  PAY_AMT4  PAY_AMT5  \\\n",
       "0       1104       2362      2188      2701      2427      1104      2362   \n",
       "1      28913      26636      1816      1753      1433       990       967   \n",
       "2      14546      16149      2000      1600      2000      2000      2000   \n",
       "3      -1336      -1336         0         4         0         0         0   \n",
       "4      69776      71297      3000      2500      3100      2700      2800   \n",
       "\n",
       "   PAY_AMT6  \n",
       "0       519  \n",
       "1      1071  \n",
       "2      2000  \n",
       "3         0  \n",
       "4      2800  "
      ]
     },
     "execution_count": 89,
     "metadata": {},
     "output_type": "execute_result"
    }
   ],
   "source": [
    "df_target = pd.read_csv('hold_out_features.csv')\n",
    "pd.set_option('display.max_columns', None)\n",
    "df_target.head()"
   ]
  },
  {
   "cell_type": "code",
   "execution_count": 100,
   "metadata": {},
   "outputs": [
    {
     "data": {
      "text/html": [
       "<div>\n",
       "<style scoped>\n",
       "    .dataframe tbody tr th:only-of-type {\n",
       "        vertical-align: middle;\n",
       "    }\n",
       "\n",
       "    .dataframe tbody tr th {\n",
       "        vertical-align: top;\n",
       "    }\n",
       "\n",
       "    .dataframe thead th {\n",
       "        text-align: right;\n",
       "    }\n",
       "</style>\n",
       "<table border=\"1\" class=\"dataframe\">\n",
       "  <thead>\n",
       "    <tr style=\"text-align: right;\">\n",
       "      <th></th>\n",
       "      <th>LIMIT_BAL</th>\n",
       "      <th>PAY_0</th>\n",
       "      <th>PAY_2</th>\n",
       "      <th>PAY_3</th>\n",
       "      <th>PAY_4</th>\n",
       "      <th>PAY_5</th>\n",
       "      <th>PAY_6</th>\n",
       "      <th>BILL_AMT1</th>\n",
       "      <th>BILL_AMT2</th>\n",
       "      <th>BILL_AMT3</th>\n",
       "      <th>BILL_AMT4</th>\n",
       "      <th>BILL_AMT5</th>\n",
       "      <th>BILL_AMT6</th>\n",
       "      <th>PAY_AMT1</th>\n",
       "      <th>PAY_AMT2</th>\n",
       "      <th>PAY_AMT3</th>\n",
       "      <th>PAY_AMT4</th>\n",
       "      <th>PAY_AMT5</th>\n",
       "      <th>PAY_AMT6</th>\n",
       "      <th>amount_owed6</th>\n",
       "      <th>amount_owed5</th>\n",
       "      <th>amount_owed4</th>\n",
       "      <th>amount_owed3</th>\n",
       "      <th>amount_owed2</th>\n",
       "      <th>late_pay</th>\n",
       "      <th>age_2</th>\n",
       "      <th>age_3</th>\n",
       "      <th>age_4</th>\n",
       "      <th>age_5</th>\n",
       "      <th>age_6</th>\n",
       "      <th>sex_2</th>\n",
       "      <th>edu_2</th>\n",
       "      <th>edu_3</th>\n",
       "      <th>edu_4</th>\n",
       "      <th>marriage_2.0</th>\n",
       "      <th>marriage_3.0</th>\n",
       "    </tr>\n",
       "  </thead>\n",
       "  <tbody>\n",
       "    <tr>\n",
       "      <td>0</td>\n",
       "      <td>240000</td>\n",
       "      <td>-1</td>\n",
       "      <td>-1</td>\n",
       "      <td>-1</td>\n",
       "      <td>-1</td>\n",
       "      <td>-1</td>\n",
       "      <td>-1</td>\n",
       "      <td>4221</td>\n",
       "      <td>2188</td>\n",
       "      <td>2701</td>\n",
       "      <td>2427</td>\n",
       "      <td>1104</td>\n",
       "      <td>2362</td>\n",
       "      <td>2188</td>\n",
       "      <td>2701</td>\n",
       "      <td>2427</td>\n",
       "      <td>1104</td>\n",
       "      <td>2362</td>\n",
       "      <td>519</td>\n",
       "      <td>0</td>\n",
       "      <td>0</td>\n",
       "      <td>0</td>\n",
       "      <td>0</td>\n",
       "      <td>0</td>\n",
       "      <td>-6</td>\n",
       "      <td>0</td>\n",
       "      <td>1</td>\n",
       "      <td>0</td>\n",
       "      <td>0</td>\n",
       "      <td>0</td>\n",
       "      <td>0</td>\n",
       "      <td>0</td>\n",
       "      <td>0</td>\n",
       "      <td>0</td>\n",
       "      <td>0</td>\n",
       "      <td>0</td>\n",
       "    </tr>\n",
       "    <tr>\n",
       "      <td>1</td>\n",
       "      <td>50000</td>\n",
       "      <td>0</td>\n",
       "      <td>0</td>\n",
       "      <td>0</td>\n",
       "      <td>0</td>\n",
       "      <td>0</td>\n",
       "      <td>0</td>\n",
       "      <td>49782</td>\n",
       "      <td>50741</td>\n",
       "      <td>48468</td>\n",
       "      <td>39203</td>\n",
       "      <td>28913</td>\n",
       "      <td>26636</td>\n",
       "      <td>1816</td>\n",
       "      <td>1753</td>\n",
       "      <td>1433</td>\n",
       "      <td>990</td>\n",
       "      <td>967</td>\n",
       "      <td>1071</td>\n",
       "      <td>25669</td>\n",
       "      <td>27923</td>\n",
       "      <td>37770</td>\n",
       "      <td>46715</td>\n",
       "      <td>48925</td>\n",
       "      <td>0</td>\n",
       "      <td>0</td>\n",
       "      <td>1</td>\n",
       "      <td>0</td>\n",
       "      <td>0</td>\n",
       "      <td>0</td>\n",
       "      <td>0</td>\n",
       "      <td>0</td>\n",
       "      <td>1</td>\n",
       "      <td>0</td>\n",
       "      <td>0</td>\n",
       "      <td>0</td>\n",
       "    </tr>\n",
       "    <tr>\n",
       "      <td>2</td>\n",
       "      <td>20000</td>\n",
       "      <td>0</td>\n",
       "      <td>0</td>\n",
       "      <td>0</td>\n",
       "      <td>0</td>\n",
       "      <td>0</td>\n",
       "      <td>0</td>\n",
       "      <td>8777</td>\n",
       "      <td>10461</td>\n",
       "      <td>11583</td>\n",
       "      <td>13079</td>\n",
       "      <td>14546</td>\n",
       "      <td>16149</td>\n",
       "      <td>2000</td>\n",
       "      <td>1600</td>\n",
       "      <td>2000</td>\n",
       "      <td>2000</td>\n",
       "      <td>2000</td>\n",
       "      <td>2000</td>\n",
       "      <td>14149</td>\n",
       "      <td>12546</td>\n",
       "      <td>11079</td>\n",
       "      <td>9983</td>\n",
       "      <td>8461</td>\n",
       "      <td>0</td>\n",
       "      <td>0</td>\n",
       "      <td>1</td>\n",
       "      <td>0</td>\n",
       "      <td>0</td>\n",
       "      <td>0</td>\n",
       "      <td>1</td>\n",
       "      <td>0</td>\n",
       "      <td>1</td>\n",
       "      <td>0</td>\n",
       "      <td>0</td>\n",
       "      <td>0</td>\n",
       "    </tr>\n",
       "    <tr>\n",
       "      <td>3</td>\n",
       "      <td>320000</td>\n",
       "      <td>-2</td>\n",
       "      <td>-2</td>\n",
       "      <td>-2</td>\n",
       "      <td>-2</td>\n",
       "      <td>-2</td>\n",
       "      <td>-2</td>\n",
       "      <td>-532</td>\n",
       "      <td>-532</td>\n",
       "      <td>-528</td>\n",
       "      <td>-1336</td>\n",
       "      <td>-1336</td>\n",
       "      <td>-1336</td>\n",
       "      <td>0</td>\n",
       "      <td>4</td>\n",
       "      <td>0</td>\n",
       "      <td>0</td>\n",
       "      <td>0</td>\n",
       "      <td>0</td>\n",
       "      <td>-1336</td>\n",
       "      <td>-1336</td>\n",
       "      <td>-1336</td>\n",
       "      <td>-532</td>\n",
       "      <td>-532</td>\n",
       "      <td>-12</td>\n",
       "      <td>1</td>\n",
       "      <td>0</td>\n",
       "      <td>0</td>\n",
       "      <td>0</td>\n",
       "      <td>0</td>\n",
       "      <td>1</td>\n",
       "      <td>0</td>\n",
       "      <td>0</td>\n",
       "      <td>0</td>\n",
       "      <td>1</td>\n",
       "      <td>0</td>\n",
       "    </tr>\n",
       "    <tr>\n",
       "      <td>4</td>\n",
       "      <td>120000</td>\n",
       "      <td>0</td>\n",
       "      <td>0</td>\n",
       "      <td>0</td>\n",
       "      <td>0</td>\n",
       "      <td>0</td>\n",
       "      <td>0</td>\n",
       "      <td>64049</td>\n",
       "      <td>65984</td>\n",
       "      <td>66825</td>\n",
       "      <td>68820</td>\n",
       "      <td>69776</td>\n",
       "      <td>71297</td>\n",
       "      <td>3000</td>\n",
       "      <td>2500</td>\n",
       "      <td>3100</td>\n",
       "      <td>2700</td>\n",
       "      <td>2800</td>\n",
       "      <td>2800</td>\n",
       "      <td>68497</td>\n",
       "      <td>67076</td>\n",
       "      <td>65720</td>\n",
       "      <td>64325</td>\n",
       "      <td>62984</td>\n",
       "      <td>0</td>\n",
       "      <td>0</td>\n",
       "      <td>0</td>\n",
       "      <td>0</td>\n",
       "      <td>0</td>\n",
       "      <td>0</td>\n",
       "      <td>1</td>\n",
       "      <td>1</td>\n",
       "      <td>0</td>\n",
       "      <td>0</td>\n",
       "      <td>0</td>\n",
       "      <td>0</td>\n",
       "    </tr>\n",
       "  </tbody>\n",
       "</table>\n",
       "</div>"
      ],
      "text/plain": [
       "   LIMIT_BAL  PAY_0  PAY_2  PAY_3  PAY_4  PAY_5  PAY_6  BILL_AMT1  BILL_AMT2  \\\n",
       "0     240000     -1     -1     -1     -1     -1     -1       4221       2188   \n",
       "1      50000      0      0      0      0      0      0      49782      50741   \n",
       "2      20000      0      0      0      0      0      0       8777      10461   \n",
       "3     320000     -2     -2     -2     -2     -2     -2       -532       -532   \n",
       "4     120000      0      0      0      0      0      0      64049      65984   \n",
       "\n",
       "   BILL_AMT3  BILL_AMT4  BILL_AMT5  BILL_AMT6  PAY_AMT1  PAY_AMT2  PAY_AMT3  \\\n",
       "0       2701       2427       1104       2362      2188      2701      2427   \n",
       "1      48468      39203      28913      26636      1816      1753      1433   \n",
       "2      11583      13079      14546      16149      2000      1600      2000   \n",
       "3       -528      -1336      -1336      -1336         0         4         0   \n",
       "4      66825      68820      69776      71297      3000      2500      3100   \n",
       "\n",
       "   PAY_AMT4  PAY_AMT5  PAY_AMT6  amount_owed6  amount_owed5  amount_owed4  \\\n",
       "0      1104      2362       519             0             0             0   \n",
       "1       990       967      1071         25669         27923         37770   \n",
       "2      2000      2000      2000         14149         12546         11079   \n",
       "3         0         0         0         -1336         -1336         -1336   \n",
       "4      2700      2800      2800         68497         67076         65720   \n",
       "\n",
       "   amount_owed3  amount_owed2  late_pay  age_2  age_3  age_4  age_5  age_6  \\\n",
       "0             0             0        -6      0      1      0      0      0   \n",
       "1         46715         48925         0      0      1      0      0      0   \n",
       "2          9983          8461         0      0      1      0      0      0   \n",
       "3          -532          -532       -12      1      0      0      0      0   \n",
       "4         64325         62984         0      0      0      0      0      0   \n",
       "\n",
       "   sex_2  edu_2  edu_3  edu_4  marriage_2.0  marriage_3.0  \n",
       "0      0      0      0      0             0             0  \n",
       "1      0      0      1      0             0             0  \n",
       "2      1      0      1      0             0             0  \n",
       "3      1      0      0      0             1             0  \n",
       "4      1      1      0      0             0             0  "
      ]
     },
     "execution_count": 100,
     "metadata": {},
     "output_type": "execute_result"
    }
   ],
   "source": [
    "df_target.drop(columns = ['Unnamed: 0'], inplace = True)\n",
    "df_target.head()"
   ]
  },
  {
   "cell_type": "code",
   "execution_count": 56,
   "metadata": {
    "scrolled": true
   },
   "outputs": [
    {
     "data": {
      "text/html": [
       "<div>\n",
       "<style scoped>\n",
       "    .dataframe tbody tr th:only-of-type {\n",
       "        vertical-align: middle;\n",
       "    }\n",
       "\n",
       "    .dataframe tbody tr th {\n",
       "        vertical-align: top;\n",
       "    }\n",
       "\n",
       "    .dataframe thead th {\n",
       "        text-align: right;\n",
       "    }\n",
       "</style>\n",
       "<table border=\"1\" class=\"dataframe\">\n",
       "  <thead>\n",
       "    <tr style=\"text-align: right;\">\n",
       "      <th></th>\n",
       "      <th>LIMIT_BAL</th>\n",
       "      <th>AGE</th>\n",
       "      <th>PAY_0</th>\n",
       "      <th>PAY_2</th>\n",
       "      <th>PAY_3</th>\n",
       "      <th>PAY_4</th>\n",
       "      <th>PAY_5</th>\n",
       "      <th>PAY_6</th>\n",
       "      <th>BILL_AMT1</th>\n",
       "      <th>BILL_AMT2</th>\n",
       "      <th>BILL_AMT3</th>\n",
       "      <th>BILL_AMT4</th>\n",
       "      <th>BILL_AMT5</th>\n",
       "      <th>BILL_AMT6</th>\n",
       "      <th>PAY_AMT1</th>\n",
       "      <th>PAY_AMT2</th>\n",
       "      <th>PAY_AMT3</th>\n",
       "      <th>PAY_AMT4</th>\n",
       "      <th>PAY_AMT5</th>\n",
       "      <th>PAY_AMT6</th>\n",
       "      <th>amount_owed6</th>\n",
       "      <th>amount_owed5</th>\n",
       "      <th>amount_owed4</th>\n",
       "      <th>amount_owed3</th>\n",
       "      <th>amount_owed2</th>\n",
       "      <th>sex_2</th>\n",
       "      <th>edu_2</th>\n",
       "      <th>edu_3</th>\n",
       "      <th>edu_4</th>\n",
       "      <th>marriage_2.0</th>\n",
       "      <th>marriage_3.0</th>\n",
       "      <th>age_2</th>\n",
       "      <th>age_3</th>\n",
       "      <th>age_4</th>\n",
       "      <th>age_5</th>\n",
       "      <th>age_6</th>\n",
       "    </tr>\n",
       "  </thead>\n",
       "  <tbody>\n",
       "    <tr>\n",
       "      <td>0</td>\n",
       "      <td>240000</td>\n",
       "      <td>44</td>\n",
       "      <td>-1</td>\n",
       "      <td>-1</td>\n",
       "      <td>-1</td>\n",
       "      <td>-1</td>\n",
       "      <td>-1</td>\n",
       "      <td>-1</td>\n",
       "      <td>4221</td>\n",
       "      <td>2188</td>\n",
       "      <td>2701</td>\n",
       "      <td>2427</td>\n",
       "      <td>1104</td>\n",
       "      <td>2362</td>\n",
       "      <td>2188</td>\n",
       "      <td>2701</td>\n",
       "      <td>2427</td>\n",
       "      <td>1104</td>\n",
       "      <td>2362</td>\n",
       "      <td>519</td>\n",
       "      <td>0</td>\n",
       "      <td>0</td>\n",
       "      <td>0</td>\n",
       "      <td>0</td>\n",
       "      <td>0</td>\n",
       "      <td>0</td>\n",
       "      <td>0</td>\n",
       "      <td>0</td>\n",
       "      <td>0</td>\n",
       "      <td>0</td>\n",
       "      <td>0</td>\n",
       "      <td>0</td>\n",
       "      <td>1</td>\n",
       "      <td>0</td>\n",
       "      <td>0</td>\n",
       "      <td>0</td>\n",
       "    </tr>\n",
       "    <tr>\n",
       "      <td>1</td>\n",
       "      <td>50000</td>\n",
       "      <td>41</td>\n",
       "      <td>0</td>\n",
       "      <td>0</td>\n",
       "      <td>0</td>\n",
       "      <td>0</td>\n",
       "      <td>0</td>\n",
       "      <td>0</td>\n",
       "      <td>49782</td>\n",
       "      <td>50741</td>\n",
       "      <td>48468</td>\n",
       "      <td>39203</td>\n",
       "      <td>28913</td>\n",
       "      <td>26636</td>\n",
       "      <td>1816</td>\n",
       "      <td>1753</td>\n",
       "      <td>1433</td>\n",
       "      <td>990</td>\n",
       "      <td>967</td>\n",
       "      <td>1071</td>\n",
       "      <td>25669</td>\n",
       "      <td>27923</td>\n",
       "      <td>37770</td>\n",
       "      <td>46715</td>\n",
       "      <td>48925</td>\n",
       "      <td>0</td>\n",
       "      <td>0</td>\n",
       "      <td>1</td>\n",
       "      <td>0</td>\n",
       "      <td>0</td>\n",
       "      <td>0</td>\n",
       "      <td>0</td>\n",
       "      <td>1</td>\n",
       "      <td>0</td>\n",
       "      <td>0</td>\n",
       "      <td>0</td>\n",
       "    </tr>\n",
       "    <tr>\n",
       "      <td>2</td>\n",
       "      <td>20000</td>\n",
       "      <td>41</td>\n",
       "      <td>0</td>\n",
       "      <td>0</td>\n",
       "      <td>0</td>\n",
       "      <td>0</td>\n",
       "      <td>0</td>\n",
       "      <td>0</td>\n",
       "      <td>8777</td>\n",
       "      <td>10461</td>\n",
       "      <td>11583</td>\n",
       "      <td>13079</td>\n",
       "      <td>14546</td>\n",
       "      <td>16149</td>\n",
       "      <td>2000</td>\n",
       "      <td>1600</td>\n",
       "      <td>2000</td>\n",
       "      <td>2000</td>\n",
       "      <td>2000</td>\n",
       "      <td>2000</td>\n",
       "      <td>14149</td>\n",
       "      <td>12546</td>\n",
       "      <td>11079</td>\n",
       "      <td>9983</td>\n",
       "      <td>8461</td>\n",
       "      <td>1</td>\n",
       "      <td>0</td>\n",
       "      <td>1</td>\n",
       "      <td>0</td>\n",
       "      <td>0</td>\n",
       "      <td>0</td>\n",
       "      <td>0</td>\n",
       "      <td>1</td>\n",
       "      <td>0</td>\n",
       "      <td>0</td>\n",
       "      <td>0</td>\n",
       "    </tr>\n",
       "    <tr>\n",
       "      <td>3</td>\n",
       "      <td>320000</td>\n",
       "      <td>34</td>\n",
       "      <td>-2</td>\n",
       "      <td>-2</td>\n",
       "      <td>-2</td>\n",
       "      <td>-2</td>\n",
       "      <td>-2</td>\n",
       "      <td>-2</td>\n",
       "      <td>-532</td>\n",
       "      <td>-532</td>\n",
       "      <td>-528</td>\n",
       "      <td>-1336</td>\n",
       "      <td>-1336</td>\n",
       "      <td>-1336</td>\n",
       "      <td>0</td>\n",
       "      <td>4</td>\n",
       "      <td>0</td>\n",
       "      <td>0</td>\n",
       "      <td>0</td>\n",
       "      <td>0</td>\n",
       "      <td>-1336</td>\n",
       "      <td>-1336</td>\n",
       "      <td>-1336</td>\n",
       "      <td>-532</td>\n",
       "      <td>-532</td>\n",
       "      <td>1</td>\n",
       "      <td>0</td>\n",
       "      <td>0</td>\n",
       "      <td>0</td>\n",
       "      <td>1</td>\n",
       "      <td>0</td>\n",
       "      <td>1</td>\n",
       "      <td>0</td>\n",
       "      <td>0</td>\n",
       "      <td>0</td>\n",
       "      <td>0</td>\n",
       "    </tr>\n",
       "    <tr>\n",
       "      <td>4</td>\n",
       "      <td>120000</td>\n",
       "      <td>23</td>\n",
       "      <td>0</td>\n",
       "      <td>0</td>\n",
       "      <td>0</td>\n",
       "      <td>0</td>\n",
       "      <td>0</td>\n",
       "      <td>0</td>\n",
       "      <td>64049</td>\n",
       "      <td>65984</td>\n",
       "      <td>66825</td>\n",
       "      <td>68820</td>\n",
       "      <td>69776</td>\n",
       "      <td>71297</td>\n",
       "      <td>3000</td>\n",
       "      <td>2500</td>\n",
       "      <td>3100</td>\n",
       "      <td>2700</td>\n",
       "      <td>2800</td>\n",
       "      <td>2800</td>\n",
       "      <td>68497</td>\n",
       "      <td>67076</td>\n",
       "      <td>65720</td>\n",
       "      <td>64325</td>\n",
       "      <td>62984</td>\n",
       "      <td>1</td>\n",
       "      <td>1</td>\n",
       "      <td>0</td>\n",
       "      <td>0</td>\n",
       "      <td>0</td>\n",
       "      <td>0</td>\n",
       "      <td>0</td>\n",
       "      <td>0</td>\n",
       "      <td>0</td>\n",
       "      <td>0</td>\n",
       "      <td>0</td>\n",
       "    </tr>\n",
       "  </tbody>\n",
       "</table>\n",
       "</div>"
      ],
      "text/plain": [
       "   LIMIT_BAL  AGE  PAY_0  PAY_2  PAY_3  PAY_4  PAY_5  PAY_6  BILL_AMT1  \\\n",
       "0     240000   44     -1     -1     -1     -1     -1     -1       4221   \n",
       "1      50000   41      0      0      0      0      0      0      49782   \n",
       "2      20000   41      0      0      0      0      0      0       8777   \n",
       "3     320000   34     -2     -2     -2     -2     -2     -2       -532   \n",
       "4     120000   23      0      0      0      0      0      0      64049   \n",
       "\n",
       "   BILL_AMT2  BILL_AMT3  BILL_AMT4  BILL_AMT5  BILL_AMT6  PAY_AMT1  PAY_AMT2  \\\n",
       "0       2188       2701       2427       1104       2362      2188      2701   \n",
       "1      50741      48468      39203      28913      26636      1816      1753   \n",
       "2      10461      11583      13079      14546      16149      2000      1600   \n",
       "3       -532       -528      -1336      -1336      -1336         0         4   \n",
       "4      65984      66825      68820      69776      71297      3000      2500   \n",
       "\n",
       "   PAY_AMT3  PAY_AMT4  PAY_AMT5  PAY_AMT6  amount_owed6  amount_owed5  \\\n",
       "0      2427      1104      2362       519             0             0   \n",
       "1      1433       990       967      1071         25669         27923   \n",
       "2      2000      2000      2000      2000         14149         12546   \n",
       "3         0         0         0         0         -1336         -1336   \n",
       "4      3100      2700      2800      2800         68497         67076   \n",
       "\n",
       "   amount_owed4  amount_owed3  amount_owed2  sex_2  edu_2  edu_3  edu_4  \\\n",
       "0             0             0             0      0      0      0      0   \n",
       "1         37770         46715         48925      0      0      1      0   \n",
       "2         11079          9983          8461      1      0      1      0   \n",
       "3         -1336          -532          -532      1      0      0      0   \n",
       "4         65720         64325         62984      1      1      0      0   \n",
       "\n",
       "   marriage_2.0  marriage_3.0  age_2  age_3  age_4  age_5  age_6  \n",
       "0             0             0      0      1      0      0      0  \n",
       "1             0             0      0      1      0      0      0  \n",
       "2             0             0      0      1      0      0      0  \n",
       "3             1             0      1      0      0      0      0  \n",
       "4             0             0      0      0      0      0      0  "
      ]
     },
     "execution_count": 56,
     "metadata": {},
     "output_type": "execute_result"
    }
   ],
   "source": [
    "from cleaning import clean_data\n",
    "clean_data(df_target)"
   ]
  },
  {
   "cell_type": "code",
   "execution_count": 81,
   "metadata": {},
   "outputs": [],
   "source": [
    "sex_dummies = pd.get_dummies(df_target['SEX'], prefix='sex', drop_first=True)\n",
    "education_dummies = pd.get_dummies(df_target['EDUCATION'], prefix = 'edu', drop_first = True)\n",
    "marriage_dummies = pd.get_dummies(df_target['MARRIAGE'], prefix = 'marriage', drop_first = True)\n",
    "\n",
    "df_target = df_target.drop(['SEX', 'EDUCATION', 'MARRIAGE'], axis=1)\n",
    "df_target = pd.concat([df_target, sex_dummies], axis=1)\n",
    "df_target = pd.concat([df_target, education_dummies], axis=1)\n",
    "df_target = pd.concat([df_target, marriage_dummies], axis=1)"
   ]
  },
  {
   "cell_type": "code",
   "execution_count": 101,
   "metadata": {},
   "outputs": [],
   "source": [
    "preds = clf_cv.predict(df_target)"
   ]
  },
  {
   "cell_type": "code",
   "execution_count": 103,
   "metadata": {},
   "outputs": [],
   "source": [
    "pred_df = pd.DataFrame(preds)\n"
   ]
  },
  {
   "cell_type": "code",
   "execution_count": 104,
   "metadata": {},
   "outputs": [
    {
     "data": {
      "text/html": [
       "<div>\n",
       "<style scoped>\n",
       "    .dataframe tbody tr th:only-of-type {\n",
       "        vertical-align: middle;\n",
       "    }\n",
       "\n",
       "    .dataframe tbody tr th {\n",
       "        vertical-align: top;\n",
       "    }\n",
       "\n",
       "    .dataframe thead th {\n",
       "        text-align: right;\n",
       "    }\n",
       "</style>\n",
       "<table border=\"1\" class=\"dataframe\">\n",
       "  <thead>\n",
       "    <tr style=\"text-align: right;\">\n",
       "      <th></th>\n",
       "      <th>0</th>\n",
       "    </tr>\n",
       "  </thead>\n",
       "  <tbody>\n",
       "    <tr>\n",
       "      <td>0</td>\n",
       "      <td>0.0</td>\n",
       "    </tr>\n",
       "    <tr>\n",
       "      <td>1</td>\n",
       "      <td>0.0</td>\n",
       "    </tr>\n",
       "    <tr>\n",
       "      <td>2</td>\n",
       "      <td>0.0</td>\n",
       "    </tr>\n",
       "    <tr>\n",
       "      <td>3</td>\n",
       "      <td>0.0</td>\n",
       "    </tr>\n",
       "    <tr>\n",
       "      <td>4</td>\n",
       "      <td>0.0</td>\n",
       "    </tr>\n",
       "    <tr>\n",
       "      <td>...</td>\n",
       "      <td>...</td>\n",
       "    </tr>\n",
       "    <tr>\n",
       "      <td>5996</td>\n",
       "      <td>1.0</td>\n",
       "    </tr>\n",
       "    <tr>\n",
       "      <td>5997</td>\n",
       "      <td>1.0</td>\n",
       "    </tr>\n",
       "    <tr>\n",
       "      <td>5998</td>\n",
       "      <td>1.0</td>\n",
       "    </tr>\n",
       "    <tr>\n",
       "      <td>5999</td>\n",
       "      <td>0.0</td>\n",
       "    </tr>\n",
       "    <tr>\n",
       "      <td>6000</td>\n",
       "      <td>1.0</td>\n",
       "    </tr>\n",
       "  </tbody>\n",
       "</table>\n",
       "<p>6001 rows × 1 columns</p>\n",
       "</div>"
      ],
      "text/plain": [
       "        0\n",
       "0     0.0\n",
       "1     0.0\n",
       "2     0.0\n",
       "3     0.0\n",
       "4     0.0\n",
       "...   ...\n",
       "5996  1.0\n",
       "5997  1.0\n",
       "5998  1.0\n",
       "5999  0.0\n",
       "6000  1.0\n",
       "\n",
       "[6001 rows x 1 columns]"
      ]
     },
     "execution_count": 104,
     "metadata": {},
     "output_type": "execute_result"
    }
   ],
   "source": [
    "pred_df"
   ]
  },
  {
   "cell_type": "code",
   "execution_count": 105,
   "metadata": {},
   "outputs": [],
   "source": [
    "pred_df.to_csv('default_preds_ohma.csv', index = False, header = False)"
   ]
  },
  {
   "cell_type": "code",
   "execution_count": null,
   "metadata": {},
   "outputs": [],
   "source": []
  }
 ],
 "metadata": {
  "kernelspec": {
   "display_name": "Python 3",
   "language": "python",
   "name": "python3"
  },
  "language_info": {
   "codemirror_mode": {
    "name": "ipython",
    "version": 3
   },
   "file_extension": ".py",
   "mimetype": "text/x-python",
   "name": "python",
   "nbconvert_exporter": "python",
   "pygments_lexer": "ipython3",
   "version": "3.7.4"
  },
  "toc": {
   "base_numbering": 1,
   "nav_menu": {},
   "number_sections": true,
   "sideBar": true,
   "skip_h1_title": false,
   "title_cell": "Table of Contents",
   "title_sidebar": "Contents",
   "toc_cell": false,
   "toc_position": {},
   "toc_section_display": true,
   "toc_window_display": false
  },
  "varInspector": {
   "cols": {
    "lenName": 16,
    "lenType": 16,
    "lenVar": 40
   },
   "kernels_config": {
    "python": {
     "delete_cmd_postfix": "",
     "delete_cmd_prefix": "del ",
     "library": "var_list.py",
     "varRefreshCmd": "print(var_dic_list())"
    },
    "r": {
     "delete_cmd_postfix": ") ",
     "delete_cmd_prefix": "rm(",
     "library": "var_list.r",
     "varRefreshCmd": "cat(var_dic_list()) "
    }
   },
   "types_to_exclude": [
    "module",
    "function",
    "builtin_function_or_method",
    "instance",
    "_Feature"
   ],
   "window_display": false
  }
 },
 "nbformat": 4,
 "nbformat_minor": 2
}
