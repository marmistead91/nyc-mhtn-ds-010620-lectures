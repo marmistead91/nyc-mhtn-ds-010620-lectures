{
 "cells": [
  {
   "cell_type": "code",
   "execution_count": 1,
   "metadata": {},
   "outputs": [],
   "source": [
    "from sklearn.model_selection import train_test_split\n",
    "import pandas as pd\n"
   ]
  },
  {
   "cell_type": "code",
   "execution_count": 5,
   "metadata": {},
   "outputs": [],
   "source": [
    "def clean_data(df):\n",
    "    df.drop(columns =['Unnamed: 0'], inplace = True)\n",
    "#create amount owed columns\n",
    "    df['amount_owed6'] = df['BILL_AMT6']- df['PAY_AMT5']\n",
    "    df['amount_owed5'] = df['BILL_AMT5']- df['PAY_AMT4']\n",
    "    df['amount_owed4'] = df['BILL_AMT4']- df['PAY_AMT3']\n",
    "    df['amount_owed3'] = df['BILL_AMT3']- df['PAY_AMT2']\n",
    "    df['amount_owed2'] = df['BILL_AMT2']- df['PAY_AMT1']\n",
    "# clean education\n",
    "    df.loc[(df['EDUCATION'] == 0) | (df['EDUCATION'] == 5) | (df['EDUCATION'] == 6), 'EDUCATION'] = 4\n",
    "# drop ID column\n",
    "    df.drop(columns = 'ID', inplace = True)\n",
    "# moved unknown variable to other\n",
    "    df.MARRIAGE.replace(0.0, 3.0, inplace =True)\n",
    "#creates a column of 0\n",
    "\n",
    "    df['AgeBin'] = 0 \n",
    "    df.loc[((df['AGE'] > 20) & (df['AGE'] < 30)) , 'AgeBin'] = 1\n",
    "    df.loc[((df['AGE'] >= 30) & (df['AGE'] < 40)) , 'AgeBin'] = 2\n",
    "    df.loc[((df['AGE'] >= 40) & (df['AGE'] < 50)) , 'AgeBin'] = 3\n",
    "    df.loc[((df['AGE'] >= 50) & (df['AGE'] < 60)) , 'AgeBin'] = 4\n",
    "    df.loc[((df['AGE'] >= 60) & (df['AGE'] < 70)) , 'AgeBin'] = 5\n",
    "    df.loc[((df['AGE'] >= 70) & (df['AGE'] < 81)) , 'AgeBin'] = 6\n",
    "# create dummies \n",
    "    sex_dummies = pd.get_dummies(df['SEX'], prefix='sex', drop_first=True)\n",
    "    education_dummies = pd.get_dummies(df['EDUCATION'], prefix = 'edu', drop_first = True)\n",
    "    marriage_dummies = pd.get_dummies(df['MARRIAGE'], prefix = 'marriage', drop_first = True)\n",
    "    age_dummies = pd.get_dummies(df['AgeBin'], prefix = 'age', drop_first = True)\n",
    "\n",
    "    df = df.drop(['SEX', 'EDUCATION', 'MARRIAGE', 'AgeBin'], axis=1)\n",
    "    df = pd.concat([df, sex_dummies], axis=1)\n",
    "    df = pd.concat([df, education_dummies], axis=1)\n",
    "    df = pd.concat([df, marriage_dummies], axis=1)\n",
    "    df = pd.concat([df, age_dummies], axis=1)\n",
    "    \n",
    "    return df.head() "
   ]
  },
  {
   "cell_type": "code",
   "execution_count": 3,
   "metadata": {},
   "outputs": [],
   "source": [
    "def get_variables(df):\n",
    "    X = df.drop('default payment next month', axis = 1)\n",
    "    y= df['default payment next month']\n",
    "    return X,y\n"
   ]
  },
  {
   "cell_type": "code",
   "execution_count": 4,
   "metadata": {},
   "outputs": [],
   "source": [
    "def testing_variables(X, y, random_state = 1):\n",
    "    X_train, X_test, y_train, y_test = train_test_split(X, y, random_state = 1)\n",
    "    return X_train, X_test, y_train, y_test"
   ]
  },
  {
   "cell_type": "code",
   "execution_count": null,
   "metadata": {},
   "outputs": [],
   "source": []
  }
 ],
 "metadata": {
  "kernelspec": {
   "display_name": "Python 3",
   "language": "python",
   "name": "python3"
  },
  "language_info": {
   "codemirror_mode": {
    "name": "ipython",
    "version": 3
   },
   "file_extension": ".py",
   "mimetype": "text/x-python",
   "name": "python",
   "nbconvert_exporter": "python",
   "pygments_lexer": "ipython3",
   "version": "3.7.4"
  },
  "toc": {
   "base_numbering": 1,
   "nav_menu": {},
   "number_sections": true,
   "sideBar": true,
   "skip_h1_title": false,
   "title_cell": "Table of Contents",
   "title_sidebar": "Contents",
   "toc_cell": false,
   "toc_position": {},
   "toc_section_display": true,
   "toc_window_display": false
  },
  "varInspector": {
   "cols": {
    "lenName": 16,
    "lenType": 16,
    "lenVar": 40
   },
   "kernels_config": {
    "python": {
     "delete_cmd_postfix": "",
     "delete_cmd_prefix": "del ",
     "library": "var_list.py",
     "varRefreshCmd": "print(var_dic_list())"
    },
    "r": {
     "delete_cmd_postfix": ") ",
     "delete_cmd_prefix": "rm(",
     "library": "var_list.r",
     "varRefreshCmd": "cat(var_dic_list()) "
    }
   },
   "types_to_exclude": [
    "module",
    "function",
    "builtin_function_or_method",
    "instance",
    "_Feature"
   ],
   "window_display": false
  }
 },
 "nbformat": 4,
 "nbformat_minor": 2
}
