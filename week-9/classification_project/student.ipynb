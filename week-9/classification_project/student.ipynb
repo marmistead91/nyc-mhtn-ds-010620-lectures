{
 "cells": [
  {
   "cell_type": "markdown",
   "metadata": {},
   "source": [
    "## Final Project Submission\n",
    "\n",
    "Please fill out:\n",
    "* Student name: \n",
    "* Student pace: self paced / part time / full time\n",
    "* Scheduled project review date/time: \n",
    "* Instructor name: \n",
    "* Blog post URL:\n"
   ]
  },
  {
   "cell_type": "code",
   "execution_count": null,
   "metadata": {},
   "outputs": [],
   "source": [
    "# Your code here - remember to use markdown cells for comments as well!b"
   ]
  },
  {
   "cell_type": "code",
   "execution_count": 363,
   "metadata": {},
   "outputs": [],
   "source": [
    "import pandas as pd\n",
    "import re\n",
    "import numpy as np\n",
    "import matplotlib.pyplot as plt\n",
    "\n",
    "from statsmodels.formula.api import ols\n",
    "import statsmodels.api as sm\n",
    "\n",
    "%matplotlib inline"
   ]
  },
  {
   "cell_type": "code",
   "execution_count": 324,
   "metadata": {},
   "outputs": [],
   "source": [
    "def read_and_concat(file):\n",
    "    finaldf = pd.read_csv('nfl-combine/2000Offense.csv')\n",
    "    for i in file:\n",
    "        df = pd.read_csv(i)\n",
    "        finaldf = finaldf.append(df)\n",
    "        finaldf.reset_index(drop=True, inplace = True)\n",
    "    return finaldf"
   ]
  },
  {
   "cell_type": "code",
   "execution_count": 325,
   "metadata": {},
   "outputs": [],
   "source": [
    "draft = ['nfl-combine/2000Defense.csv',\n",
    "'nfl-combine/2001Defense.csv',\n",
    "'nfl-combine/2001Offense.csv',\n",
    "'nfl-combine/2002Defense.csv',\n",
    "'nfl-combine/2002Offense.csv',\n",
    "'nfl-combine/2003Defense.csv',\n",
    "'nfl-combine/2003Offense.csv',\n",
    "'nfl-combine/2004Offense.csv',\n",
    "'nfl-combine/2005Defense.csv',\n",
    "'nfl-combine/2005Offense.csv',\n",
    "'nfl-combine/2006Defense.csv',\n",
    "'nfl-combine/2006Offense.csv',\n",
    "'nfl-combine/2007Defense.csv',\n",
    "'nfl-combine/2007Offense.csv',\n",
    "'nfl-combine/2008Defense.csv',\n",
    "'nfl-combine/2008Offense.csv',\n",
    "'nfl-combine/2009Defense.csv',\n",
    "'nfl-combine/2009Offense.csv',\n",
    "'nfl-combine/2010Defense.csv',\n",
    "'nfl-combine/2010Offense.csv',\n",
    "'nfl-combine/2011Defense.csv',\n",
    "'nfl-combine/2011Offense.csv',\n",
    "'nfl-combine/2012Defense.csv',\n",
    "'nfl-combine/2012Offense.csv',\n",
    "'nfl-combine/2013Defense.csv',\n",
    "'nfl-combine/2013Offense.csv',\n",
    "'nfl-combine/2014Defense.csv',\n",
    "'nfl-combine/2014Offense.csv',\n",
    "'nfl-combine/2015Defense.csv',\n",
    "'nfl-combine/2015Offense.csv',\n",
    "'nfl-combine/2016Defense.csv',\n",
    "'nfl-combine/2016Offense.csv',\n",
    "'nfl-combine/2017Defense.csv',\n",
    "'nfl-combine/2017Offense.csv']"
   ]
  },
  {
   "cell_type": "code",
   "execution_count": 326,
   "metadata": {},
   "outputs": [],
   "source": [
    "df = read_and_concat(draft)"
   ]
  },
  {
   "cell_type": "code",
   "execution_count": 365,
   "metadata": {},
   "outputs": [
    {
     "data": {
      "text/html": [
       "<div>\n",
       "<style scoped>\n",
       "    .dataframe tbody tr th:only-of-type {\n",
       "        vertical-align: middle;\n",
       "    }\n",
       "\n",
       "    .dataframe tbody tr th {\n",
       "        vertical-align: top;\n",
       "    }\n",
       "\n",
       "    .dataframe thead th {\n",
       "        text-align: right;\n",
       "    }\n",
       "</style>\n",
       "<table border=\"1\" class=\"dataframe\">\n",
       "  <thead>\n",
       "    <tr style=\"text-align: right;\">\n",
       "      <th></th>\n",
       "      <th>Year</th>\n",
       "      <th>Pos</th>\n",
       "      <th>School</th>\n",
       "      <th>Height</th>\n",
       "      <th>Wt</th>\n",
       "      <th>40YD</th>\n",
       "      <th>Vertical</th>\n",
       "      <th>BenchReps</th>\n",
       "      <th>Broad_Jump</th>\n",
       "      <th>3Cone</th>\n",
       "      <th>Shuttle</th>\n",
       "      <th>DraftRd</th>\n",
       "      <th>Drafted</th>\n",
       "    </tr>\n",
       "  </thead>\n",
       "  <tbody>\n",
       "    <tr>\n",
       "      <td>0</td>\n",
       "      <td>2000</td>\n",
       "      <td>WR</td>\n",
       "      <td>Iowa</td>\n",
       "      <td>75</td>\n",
       "      <td>191</td>\n",
       "      <td>4.53</td>\n",
       "      <td>33.0</td>\n",
       "      <td>NaN</td>\n",
       "      <td>130.0</td>\n",
       "      <td>7.09</td>\n",
       "      <td>4.18</td>\n",
       "      <td>8</td>\n",
       "      <td>0</td>\n",
       "    </tr>\n",
       "    <tr>\n",
       "      <td>1</td>\n",
       "      <td>2000</td>\n",
       "      <td>QB</td>\n",
       "      <td>Texas State</td>\n",
       "      <td>75</td>\n",
       "      <td>229</td>\n",
       "      <td>4.91</td>\n",
       "      <td>34.0</td>\n",
       "      <td>NaN</td>\n",
       "      <td>108.0</td>\n",
       "      <td>7.71</td>\n",
       "      <td>4.59</td>\n",
       "      <td>6</td>\n",
       "      <td>1</td>\n",
       "    </tr>\n",
       "    <tr>\n",
       "      <td>2</td>\n",
       "      <td>2000</td>\n",
       "      <td>WR</td>\n",
       "      <td>Marshall</td>\n",
       "      <td>71</td>\n",
       "      <td>180</td>\n",
       "      <td>4.59</td>\n",
       "      <td>36.0</td>\n",
       "      <td>NaN</td>\n",
       "      <td>123.0</td>\n",
       "      <td>7.22</td>\n",
       "      <td>4.16</td>\n",
       "      <td>6</td>\n",
       "      <td>1</td>\n",
       "    </tr>\n",
       "    <tr>\n",
       "      <td>3</td>\n",
       "      <td>2000</td>\n",
       "      <td>OT</td>\n",
       "      <td>Arkansas</td>\n",
       "      <td>76</td>\n",
       "      <td>332</td>\n",
       "      <td>5.26</td>\n",
       "      <td>29.0</td>\n",
       "      <td>28.0</td>\n",
       "      <td>97.0</td>\n",
       "      <td>7.78</td>\n",
       "      <td>4.72</td>\n",
       "      <td>2</td>\n",
       "      <td>1</td>\n",
       "    </tr>\n",
       "    <tr>\n",
       "      <td>4</td>\n",
       "      <td>2000</td>\n",
       "      <td>RB</td>\n",
       "      <td>Ohio State</td>\n",
       "      <td>71</td>\n",
       "      <td>193</td>\n",
       "      <td>4.50</td>\n",
       "      <td>NaN</td>\n",
       "      <td>NaN</td>\n",
       "      <td>NaN</td>\n",
       "      <td>NaN</td>\n",
       "      <td>NaN</td>\n",
       "      <td>5</td>\n",
       "      <td>1</td>\n",
       "    </tr>\n",
       "  </tbody>\n",
       "</table>\n",
       "</div>"
      ],
      "text/plain": [
       "   Year Pos       School  Height   Wt  40YD  Vertical  BenchReps  Broad_Jump  \\\n",
       "0  2000  WR         Iowa      75  191  4.53      33.0        NaN       130.0   \n",
       "1  2000  QB  Texas State      75  229  4.91      34.0        NaN       108.0   \n",
       "2  2000  WR     Marshall      71  180  4.59      36.0        NaN       123.0   \n",
       "3  2000  OT     Arkansas      76  332  5.26      29.0       28.0        97.0   \n",
       "4  2000  RB   Ohio State      71  193  4.50       NaN        NaN         NaN   \n",
       "\n",
       "   3Cone  Shuttle  DraftRd  Drafted  \n",
       "0   7.09     4.18        8        0  \n",
       "1   7.71     4.59        6        1  \n",
       "2   7.22     4.16        6        1  \n",
       "3   7.78     4.72        2        1  \n",
       "4    NaN      NaN        5        1  "
      ]
     },
     "execution_count": 365,
     "metadata": {},
     "output_type": "execute_result"
    }
   ],
   "source": [
    "df.head()"
   ]
  },
  {
   "cell_type": "code",
   "execution_count": 327,
   "metadata": {},
   "outputs": [],
   "source": [
    "df.drop(columns = ['Rk', 'College', 'Player', 'AV'], inplace = True)"
   ]
  },
  {
   "cell_type": "code",
   "execution_count": 423,
   "metadata": {
    "scrolled": true
   },
   "outputs": [],
   "source": [
    "df = df.rename(columns = {'Broad Jump':'Broad_Jump', '40YD': 'Forty', '3Cone': 'Cone'})"
   ]
  },
  {
   "cell_type": "code",
   "execution_count": 328,
   "metadata": {},
   "outputs": [],
   "source": [
    "def convert_height(x):\n",
    "    feet = x.split(\"-\")[0]\n",
    "    inches = x.split(\"-\")[1]\n",
    "    height = (int(feet) * 12) + int(inches)\n",
    "    return height\n",
    "df['Height'] = df['Height'].apply(convert_height)"
   ]
  },
  {
   "cell_type": "code",
   "execution_count": 329,
   "metadata": {
    "scrolled": true
   },
   "outputs": [],
   "source": [
    "df[\"Drafted (tm/rnd/yr)\"] = df[\"Drafted (tm/rnd/yr)\"].where(pd.notnull(df[\"Drafted (tm/rnd/yr)\"]), None)\n",
    "df[\"DraftRd\"] = [x.split(\" / \")[1] if x != None else None for x in df[\"Drafted (tm/rnd/yr)\"]]\n",
    "df[\"DraftRd\"] = df[\"DraftRd\"].str.replace('[a-zA-Z]+', '')\n",
    "df = df.drop([\"Drafted (tm/rnd/yr)\"], axis=1)"
   ]
  },
  {
   "cell_type": "code",
   "execution_count": 330,
   "metadata": {},
   "outputs": [],
   "source": [
    "df['DraftRd'] = df['DraftRd'].fillna(8)\n",
    "df = df.apply(pd.to_numeric, errors='ignore')\n",
    "\n",
    "df['Drafted'] = df['DraftRd'].apply(lambda x: 0 if x == 8 else 1)\n"
   ]
  },
  {
   "cell_type": "code",
   "execution_count": 424,
   "metadata": {},
   "outputs": [],
   "source": [
    "df2 = df"
   ]
  },
  {
   "cell_type": "code",
   "execution_count": 425,
   "metadata": {},
   "outputs": [
    {
     "data": {
      "text/plain": [
       "Index(['Year', 'Pos', 'School', 'Height', 'Wt', 'Forty', 'Vertical',\n",
       "       'BenchReps', 'Broad_Jump', 'Cone', 'Shuttle', 'DraftRd', 'Drafted'],\n",
       "      dtype='object')"
      ]
     },
     "execution_count": 425,
     "metadata": {},
     "output_type": "execute_result"
    }
   ],
   "source": [
    "df2.columns"
   ]
  },
  {
   "cell_type": "markdown",
   "metadata": {},
   "source": [
    "## Statistic Tests"
   ]
  },
  {
   "cell_type": "code",
   "execution_count": 351,
   "metadata": {},
   "outputs": [],
   "source": [
    "tests = ['Forty', 'Vertical', 'BenchReps', 'Broad_Jump', 'Cone', 'Shuttle']"
   ]
  },
  {
   "cell_type": "code",
   "execution_count": 352,
   "metadata": {
    "collapsed": true
   },
   "outputs": [
    {
     "data": {
      "image/png": "[encoded data removed]",
      "text/plain": [
       "<Figure size 432x432 with 1 Axes>"
      ]
     },
     "metadata": {
      "needs_background": "light"
     },
     "output_type": "display_data"
    },
    {
     "data": {
      "image/png": "[encoded data removed]",
      "text/plain": [
       "<Figure size 432x432 with 1 Axes>"
      ]
     },
     "metadata": {
      "needs_background": "light"
     },
     "output_type": "display_data"
    },
    {
     "data": {
      "image/png": "[encoded data removed]",
      "text/plain": [
       "<Figure size 432x432 with 1 Axes>"
      ]
     },
     "metadata": {
      "needs_background": "light"
     },
     "output_type": "display_data"
    },
    {
     "data": {
      "image/png": "[encoded data removed]",
      "text/plain": [
       "<Figure size 432x432 with 1 Axes>"
      ]
     },
     "metadata": {
      "needs_background": "light"
     },
     "output_type": "display_data"
    },
    {
     "data": {
      "image/png": "[encoded data removed]",
      "text/plain": [
       "<Figure size 432x432 with 1 Axes>"
      ]
     },
     "metadata": {
      "needs_background": "light"
     },
     "output_type": "display_data"
    },
    {
     "data": {
      "image/png": "[encoded data removed]",
      "text/plain": [
       "<Figure size 432x432 with 1 Axes>"
      ]
     },
     "metadata": {
      "needs_background": "light"
     },
     "output_type": "display_data"
    }
   ],
   "source": [
    "for col in tests:\n",
    "    df2.boxplot(col, by='Drafted', figsize=(6,6))"
   ]
  },
  {
   "cell_type": "code",
   "execution_count": 426,
   "metadata": {},
   "outputs": [
    {
     "name": "stdout",
     "output_type": "stream",
     "text": [
      "                df      sum_sq    mean_sq          F        PR(>F)\n",
      "Vertical       1.0   10.724929  10.724929  51.457924  9.527918e-13\n",
      "BenchReps      1.0   17.640765  17.640765  84.639926  7.200265e-20\n",
      "Broad_Jump     1.0    4.789243   4.789243  22.978660  1.731587e-06\n",
      "Shuttle        1.0    1.408306   1.408306   6.757014  9.391478e-03\n",
      "Forty          1.0    3.332972   3.332972  15.991510  6.542368e-05\n",
      "Cone           1.0    0.082749   0.082749   0.397029  5.286837e-01\n",
      "Residual    2567.0  535.017540   0.208421        NaN           NaN\n"
     ]
    }
   ],
   "source": [
    "# ANOVA\n",
    "anova_skills = ols('Drafted ~ Vertical + BenchReps + Broad_Jump + Shuttle + Forty + Cone', data=df2).fit()\n",
    "anova_table = sm.stats.anova_lm(anova_skills, type=2)\n",
    "print(anova_table)"
   ]
  },
  {
   "cell_type": "code",
   "execution_count": 361,
   "metadata": {
    "scrolled": true
   },
   "outputs": [
    {
     "data": {
      "text/html": [
       "<div>\n",
       "<style scoped>\n",
       "    .dataframe tbody tr th:only-of-type {\n",
       "        vertical-align: middle;\n",
       "    }\n",
       "\n",
       "    .dataframe tbody tr th {\n",
       "        vertical-align: top;\n",
       "    }\n",
       "\n",
       "    .dataframe thead th {\n",
       "        text-align: right;\n",
       "    }\n",
       "</style>\n",
       "<table border=\"1\" class=\"dataframe\">\n",
       "  <thead>\n",
       "    <tr style=\"text-align: right;\">\n",
       "      <th></th>\n",
       "      <th>Year</th>\n",
       "      <th>Height</th>\n",
       "      <th>Wt</th>\n",
       "      <th>40YD</th>\n",
       "      <th>Vertical</th>\n",
       "      <th>BenchReps</th>\n",
       "      <th>Broad Jump</th>\n",
       "      <th>3Cone</th>\n",
       "      <th>Shuttle</th>\n",
       "      <th>DraftRd</th>\n",
       "      <th>Drafted</th>\n",
       "    </tr>\n",
       "  </thead>\n",
       "  <tbody>\n",
       "    <tr>\n",
       "      <td>Year</td>\n",
       "      <td>1.000000</td>\n",
       "      <td>0.005959</td>\n",
       "      <td>-0.011689</td>\n",
       "      <td>-0.111254</td>\n",
       "      <td>0.070951</td>\n",
       "      <td>0.101784</td>\n",
       "      <td>0.092472</td>\n",
       "      <td>0.018301</td>\n",
       "      <td>0.050215</td>\n",
       "      <td>-0.024324</td>\n",
       "      <td>0.030910</td>\n",
       "    </tr>\n",
       "    <tr>\n",
       "      <td>Height</td>\n",
       "      <td>0.005959</td>\n",
       "      <td>1.000000</td>\n",
       "      <td>0.711502</td>\n",
       "      <td>0.222091</td>\n",
       "      <td>-0.116391</td>\n",
       "      <td>0.135076</td>\n",
       "      <td>-0.109003</td>\n",
       "      <td>0.092749</td>\n",
       "      <td>0.093026</td>\n",
       "      <td>-0.061813</td>\n",
       "      <td>0.034558</td>\n",
       "    </tr>\n",
       "    <tr>\n",
       "      <td>Wt</td>\n",
       "      <td>-0.011689</td>\n",
       "      <td>0.711502</td>\n",
       "      <td>1.000000</td>\n",
       "      <td>0.349537</td>\n",
       "      <td>-0.145141</td>\n",
       "      <td>0.398454</td>\n",
       "      <td>-0.127339</td>\n",
       "      <td>0.123878</td>\n",
       "      <td>0.126994</td>\n",
       "      <td>-0.051364</td>\n",
       "      <td>0.042185</td>\n",
       "    </tr>\n",
       "    <tr>\n",
       "      <td>40YD</td>\n",
       "      <td>-0.111254</td>\n",
       "      <td>0.222091</td>\n",
       "      <td>0.349537</td>\n",
       "      <td>1.000000</td>\n",
       "      <td>0.060975</td>\n",
       "      <td>0.137151</td>\n",
       "      <td>0.083356</td>\n",
       "      <td>0.168416</td>\n",
       "      <td>0.174248</td>\n",
       "      <td>0.035273</td>\n",
       "      <td>-0.027035</td>\n",
       "    </tr>\n",
       "    <tr>\n",
       "      <td>Vertical</td>\n",
       "      <td>0.070951</td>\n",
       "      <td>-0.116391</td>\n",
       "      <td>-0.145141</td>\n",
       "      <td>0.060975</td>\n",
       "      <td>1.000000</td>\n",
       "      <td>0.176287</td>\n",
       "      <td>0.889448</td>\n",
       "      <td>0.625247</td>\n",
       "      <td>0.638768</td>\n",
       "      <td>-0.026400</td>\n",
       "      <td>0.057435</td>\n",
       "    </tr>\n",
       "    <tr>\n",
       "      <td>BenchReps</td>\n",
       "      <td>0.101784</td>\n",
       "      <td>0.135076</td>\n",
       "      <td>0.398454</td>\n",
       "      <td>0.137151</td>\n",
       "      <td>0.176287</td>\n",
       "      <td>1.000000</td>\n",
       "      <td>0.176992</td>\n",
       "      <td>0.207691</td>\n",
       "      <td>0.212082</td>\n",
       "      <td>-0.049855</td>\n",
       "      <td>0.083816</td>\n",
       "    </tr>\n",
       "    <tr>\n",
       "      <td>Broad Jump</td>\n",
       "      <td>0.092472</td>\n",
       "      <td>-0.109003</td>\n",
       "      <td>-0.127339</td>\n",
       "      <td>0.083356</td>\n",
       "      <td>0.889448</td>\n",
       "      <td>0.176992</td>\n",
       "      <td>1.000000</td>\n",
       "      <td>0.648425</td>\n",
       "      <td>0.659912</td>\n",
       "      <td>-0.010373</td>\n",
       "      <td>0.042469</td>\n",
       "    </tr>\n",
       "    <tr>\n",
       "      <td>3Cone</td>\n",
       "      <td>0.018301</td>\n",
       "      <td>0.092749</td>\n",
       "      <td>0.123878</td>\n",
       "      <td>0.168416</td>\n",
       "      <td>0.625247</td>\n",
       "      <td>0.207691</td>\n",
       "      <td>0.648425</td>\n",
       "      <td>1.000000</td>\n",
       "      <td>0.913052</td>\n",
       "      <td>0.030527</td>\n",
       "      <td>0.013117</td>\n",
       "    </tr>\n",
       "    <tr>\n",
       "      <td>Shuttle</td>\n",
       "      <td>0.050215</td>\n",
       "      <td>0.093026</td>\n",
       "      <td>0.126994</td>\n",
       "      <td>0.174248</td>\n",
       "      <td>0.638768</td>\n",
       "      <td>0.212082</td>\n",
       "      <td>0.659912</td>\n",
       "      <td>0.913052</td>\n",
       "      <td>1.000000</td>\n",
       "      <td>0.028033</td>\n",
       "      <td>0.007254</td>\n",
       "    </tr>\n",
       "    <tr>\n",
       "      <td>DraftRd</td>\n",
       "      <td>-0.024324</td>\n",
       "      <td>-0.061813</td>\n",
       "      <td>-0.051364</td>\n",
       "      <td>0.035273</td>\n",
       "      <td>-0.026400</td>\n",
       "      <td>-0.049855</td>\n",
       "      <td>-0.010373</td>\n",
       "      <td>0.030527</td>\n",
       "      <td>0.028033</td>\n",
       "      <td>1.000000</td>\n",
       "      <td>-0.786974</td>\n",
       "    </tr>\n",
       "    <tr>\n",
       "      <td>Drafted</td>\n",
       "      <td>0.030910</td>\n",
       "      <td>0.034558</td>\n",
       "      <td>0.042185</td>\n",
       "      <td>-0.027035</td>\n",
       "      <td>0.057435</td>\n",
       "      <td>0.083816</td>\n",
       "      <td>0.042469</td>\n",
       "      <td>0.013117</td>\n",
       "      <td>0.007254</td>\n",
       "      <td>-0.786974</td>\n",
       "      <td>1.000000</td>\n",
       "    </tr>\n",
       "  </tbody>\n",
       "</table>\n",
       "</div>"
      ],
      "text/plain": [
       "                Year    Height        Wt      40YD  Vertical  BenchReps  \\\n",
       "Year        1.000000  0.005959 -0.011689 -0.111254  0.070951   0.101784   \n",
       "Height      0.005959  1.000000  0.711502  0.222091 -0.116391   0.135076   \n",
       "Wt         -0.011689  0.711502  1.000000  0.349537 -0.145141   0.398454   \n",
       "40YD       -0.111254  0.222091  0.349537  1.000000  0.060975   0.137151   \n",
       "Vertical    0.070951 -0.116391 -0.145141  0.060975  1.000000   0.176287   \n",
       "BenchReps   0.101784  0.135076  0.398454  0.137151  0.176287   1.000000   \n",
       "Broad Jump  0.092472 -0.109003 -0.127339  0.083356  0.889448   0.176992   \n",
       "3Cone       0.018301  0.092749  0.123878  0.168416  0.625247   0.207691   \n",
       "Shuttle     0.050215  0.093026  0.126994  0.174248  0.638768   0.212082   \n",
       "DraftRd    -0.024324 -0.061813 -0.051364  0.035273 -0.026400  -0.049855   \n",
       "Drafted     0.030910  0.034558  0.042185 -0.027035  0.057435   0.083816   \n",
       "\n",
       "            Broad Jump     3Cone   Shuttle   DraftRd   Drafted  \n",
       "Year          0.092472  0.018301  0.050215 -0.024324  0.030910  \n",
       "Height       -0.109003  0.092749  0.093026 -0.061813  0.034558  \n",
       "Wt           -0.127339  0.123878  0.126994 -0.051364  0.042185  \n",
       "40YD          0.083356  0.168416  0.174248  0.035273 -0.027035  \n",
       "Vertical      0.889448  0.625247  0.638768 -0.026400  0.057435  \n",
       "BenchReps     0.176992  0.207691  0.212082 -0.049855  0.083816  \n",
       "Broad Jump    1.000000  0.648425  0.659912 -0.010373  0.042469  \n",
       "3Cone         0.648425  1.000000  0.913052  0.030527  0.013117  \n",
       "Shuttle       0.659912  0.913052  1.000000  0.028033  0.007254  \n",
       "DraftRd      -0.010373  0.030527  0.028033  1.000000 -0.786974  \n",
       "Drafted       0.042469  0.013117  0.007254 -0.786974  1.000000  "
      ]
     },
     "execution_count": 361,
     "metadata": {},
     "output_type": "execute_result"
    }
   ],
   "source": [
    "corr = df2.corr()\n",
    "corr"
   ]
  },
  {
   "cell_type": "code",
   "execution_count": null,
   "metadata": {},
   "outputs": [],
   "source": []
  },
  {
   "cell_type": "code",
   "execution_count": null,
   "metadata": {},
   "outputs": [],
   "source": []
  },
  {
   "cell_type": "code",
   "execution_count": null,
   "metadata": {},
   "outputs": [],
   "source": []
  },
  {
   "cell_type": "code",
   "execution_count": null,
   "metadata": {},
   "outputs": [],
   "source": []
  },
  {
   "cell_type": "code",
   "execution_count": null,
   "metadata": {},
   "outputs": [],
   "source": []
  },
  {
   "cell_type": "code",
   "execution_count": null,
   "metadata": {},
   "outputs": [],
   "source": []
  },
  {
   "cell_type": "code",
   "execution_count": null,
   "metadata": {},
   "outputs": [],
   "source": []
  },
  {
   "cell_type": "code",
   "execution_count": null,
   "metadata": {},
   "outputs": [],
   "source": [
    "\n",
    "# graphs\n",
    "# dummy school\n",
    "#dummy position\n",
    "# dummy year"
   ]
  }
 ],
 "metadata": {
  "kernelspec": {
   "display_name": "Python 3",
   "language": "python",
   "name": "python3"
  },
  "language_info": {
   "codemirror_mode": {
    "name": "ipython",
    "version": 3
   },
   "file_extension": ".py",
   "mimetype": "text/x-python",
   "name": "python",
   "nbconvert_exporter": "python",
   "pygments_lexer": "ipython3",
   "version": "3.7.4"
  },
  "toc": {
   "base_numbering": 1,
   "nav_menu": {},
   "number_sections": true,
   "sideBar": true,
   "skip_h1_title": false,
   "title_cell": "Table of Contents",
   "title_sidebar": "Contents",
   "toc_cell": false,
   "toc_position": {},
   "toc_section_display": true,
   "toc_window_display": false
  },
  "varInspector": {
   "cols": {
    "lenName": 16,
    "lenType": 16,
    "lenVar": 40
   },
   "kernels_config": {
    "python": {
     "delete_cmd_postfix": "",
     "delete_cmd_prefix": "del ",
     "library": "var_list.py",
     "varRefreshCmd": "print(var_dic_list())"
    },
    "r": {
     "delete_cmd_postfix": ") ",
     "delete_cmd_prefix": "rm(",
     "library": "var_list.r",
     "varRefreshCmd": "cat(var_dic_list()) "
    }
   },
   "types_to_exclude": [
    "module",
    "function",
    "builtin_function_or_method",
    "instance",
    "_Feature"
   ],
   "window_display": false
  }
 },
 "nbformat": 4,
 "nbformat_minor": 2
}
